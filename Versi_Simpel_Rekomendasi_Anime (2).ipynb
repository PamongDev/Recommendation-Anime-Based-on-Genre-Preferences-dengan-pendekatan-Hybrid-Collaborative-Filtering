{
  "cells": [
    {
      "cell_type": "code",
      "source": [
        "from google.colab import drive\n",
        "drive.mount('/content/drive')"
      ],
      "metadata": {
        "id": "hurvtx9icH9n",
        "colab": {
          "base_uri": "https://localhost:8080/"
        },
        "outputId": "34a2c851-23a3-49e0-de33-99bc7580bfc2"
      },
      "execution_count": null,
      "outputs": [
        {
          "output_type": "stream",
          "name": "stdout",
          "text": [
            "Mounted at /content/drive\n"
          ]
        }
      ]
    },
    {
      "cell_type": "markdown",
      "source": [
        "# Library"
      ],
      "metadata": {
        "id": "fiVP2XlObL_s"
      }
    },
    {
      "cell_type": "code",
      "execution_count": null,
      "metadata": {
        "id": "7s_pAfMTWnDw"
      },
      "outputs": [],
      "source": [
        "import pandas as pd\n",
        "import numpy as np\n",
        "from matplotlib import pyplot as plt\n",
        "import seaborn as sns\n",
        "import kagglehub\n",
        "import os\n",
        "import shutil\n",
        "from sklearn.cluster import KMeans\n",
        "from sklearn.preprocessing import MultiLabelBinarizer\n",
        "from sklearn.model_selection import train_test_split\n",
        "from sklearn.metrics import mean_squared_error\n",
        "from sklearn.metrics.pairwise import cosine_similarity\n",
        "import tensorflow as tf\n",
        "from tensorflow.keras.models import load_model, Model\n",
        "from tensorflow.keras.layers import Input, Embedding, Flatten, Dot\n",
        "from tensorflow.keras.optimizers import Adam"
      ]
    },
    {
      "cell_type": "markdown",
      "source": [
        "# Data Understanding"
      ],
      "metadata": {
        "id": "RwSjhvlebOnN"
      }
    },
    {
      "cell_type": "markdown",
      "source": [
        "Melakukan download data dari `Kaggle` dan memindahkan dataset menuju `/content`"
      ],
      "metadata": {
        "id": "k06gcSkrCQ-v"
      }
    },
    {
      "cell_type": "code",
      "execution_count": null,
      "metadata": {
        "colab": {
          "base_uri": "https://localhost:8080/"
        },
        "id": "OGXeDmhDRlil",
        "outputId": "8813a024-9548-4c62-9500-1261cf6acc13"
      },
      "outputs": [
        {
          "output_type": "stream",
          "name": "stdout",
          "text": [
            "Downloading from https://www.kaggle.com/api/v1/datasets/download/dbdmobile/myanimelist-dataset?dataset_version_number=5...\n"
          ]
        },
        {
          "output_type": "stream",
          "name": "stderr",
          "text": [
            "100%|██████████| 1.80G/1.80G [00:12<00:00, 152MB/s]"
          ]
        },
        {
          "output_type": "stream",
          "name": "stdout",
          "text": [
            "Extracting files...\n"
          ]
        },
        {
          "output_type": "stream",
          "name": "stderr",
          "text": [
            "\n"
          ]
        },
        {
          "output_type": "stream",
          "name": "stdout",
          "text": [
            "Original Path to dataset files: /root/.cache/kagglehub/datasets/dbdmobile/myanimelist-dataset/versions/5\n",
            "Files moved to: /content\n"
          ]
        }
      ],
      "source": [
        "# Download latest version\n",
        "path = kagglehub.dataset_download(\"dbdmobile/myanimelist-dataset\")\n",
        "\n",
        "print(\"Original Path to dataset files:\", path)\n",
        "\n",
        "# Get the destination directory\n",
        "destination_dir = \"/content\"\n",
        "\n",
        "# Iterate through the files and directories within the downloaded dataset\n",
        "for item in os.listdir(path):\n",
        "    source_item = os.path.join(path, item)\n",
        "    destination_item = os.path.join(destination_dir, item)\n",
        "\n",
        "    if os.path.isdir(source_item):\n",
        "        # For directories, use shutil.copytree to preserve directory structure\n",
        "        shutil.copytree(source_item, destination_item, dirs_exist_ok=True)\n",
        "    else:\n",
        "        # For files, use shutil.copy2 to preserve metadata\n",
        "        shutil.copy2(source_item, destination_item)\n",
        "\n",
        "print(f\"Files moved to: {destination_dir}\")\n"
      ]
    },
    {
      "cell_type": "code",
      "execution_count": null,
      "metadata": {
        "colab": {
          "base_uri": "https://localhost:8080/"
        },
        "id": "9sSMLH82Vye0",
        "outputId": "8ba7777c-4abd-4e6e-e199-b153ac5f2183"
      },
      "outputs": [
        {
          "output_type": "execute_result",
          "data": {
            "text/plain": [
              "['final_animedataset.csv',\n",
              " 'user-filtered.csv',\n",
              " 'users-details-2023.csv',\n",
              " 'anime-filtered.csv',\n",
              " 'users-score-2023.csv',\n",
              " 'anime-dataset-2023.csv']"
            ]
          },
          "metadata": {},
          "execution_count": 4
        }
      ],
      "source": [
        "data_path = os.listdir(\"/content\")[1:-2]\n",
        "data_path"
      ]
    },
    {
      "cell_type": "markdown",
      "source": [
        "## Information Data\n"
      ],
      "metadata": {
        "id": "jkk0IgZtbvKM"
      }
    },
    {
      "cell_type": "markdown",
      "source": [
        "Melihat Informasi setiap data"
      ],
      "metadata": {
        "id": "HQBuyN9IBnGR"
      }
    },
    {
      "cell_type": "markdown",
      "source": [
        "### Data Anime"
      ],
      "metadata": {
        "id": "98heboVjejhT"
      }
    },
    {
      "cell_type": "code",
      "execution_count": null,
      "metadata": {
        "id": "I60zZjHSpjaA",
        "colab": {
          "base_uri": "https://localhost:8080/"
        },
        "outputId": "295309af-80f5-46b5-82a4-61eeab491e1d"
      },
      "outputs": [
        {
          "output_type": "stream",
          "name": "stdout",
          "text": [
            "<class 'pandas.core.frame.DataFrame'>\n",
            "RangeIndex: 24905 entries, 0 to 24904\n",
            "Data columns (total 24 columns):\n",
            " #   Column        Non-Null Count  Dtype \n",
            "---  ------        --------------  ----- \n",
            " 0   anime_id      24905 non-null  int64 \n",
            " 1   Name          24905 non-null  object\n",
            " 2   English name  24905 non-null  object\n",
            " 3   Other name    24905 non-null  object\n",
            " 4   Score         24905 non-null  object\n",
            " 5   Genres        24905 non-null  object\n",
            " 6   Synopsis      24905 non-null  object\n",
            " 7   Type          24905 non-null  object\n",
            " 8   Episodes      24905 non-null  object\n",
            " 9   Aired         24905 non-null  object\n",
            " 10  Premiered     24905 non-null  object\n",
            " 11  Status        24905 non-null  object\n",
            " 12  Producers     24905 non-null  object\n",
            " 13  Licensors     24905 non-null  object\n",
            " 14  Studios       24905 non-null  object\n",
            " 15  Source        24905 non-null  object\n",
            " 16  Duration      24905 non-null  object\n",
            " 17  Rating        24905 non-null  object\n",
            " 18  Rank          24905 non-null  object\n",
            " 19  Popularity    24905 non-null  int64 \n",
            " 20  Favorites     24905 non-null  int64 \n",
            " 21  Scored By     24905 non-null  object\n",
            " 22  Members       24905 non-null  int64 \n",
            " 23  Image URL     24905 non-null  object\n",
            "dtypes: int64(4), object(20)\n",
            "memory usage: 4.6+ MB\n"
          ]
        }
      ],
      "source": [
        "anime_df = pd.read_csv('anime-dataset-2023.csv')\n",
        "anime_df.info()"
      ]
    },
    {
      "cell_type": "code",
      "source": [
        "anime_filter_df = pd.read_csv('anime-filtered.csv')\n",
        "anime_filter_df.info()"
      ],
      "metadata": {
        "id": "VEVsT1-Tb8PI",
        "colab": {
          "base_uri": "https://localhost:8080/"
        },
        "outputId": "bfdd7b56-d833-4281-8df2-1b0bf3a6018d"
      },
      "execution_count": null,
      "outputs": [
        {
          "output_type": "stream",
          "name": "stdout",
          "text": [
            "<class 'pandas.core.frame.DataFrame'>\n",
            "RangeIndex: 14952 entries, 0 to 14951\n",
            "Data columns (total 25 columns):\n",
            " #   Column         Non-Null Count  Dtype  \n",
            "---  ------         --------------  -----  \n",
            " 0   anime_id       14952 non-null  int64  \n",
            " 1   Name           14952 non-null  object \n",
            " 2   Score          14952 non-null  float64\n",
            " 3   Genres         14952 non-null  object \n",
            " 4   English name   14952 non-null  object \n",
            " 5   Japanese name  14952 non-null  object \n",
            " 6   sypnopsis      13602 non-null  object \n",
            " 7   Type           14952 non-null  object \n",
            " 8   Episodes       14952 non-null  object \n",
            " 9   Aired          14952 non-null  object \n",
            " 10  Premiered      14952 non-null  object \n",
            " 11  Producers      14952 non-null  object \n",
            " 12  Licensors      14952 non-null  object \n",
            " 13  Studios        14952 non-null  object \n",
            " 14  Source         14952 non-null  object \n",
            " 15  Duration       14952 non-null  object \n",
            " 16  Rating         14952 non-null  object \n",
            " 17  Ranked         13231 non-null  float64\n",
            " 18  Popularity     14952 non-null  int64  \n",
            " 19  Members        14952 non-null  int64  \n",
            " 20  Favorites      14952 non-null  int64  \n",
            " 21  Watching       14952 non-null  int64  \n",
            " 22  Completed      14952 non-null  int64  \n",
            " 23  On-Hold        14952 non-null  int64  \n",
            " 24  Dropped        14952 non-null  int64  \n",
            "dtypes: float64(2), int64(8), object(15)\n",
            "memory usage: 2.9+ MB\n"
          ]
        }
      ]
    },
    {
      "cell_type": "markdown",
      "source": [
        "### Data User Rating"
      ],
      "metadata": {
        "id": "njfHrhQ-e8jV"
      }
    },
    {
      "cell_type": "code",
      "execution_count": null,
      "metadata": {
        "colab": {
          "base_uri": "https://localhost:8080/"
        },
        "id": "nPsulb1jjZND",
        "outputId": "31358663-fdd9-4c60-fe07-016591985f5c"
      },
      "outputs": [
        {
          "output_type": "stream",
          "name": "stdout",
          "text": [
            "<class 'pandas.core.frame.DataFrame'>\n",
            "RangeIndex: 109224747 entries, 0 to 109224746\n",
            "Data columns (total 3 columns):\n",
            " #   Column    Non-Null Count      Dtype\n",
            "---  ------    --------------      -----\n",
            " 0   user_id   109224747 non-null  int64\n",
            " 1   anime_id  109224747 non-null  int64\n",
            " 2   rating    109224747 non-null  int64\n",
            "dtypes: int64(3)\n",
            "memory usage: 2.4 GB\n"
          ]
        }
      ],
      "source": [
        "user_rating_df = pd.read_csv('user-filtered.csv')\n",
        "user_rating_df.info(show_counts=True)"
      ]
    },
    {
      "cell_type": "code",
      "source": [
        "user_score_df = pd.read_csv( 'users-score-2023.csv')\n",
        "user_score_df.info(show_counts=True)"
      ],
      "metadata": {
        "id": "eXnnHKZFfJxv",
        "colab": {
          "base_uri": "https://localhost:8080/"
        },
        "outputId": "3c5eedbd-f65e-44df-a63c-d1f476d02ba4"
      },
      "execution_count": null,
      "outputs": [
        {
          "output_type": "stream",
          "name": "stdout",
          "text": [
            "<class 'pandas.core.frame.DataFrame'>\n",
            "RangeIndex: 24325191 entries, 0 to 24325190\n",
            "Data columns (total 5 columns):\n",
            " #   Column       Non-Null Count     Dtype \n",
            "---  ------       --------------     ----- \n",
            " 0   user_id      24325191 non-null  int64 \n",
            " 1   Username     24324959 non-null  object\n",
            " 2   anime_id     24325191 non-null  int64 \n",
            " 3   Anime Title  24325191 non-null  object\n",
            " 4   rating       24325191 non-null  int64 \n",
            "dtypes: int64(3), object(2)\n",
            "memory usage: 927.9+ MB\n"
          ]
        }
      ]
    },
    {
      "cell_type": "markdown",
      "source": [
        "### Data User Details"
      ],
      "metadata": {
        "id": "ogMHcyblfaL5"
      }
    },
    {
      "cell_type": "code",
      "execution_count": null,
      "metadata": {
        "colab": {
          "base_uri": "https://localhost:8080/"
        },
        "id": "cw8VEf1RmBhw",
        "outputId": "a89f92a0-c218-4a23-bf9a-0c887bc3a6ac"
      },
      "outputs": [
        {
          "output_type": "stream",
          "name": "stdout",
          "text": [
            "<class 'pandas.core.frame.DataFrame'>\n",
            "RangeIndex: 731290 entries, 0 to 731289\n",
            "Data columns (total 16 columns):\n",
            " #   Column            Non-Null Count   Dtype  \n",
            "---  ------            --------------   -----  \n",
            " 0   Mal ID            731290 non-null  int64  \n",
            " 1   Username          731289 non-null  object \n",
            " 2   Gender            224383 non-null  object \n",
            " 3   Birthday          168068 non-null  object \n",
            " 4   Location          152805 non-null  object \n",
            " 5   Joined            731290 non-null  object \n",
            " 6   Days Watched      731282 non-null  float64\n",
            " 7   Mean Score        731282 non-null  float64\n",
            " 8   Watching          731282 non-null  float64\n",
            " 9   Completed         731282 non-null  float64\n",
            " 10  On Hold           731282 non-null  float64\n",
            " 11  Dropped           731282 non-null  float64\n",
            " 12  Plan to Watch     731282 non-null  float64\n",
            " 13  Total Entries     731282 non-null  float64\n",
            " 14  Rewatched         731282 non-null  float64\n",
            " 15  Episodes Watched  731282 non-null  float64\n",
            "dtypes: float64(10), int64(1), object(5)\n",
            "memory usage: 89.3+ MB\n"
          ]
        }
      ],
      "source": [
        "user_details_df = pd.read_csv('users-details-2023.csv')\n",
        "user_details_df.info(show_counts=True)"
      ]
    },
    {
      "cell_type": "markdown",
      "source": [
        "### Data Final Anime dataset"
      ],
      "metadata": {
        "id": "N5cLsABef2n3"
      }
    },
    {
      "cell_type": "code",
      "source": [
        "final_anime_df = pd.read_csv('final_animedataset.csv')\n",
        "final_anime_df.info(show_counts=True)"
      ],
      "metadata": {
        "id": "lgfAiRlOf5gO",
        "colab": {
          "base_uri": "https://localhost:8080/"
        },
        "outputId": "7dcbeca0-94cb-442a-b768-873012c83dd9"
      },
      "execution_count": null,
      "outputs": [
        {
          "output_type": "stream",
          "name": "stdout",
          "text": [
            "<class 'pandas.core.frame.DataFrame'>\n",
            "RangeIndex: 35305695 entries, 0 to 35305694\n",
            "Data columns (total 13 columns):\n",
            " #   Column      Non-Null Count     Dtype  \n",
            "---  ------      --------------     -----  \n",
            " 0   username    35305439 non-null  object \n",
            " 1   anime_id    35305695 non-null  int64  \n",
            " 2   my_score    35305695 non-null  int64  \n",
            " 3   user_id     35305695 non-null  int64  \n",
            " 4   gender      35305695 non-null  object \n",
            " 5   title       35305695 non-null  object \n",
            " 6   type        35305695 non-null  object \n",
            " 7   source      35305695 non-null  object \n",
            " 8   score       35305695 non-null  float64\n",
            " 9   scored_by   35305695 non-null  int64  \n",
            " 10  rank        34553725 non-null  float64\n",
            " 11  popularity  35305695 non-null  int64  \n",
            " 12  genre       35303428 non-null  object \n",
            "dtypes: float64(2), int64(5), object(6)\n",
            "memory usage: 3.4+ GB\n"
          ]
        }
      ]
    },
    {
      "cell_type": "markdown",
      "source": [
        "### Selected Data\n",
        "Berdasarkan data yang ditampilkan, tentu untuk melakukan rekomendasi tidak perlu menggunakan semua variabel yang ada pada setiap data. Saya memfokuskan variabel data berupa `user_id`, `anime_id`, `rating`, `Name` atau `anime_title`, serta `genre`.\n",
        "\n",
        "Oleh karena itu, penulis hanya menggunakan data yang tentunya nanti akan dipilah fitur sesuai dengan variabel yang akan digunakan seperti berikut ini:\n",
        "- `anime_df`\n",
        "- `user_rating_df`"
      ],
      "metadata": {
        "id": "UOK60L_loHF0"
      }
    },
    {
      "cell_type": "markdown",
      "source": [
        "## Number of data for each variable"
      ],
      "metadata": {
        "id": "imUgfB7WrUPx"
      }
    },
    {
      "cell_type": "code",
      "source": [
        "print(f'Jumlah data anime = {len(anime_df)}')\n",
        "print(f'Jumlah data user rating = {len(user_rating_df.user_id.unique())}')\n",
        "print(f'Jumlah data anime yang dirating user = {len(user_rating_df.anime_id.unique())}')"
      ],
      "metadata": {
        "colab": {
          "base_uri": "https://localhost:8080/"
        },
        "id": "P0tQ2MMkrgf2",
        "outputId": "2b471bc3-41f9-4be9-ccbb-48733271a654"
      },
      "execution_count": null,
      "outputs": [
        {
          "output_type": "stream",
          "name": "stdout",
          "text": [
            "Jumlah data anime = 24905\n",
            "Jumlah data user rating = 325770\n",
            "Jumlah data anime yang dirating user = 17562\n"
          ]
        }
      ]
    },
    {
      "cell_type": "markdown",
      "metadata": {
        "id": "LmPGt5w_nY6J"
      },
      "source": [
        "## EDA TOP ANIME and TOP USER"
      ]
    },
    {
      "cell_type": "markdown",
      "source": [
        "Melihat Top 20 User yang melakukan rating pada Anime_id"
      ],
      "metadata": {
        "id": "oKVRBdPyx8Oi"
      }
    },
    {
      "cell_type": "code",
      "execution_count": null,
      "metadata": {
        "colab": {
          "base_uri": "https://localhost:8080/",
          "height": 743
        },
        "id": "YQKAEkiLoSVd",
        "outputId": "4f564c3f-6732-44aa-a1e8-75c74061f9f5"
      },
      "outputs": [
        {
          "output_type": "execute_result",
          "data": {
            "text/plain": [
              "user_id\n",
              "20807     17546\n",
              "140590    17534\n",
              "281232    17533\n",
              "147331    17526\n",
              "131988    17520\n",
              "122341    17517\n",
              "283786    17509\n",
              "312302    17410\n",
              "297931    17204\n",
              "85472     16775\n",
              "63900     16774\n",
              "50485     16639\n",
              "269633    16557\n",
              "189037    15993\n",
              "252520    15688\n",
              "92529     15668\n",
              "162615    15600\n",
              "173716    15381\n",
              "222150    15197\n",
              "68042     14638\n",
              "Name: rating, dtype: int64"
            ],
            "text/html": [
              "<div>\n",
              "<style scoped>\n",
              "    .dataframe tbody tr th:only-of-type {\n",
              "        vertical-align: middle;\n",
              "    }\n",
              "\n",
              "    .dataframe tbody tr th {\n",
              "        vertical-align: top;\n",
              "    }\n",
              "\n",
              "    .dataframe thead th {\n",
              "        text-align: right;\n",
              "    }\n",
              "</style>\n",
              "<table border=\"1\" class=\"dataframe\">\n",
              "  <thead>\n",
              "    <tr style=\"text-align: right;\">\n",
              "      <th></th>\n",
              "      <th>rating</th>\n",
              "    </tr>\n",
              "    <tr>\n",
              "      <th>user_id</th>\n",
              "      <th></th>\n",
              "    </tr>\n",
              "  </thead>\n",
              "  <tbody>\n",
              "    <tr>\n",
              "      <th>20807</th>\n",
              "      <td>17546</td>\n",
              "    </tr>\n",
              "    <tr>\n",
              "      <th>140590</th>\n",
              "      <td>17534</td>\n",
              "    </tr>\n",
              "    <tr>\n",
              "      <th>281232</th>\n",
              "      <td>17533</td>\n",
              "    </tr>\n",
              "    <tr>\n",
              "      <th>147331</th>\n",
              "      <td>17526</td>\n",
              "    </tr>\n",
              "    <tr>\n",
              "      <th>131988</th>\n",
              "      <td>17520</td>\n",
              "    </tr>\n",
              "    <tr>\n",
              "      <th>122341</th>\n",
              "      <td>17517</td>\n",
              "    </tr>\n",
              "    <tr>\n",
              "      <th>283786</th>\n",
              "      <td>17509</td>\n",
              "    </tr>\n",
              "    <tr>\n",
              "      <th>312302</th>\n",
              "      <td>17410</td>\n",
              "    </tr>\n",
              "    <tr>\n",
              "      <th>297931</th>\n",
              "      <td>17204</td>\n",
              "    </tr>\n",
              "    <tr>\n",
              "      <th>85472</th>\n",
              "      <td>16775</td>\n",
              "    </tr>\n",
              "    <tr>\n",
              "      <th>63900</th>\n",
              "      <td>16774</td>\n",
              "    </tr>\n",
              "    <tr>\n",
              "      <th>50485</th>\n",
              "      <td>16639</td>\n",
              "    </tr>\n",
              "    <tr>\n",
              "      <th>269633</th>\n",
              "      <td>16557</td>\n",
              "    </tr>\n",
              "    <tr>\n",
              "      <th>189037</th>\n",
              "      <td>15993</td>\n",
              "    </tr>\n",
              "    <tr>\n",
              "      <th>252520</th>\n",
              "      <td>15688</td>\n",
              "    </tr>\n",
              "    <tr>\n",
              "      <th>92529</th>\n",
              "      <td>15668</td>\n",
              "    </tr>\n",
              "    <tr>\n",
              "      <th>162615</th>\n",
              "      <td>15600</td>\n",
              "    </tr>\n",
              "    <tr>\n",
              "      <th>173716</th>\n",
              "      <td>15381</td>\n",
              "    </tr>\n",
              "    <tr>\n",
              "      <th>222150</th>\n",
              "      <td>15197</td>\n",
              "    </tr>\n",
              "    <tr>\n",
              "      <th>68042</th>\n",
              "      <td>14638</td>\n",
              "    </tr>\n",
              "  </tbody>\n",
              "</table>\n",
              "</div><br><label><b>dtype:</b> int64</label>"
            ]
          },
          "metadata": {},
          "execution_count": 21
        }
      ],
      "source": [
        "top_user_rating = user_rating_df.groupby('user_id')['rating'].count().dropna().sort_values(ascending=False)[:20]\n",
        "top_user_rating.head(20)"
      ]
    },
    {
      "cell_type": "markdown",
      "source": [
        "Melihat Top 20 anime_id yang di rating oleh user_id"
      ],
      "metadata": {
        "id": "EUKqBF3fyDkc"
      }
    },
    {
      "cell_type": "code",
      "execution_count": null,
      "metadata": {
        "colab": {
          "base_uri": "https://localhost:8080/",
          "height": 743
        },
        "id": "ogOlQvP3o8VE",
        "outputId": "94e6673b-e042-47fc-b319-d16b73934023"
      },
      "outputs": [
        {
          "output_type": "execute_result",
          "data": {
            "text/plain": [
              "anime_id\n",
              "16498    60305\n",
              "11757    60145\n",
              "6547     59828\n",
              "4224     59602\n",
              "9253     59047\n",
              "1535     58995\n",
              "5081     57137\n",
              "19815    57006\n",
              "1575     56793\n",
              "5114     56781\n",
              "10620    56273\n",
              "30276    55762\n",
              "20507    55486\n",
              "6746     55062\n",
              "15809    54875\n",
              "9989     54139\n",
              "2167     53751\n",
              "2001     53605\n",
              "14813    53339\n",
              "226      53043\n",
              "Name: rating, dtype: int64"
            ],
            "text/html": [
              "<div>\n",
              "<style scoped>\n",
              "    .dataframe tbody tr th:only-of-type {\n",
              "        vertical-align: middle;\n",
              "    }\n",
              "\n",
              "    .dataframe tbody tr th {\n",
              "        vertical-align: top;\n",
              "    }\n",
              "\n",
              "    .dataframe thead th {\n",
              "        text-align: right;\n",
              "    }\n",
              "</style>\n",
              "<table border=\"1\" class=\"dataframe\">\n",
              "  <thead>\n",
              "    <tr style=\"text-align: right;\">\n",
              "      <th></th>\n",
              "      <th>rating</th>\n",
              "    </tr>\n",
              "    <tr>\n",
              "      <th>anime_id</th>\n",
              "      <th></th>\n",
              "    </tr>\n",
              "  </thead>\n",
              "  <tbody>\n",
              "    <tr>\n",
              "      <th>16498</th>\n",
              "      <td>60305</td>\n",
              "    </tr>\n",
              "    <tr>\n",
              "      <th>11757</th>\n",
              "      <td>60145</td>\n",
              "    </tr>\n",
              "    <tr>\n",
              "      <th>6547</th>\n",
              "      <td>59828</td>\n",
              "    </tr>\n",
              "    <tr>\n",
              "      <th>4224</th>\n",
              "      <td>59602</td>\n",
              "    </tr>\n",
              "    <tr>\n",
              "      <th>9253</th>\n",
              "      <td>59047</td>\n",
              "    </tr>\n",
              "    <tr>\n",
              "      <th>1535</th>\n",
              "      <td>58995</td>\n",
              "    </tr>\n",
              "    <tr>\n",
              "      <th>5081</th>\n",
              "      <td>57137</td>\n",
              "    </tr>\n",
              "    <tr>\n",
              "      <th>19815</th>\n",
              "      <td>57006</td>\n",
              "    </tr>\n",
              "    <tr>\n",
              "      <th>1575</th>\n",
              "      <td>56793</td>\n",
              "    </tr>\n",
              "    <tr>\n",
              "      <th>5114</th>\n",
              "      <td>56781</td>\n",
              "    </tr>\n",
              "    <tr>\n",
              "      <th>10620</th>\n",
              "      <td>56273</td>\n",
              "    </tr>\n",
              "    <tr>\n",
              "      <th>30276</th>\n",
              "      <td>55762</td>\n",
              "    </tr>\n",
              "    <tr>\n",
              "      <th>20507</th>\n",
              "      <td>55486</td>\n",
              "    </tr>\n",
              "    <tr>\n",
              "      <th>6746</th>\n",
              "      <td>55062</td>\n",
              "    </tr>\n",
              "    <tr>\n",
              "      <th>15809</th>\n",
              "      <td>54875</td>\n",
              "    </tr>\n",
              "    <tr>\n",
              "      <th>9989</th>\n",
              "      <td>54139</td>\n",
              "    </tr>\n",
              "    <tr>\n",
              "      <th>2167</th>\n",
              "      <td>53751</td>\n",
              "    </tr>\n",
              "    <tr>\n",
              "      <th>2001</th>\n",
              "      <td>53605</td>\n",
              "    </tr>\n",
              "    <tr>\n",
              "      <th>14813</th>\n",
              "      <td>53339</td>\n",
              "    </tr>\n",
              "    <tr>\n",
              "      <th>226</th>\n",
              "      <td>53043</td>\n",
              "    </tr>\n",
              "  </tbody>\n",
              "</table>\n",
              "</div><br><label><b>dtype:</b> int64</label>"
            ]
          },
          "metadata": {},
          "execution_count": 22
        }
      ],
      "source": [
        "top_anime_rating = user_rating_df.groupby('anime_id')['rating'].count().dropna().sort_values(ascending=False)[:20]\n",
        "top_anime_rating.head(20)"
      ]
    },
    {
      "cell_type": "markdown",
      "source": [
        "Menghubungkan antara top user rating dengan data user rating"
      ],
      "metadata": {
        "id": "C20wQ2V_yvlS"
      }
    },
    {
      "cell_type": "code",
      "execution_count": null,
      "metadata": {
        "colab": {
          "base_uri": "https://localhost:8080/"
        },
        "id": "N-1D047Noz0i",
        "outputId": "bd358dd9-b69a-4c4e-8239-d340af3f0eec"
      },
      "outputs": [
        {
          "output_type": "stream",
          "name": "stdout",
          "text": [
            "<class 'pandas.core.frame.DataFrame'>\n",
            "Index: 332209 entries, 6334981 to 96667643\n",
            "Data columns (total 4 columns):\n",
            " #   Column    Non-Null Count   Dtype\n",
            "---  ------    --------------   -----\n",
            " 0   user_id   332209 non-null  int64\n",
            " 1   anime_id  332209 non-null  int64\n",
            " 2   rating    332209 non-null  int64\n",
            " 3   rating_r  332209 non-null  int64\n",
            "dtypes: int64(4)\n",
            "memory usage: 12.7 MB\n"
          ]
        }
      ],
      "source": [
        "top_relation_anime_user = user_rating_df.join(top_user_rating, rsuffix='_r', how='inner', on='user_id')\n",
        "top_relation_anime_user.info()"
      ]
    },
    {
      "cell_type": "markdown",
      "source": [
        "menghubungkan antara top anime rating dengan top user_id sebelumnya"
      ],
      "metadata": {
        "id": "IKun6-eZy1pY"
      }
    },
    {
      "cell_type": "code",
      "execution_count": null,
      "metadata": {
        "colab": {
          "base_uri": "https://localhost:8080/"
        },
        "id": "zd0xTCtYpuvT",
        "outputId": "dbf6015c-bc2a-490c-8064-501f12b1313f"
      },
      "outputs": [
        {
          "output_type": "stream",
          "name": "stdout",
          "text": [
            "<class 'pandas.core.frame.DataFrame'>\n",
            "Index: 400 entries, 6335148 to 96660941\n",
            "Data columns (total 5 columns):\n",
            " #   Column    Non-Null Count  Dtype\n",
            "---  ------    --------------  -----\n",
            " 0   user_id   400 non-null    int64\n",
            " 1   anime_id  400 non-null    int64\n",
            " 2   rating    400 non-null    int64\n",
            " 3   rating_r  400 non-null    int64\n",
            " 4   rating_r  400 non-null    int64\n",
            "dtypes: int64(5)\n",
            "memory usage: 18.8 KB\n"
          ]
        }
      ],
      "source": [
        "top_relation_anime_user = top_relation_anime_user.join(top_anime_rating, rsuffix='_r', how='inner', on='anime_id')\n",
        "top_relation_anime_user.info()"
      ]
    },
    {
      "cell_type": "markdown",
      "source": [
        "Representasi TOP ANIME dan TOP USER dalam matrix. Dalam hal ini, kita dapat melihat bahwa dari top 20 anime, tidak semua top user melakukan rating. Hanya sekitar `8 top user` dari 20 top user yang melakukan rating dari top 20 anime."
      ],
      "metadata": {
        "id": "vcUrSY8VzfrU"
      }
    },
    {
      "cell_type": "code",
      "execution_count": null,
      "metadata": {
        "colab": {
          "base_uri": "https://localhost:8080/",
          "height": 763
        },
        "id": "0FpMPLI6qALY",
        "outputId": "c1b44fe6-999e-4f01-c188-cf5f6b8fb555"
      },
      "outputs": [
        {
          "output_type": "stream",
          "name": "stderr",
          "text": [
            "<ipython-input-25-1e993acdaca5>:2: FutureWarning: The provided callable <function sum at 0x78da861be560> is currently using DataFrameGroupBy.sum. In a future version of pandas, the provided callable will be used directly. To keep current behavior pass the string \"sum\" instead.\n",
            "  pd.crosstab(top_relation_anime_user.user_id, top_relation_anime_user.anime_id, top_relation_anime_user.rating, aggfunc=np.sum)\n"
          ]
        },
        {
          "output_type": "execute_result",
          "data": {
            "text/plain": [
              "anime_id  226    1535   1575   2001   2167   4224   5081   5114   6547   \\\n",
              "user_id                                                                   \n",
              "20807        10     10     10     10      8     10      9     10     10   \n",
              "50485         0      6     10     10      9     10     10     10     10   \n",
              "63900         7      0      0      0      0      0      0      9      0   \n",
              "68042         8     10      9     10      7      9     10      9      7   \n",
              "85472         7      0      0     10      9      9      0      0     10   \n",
              "92529         9      9     10     10      0      8      0      9      9   \n",
              "122341        2      3      2      7      4      3      3      8      5   \n",
              "131988        0      0      0      0      0      0      0      0      0   \n",
              "140590        3      6      5      8      6      8      8      9      5   \n",
              "147331        0      0      0      0      0      0      0      0      0   \n",
              "162615       10     10     10     10     10     10     10     10     10   \n",
              "173716        8      9     10      8     10      8      8     10      8   \n",
              "189037        8      9      7      7      9      9      7      8     10   \n",
              "222150        8     10     10      0      9      0      8     10      8   \n",
              "252520        9     10     10      8      6      0      9      9      8   \n",
              "269633        0      0      0      0      0      0      0      0      0   \n",
              "281232        0      0      0      0      0      0      0      0      0   \n",
              "283786        9     10      9      8      7      5      9      9      7   \n",
              "297931        0      0      0      0      0      0      0      0      0   \n",
              "312302        9     10      9      9      9      8      8     10      7   \n",
              "\n",
              "anime_id  6746   9253   9989   10620  11757  14813  15809  16498  19815  \\\n",
              "user_id                                                                   \n",
              "20807        10     10      9     10     10      8      8     10     10   \n",
              "50485         9     10      9      6     10      9     10      9     10   \n",
              "63900         0      0      8      0      0      8      0      8      0   \n",
              "68042         8      9      8      4      4      9      6      9      3   \n",
              "85472         0      8      0      8      9      0      8      8      7   \n",
              "92529         0     10      0      8      9      0      8      9      9   \n",
              "122341        6      7      3      2      1      2      3      1      4   \n",
              "131988        0      0      0      0      0      0      0      0      0   \n",
              "140590        8      9      7      3      4      8      6      5      7   \n",
              "147331        0      0      0      0      0      0      0      0      0   \n",
              "162615       10     10     10     10     10     10     10     10     10   \n",
              "173716        9     10      9      8      8      9      8      8     10   \n",
              "189037        7     10      8      8      7      7      9      6      7   \n",
              "222150        9     10      8      4      4      0      7      8      5   \n",
              "252520        7      9      0      9     10      0      0     10      9   \n",
              "269633        0      0      0      0      0      0      0      0      0   \n",
              "281232        0      0      0      0      0      0      0      0      0   \n",
              "283786        8      9      8      8      9      7      9      9      8   \n",
              "297931        0      0      0      0      0      0      0      8      0   \n",
              "312302        8     10      9      7      9      9      9      8      8   \n",
              "\n",
              "anime_id  20507  30276  \n",
              "user_id                 \n",
              "20807        10     10  \n",
              "50485        10      8  \n",
              "63900         8      8  \n",
              "68042         2      9  \n",
              "85472         7      9  \n",
              "92529         8     10  \n",
              "122341        4      6  \n",
              "131988        0      0  \n",
              "140590        7      7  \n",
              "147331        0      0  \n",
              "162615       10     10  \n",
              "173716        8     10  \n",
              "189037        7      8  \n",
              "222150        0      0  \n",
              "252520        8     10  \n",
              "269633        0      0  \n",
              "281232        0      0  \n",
              "283786        8      9  \n",
              "297931        0      9  \n",
              "312302       10      8  "
            ],
            "text/html": [
              "\n",
              "  <div id=\"df-11063c9b-b27f-43ed-b98b-b3a7acc0048f\" class=\"colab-df-container\">\n",
              "    <div>\n",
              "<style scoped>\n",
              "    .dataframe tbody tr th:only-of-type {\n",
              "        vertical-align: middle;\n",
              "    }\n",
              "\n",
              "    .dataframe tbody tr th {\n",
              "        vertical-align: top;\n",
              "    }\n",
              "\n",
              "    .dataframe thead th {\n",
              "        text-align: right;\n",
              "    }\n",
              "</style>\n",
              "<table border=\"1\" class=\"dataframe\">\n",
              "  <thead>\n",
              "    <tr style=\"text-align: right;\">\n",
              "      <th>anime_id</th>\n",
              "      <th>226</th>\n",
              "      <th>1535</th>\n",
              "      <th>1575</th>\n",
              "      <th>2001</th>\n",
              "      <th>2167</th>\n",
              "      <th>4224</th>\n",
              "      <th>5081</th>\n",
              "      <th>5114</th>\n",
              "      <th>6547</th>\n",
              "      <th>6746</th>\n",
              "      <th>9253</th>\n",
              "      <th>9989</th>\n",
              "      <th>10620</th>\n",
              "      <th>11757</th>\n",
              "      <th>14813</th>\n",
              "      <th>15809</th>\n",
              "      <th>16498</th>\n",
              "      <th>19815</th>\n",
              "      <th>20507</th>\n",
              "      <th>30276</th>\n",
              "    </tr>\n",
              "    <tr>\n",
              "      <th>user_id</th>\n",
              "      <th></th>\n",
              "      <th></th>\n",
              "      <th></th>\n",
              "      <th></th>\n",
              "      <th></th>\n",
              "      <th></th>\n",
              "      <th></th>\n",
              "      <th></th>\n",
              "      <th></th>\n",
              "      <th></th>\n",
              "      <th></th>\n",
              "      <th></th>\n",
              "      <th></th>\n",
              "      <th></th>\n",
              "      <th></th>\n",
              "      <th></th>\n",
              "      <th></th>\n",
              "      <th></th>\n",
              "      <th></th>\n",
              "      <th></th>\n",
              "    </tr>\n",
              "  </thead>\n",
              "  <tbody>\n",
              "    <tr>\n",
              "      <th>20807</th>\n",
              "      <td>10</td>\n",
              "      <td>10</td>\n",
              "      <td>10</td>\n",
              "      <td>10</td>\n",
              "      <td>8</td>\n",
              "      <td>10</td>\n",
              "      <td>9</td>\n",
              "      <td>10</td>\n",
              "      <td>10</td>\n",
              "      <td>10</td>\n",
              "      <td>10</td>\n",
              "      <td>9</td>\n",
              "      <td>10</td>\n",
              "      <td>10</td>\n",
              "      <td>8</td>\n",
              "      <td>8</td>\n",
              "      <td>10</td>\n",
              "      <td>10</td>\n",
              "      <td>10</td>\n",
              "      <td>10</td>\n",
              "    </tr>\n",
              "    <tr>\n",
              "      <th>50485</th>\n",
              "      <td>0</td>\n",
              "      <td>6</td>\n",
              "      <td>10</td>\n",
              "      <td>10</td>\n",
              "      <td>9</td>\n",
              "      <td>10</td>\n",
              "      <td>10</td>\n",
              "      <td>10</td>\n",
              "      <td>10</td>\n",
              "      <td>9</td>\n",
              "      <td>10</td>\n",
              "      <td>9</td>\n",
              "      <td>6</td>\n",
              "      <td>10</td>\n",
              "      <td>9</td>\n",
              "      <td>10</td>\n",
              "      <td>9</td>\n",
              "      <td>10</td>\n",
              "      <td>10</td>\n",
              "      <td>8</td>\n",
              "    </tr>\n",
              "    <tr>\n",
              "      <th>63900</th>\n",
              "      <td>7</td>\n",
              "      <td>0</td>\n",
              "      <td>0</td>\n",
              "      <td>0</td>\n",
              "      <td>0</td>\n",
              "      <td>0</td>\n",
              "      <td>0</td>\n",
              "      <td>9</td>\n",
              "      <td>0</td>\n",
              "      <td>0</td>\n",
              "      <td>0</td>\n",
              "      <td>8</td>\n",
              "      <td>0</td>\n",
              "      <td>0</td>\n",
              "      <td>8</td>\n",
              "      <td>0</td>\n",
              "      <td>8</td>\n",
              "      <td>0</td>\n",
              "      <td>8</td>\n",
              "      <td>8</td>\n",
              "    </tr>\n",
              "    <tr>\n",
              "      <th>68042</th>\n",
              "      <td>8</td>\n",
              "      <td>10</td>\n",
              "      <td>9</td>\n",
              "      <td>10</td>\n",
              "      <td>7</td>\n",
              "      <td>9</td>\n",
              "      <td>10</td>\n",
              "      <td>9</td>\n",
              "      <td>7</td>\n",
              "      <td>8</td>\n",
              "      <td>9</td>\n",
              "      <td>8</td>\n",
              "      <td>4</td>\n",
              "      <td>4</td>\n",
              "      <td>9</td>\n",
              "      <td>6</td>\n",
              "      <td>9</td>\n",
              "      <td>3</td>\n",
              "      <td>2</td>\n",
              "      <td>9</td>\n",
              "    </tr>\n",
              "    <tr>\n",
              "      <th>85472</th>\n",
              "      <td>7</td>\n",
              "      <td>0</td>\n",
              "      <td>0</td>\n",
              "      <td>10</td>\n",
              "      <td>9</td>\n",
              "      <td>9</td>\n",
              "      <td>0</td>\n",
              "      <td>0</td>\n",
              "      <td>10</td>\n",
              "      <td>0</td>\n",
              "      <td>8</td>\n",
              "      <td>0</td>\n",
              "      <td>8</td>\n",
              "      <td>9</td>\n",
              "      <td>0</td>\n",
              "      <td>8</td>\n",
              "      <td>8</td>\n",
              "      <td>7</td>\n",
              "      <td>7</td>\n",
              "      <td>9</td>\n",
              "    </tr>\n",
              "    <tr>\n",
              "      <th>92529</th>\n",
              "      <td>9</td>\n",
              "      <td>9</td>\n",
              "      <td>10</td>\n",
              "      <td>10</td>\n",
              "      <td>0</td>\n",
              "      <td>8</td>\n",
              "      <td>0</td>\n",
              "      <td>9</td>\n",
              "      <td>9</td>\n",
              "      <td>0</td>\n",
              "      <td>10</td>\n",
              "      <td>0</td>\n",
              "      <td>8</td>\n",
              "      <td>9</td>\n",
              "      <td>0</td>\n",
              "      <td>8</td>\n",
              "      <td>9</td>\n",
              "      <td>9</td>\n",
              "      <td>8</td>\n",
              "      <td>10</td>\n",
              "    </tr>\n",
              "    <tr>\n",
              "      <th>122341</th>\n",
              "      <td>2</td>\n",
              "      <td>3</td>\n",
              "      <td>2</td>\n",
              "      <td>7</td>\n",
              "      <td>4</td>\n",
              "      <td>3</td>\n",
              "      <td>3</td>\n",
              "      <td>8</td>\n",
              "      <td>5</td>\n",
              "      <td>6</td>\n",
              "      <td>7</td>\n",
              "      <td>3</td>\n",
              "      <td>2</td>\n",
              "      <td>1</td>\n",
              "      <td>2</td>\n",
              "      <td>3</td>\n",
              "      <td>1</td>\n",
              "      <td>4</td>\n",
              "      <td>4</td>\n",
              "      <td>6</td>\n",
              "    </tr>\n",
              "    <tr>\n",
              "      <th>131988</th>\n",
              "      <td>0</td>\n",
              "      <td>0</td>\n",
              "      <td>0</td>\n",
              "      <td>0</td>\n",
              "      <td>0</td>\n",
              "      <td>0</td>\n",
              "      <td>0</td>\n",
              "      <td>0</td>\n",
              "      <td>0</td>\n",
              "      <td>0</td>\n",
              "      <td>0</td>\n",
              "      <td>0</td>\n",
              "      <td>0</td>\n",
              "      <td>0</td>\n",
              "      <td>0</td>\n",
              "      <td>0</td>\n",
              "      <td>0</td>\n",
              "      <td>0</td>\n",
              "      <td>0</td>\n",
              "      <td>0</td>\n",
              "    </tr>\n",
              "    <tr>\n",
              "      <th>140590</th>\n",
              "      <td>3</td>\n",
              "      <td>6</td>\n",
              "      <td>5</td>\n",
              "      <td>8</td>\n",
              "      <td>6</td>\n",
              "      <td>8</td>\n",
              "      <td>8</td>\n",
              "      <td>9</td>\n",
              "      <td>5</td>\n",
              "      <td>8</td>\n",
              "      <td>9</td>\n",
              "      <td>7</td>\n",
              "      <td>3</td>\n",
              "      <td>4</td>\n",
              "      <td>8</td>\n",
              "      <td>6</td>\n",
              "      <td>5</td>\n",
              "      <td>7</td>\n",
              "      <td>7</td>\n",
              "      <td>7</td>\n",
              "    </tr>\n",
              "    <tr>\n",
              "      <th>147331</th>\n",
              "      <td>0</td>\n",
              "      <td>0</td>\n",
              "      <td>0</td>\n",
              "      <td>0</td>\n",
              "      <td>0</td>\n",
              "      <td>0</td>\n",
              "      <td>0</td>\n",
              "      <td>0</td>\n",
              "      <td>0</td>\n",
              "      <td>0</td>\n",
              "      <td>0</td>\n",
              "      <td>0</td>\n",
              "      <td>0</td>\n",
              "      <td>0</td>\n",
              "      <td>0</td>\n",
              "      <td>0</td>\n",
              "      <td>0</td>\n",
              "      <td>0</td>\n",
              "      <td>0</td>\n",
              "      <td>0</td>\n",
              "    </tr>\n",
              "    <tr>\n",
              "      <th>162615</th>\n",
              "      <td>10</td>\n",
              "      <td>10</td>\n",
              "      <td>10</td>\n",
              "      <td>10</td>\n",
              "      <td>10</td>\n",
              "      <td>10</td>\n",
              "      <td>10</td>\n",
              "      <td>10</td>\n",
              "      <td>10</td>\n",
              "      <td>10</td>\n",
              "      <td>10</td>\n",
              "      <td>10</td>\n",
              "      <td>10</td>\n",
              "      <td>10</td>\n",
              "      <td>10</td>\n",
              "      <td>10</td>\n",
              "      <td>10</td>\n",
              "      <td>10</td>\n",
              "      <td>10</td>\n",
              "      <td>10</td>\n",
              "    </tr>\n",
              "    <tr>\n",
              "      <th>173716</th>\n",
              "      <td>8</td>\n",
              "      <td>9</td>\n",
              "      <td>10</td>\n",
              "      <td>8</td>\n",
              "      <td>10</td>\n",
              "      <td>8</td>\n",
              "      <td>8</td>\n",
              "      <td>10</td>\n",
              "      <td>8</td>\n",
              "      <td>9</td>\n",
              "      <td>10</td>\n",
              "      <td>9</td>\n",
              "      <td>8</td>\n",
              "      <td>8</td>\n",
              "      <td>9</td>\n",
              "      <td>8</td>\n",
              "      <td>8</td>\n",
              "      <td>10</td>\n",
              "      <td>8</td>\n",
              "      <td>10</td>\n",
              "    </tr>\n",
              "    <tr>\n",
              "      <th>189037</th>\n",
              "      <td>8</td>\n",
              "      <td>9</td>\n",
              "      <td>7</td>\n",
              "      <td>7</td>\n",
              "      <td>9</td>\n",
              "      <td>9</td>\n",
              "      <td>7</td>\n",
              "      <td>8</td>\n",
              "      <td>10</td>\n",
              "      <td>7</td>\n",
              "      <td>10</td>\n",
              "      <td>8</td>\n",
              "      <td>8</td>\n",
              "      <td>7</td>\n",
              "      <td>7</td>\n",
              "      <td>9</td>\n",
              "      <td>6</td>\n",
              "      <td>7</td>\n",
              "      <td>7</td>\n",
              "      <td>8</td>\n",
              "    </tr>\n",
              "    <tr>\n",
              "      <th>222150</th>\n",
              "      <td>8</td>\n",
              "      <td>10</td>\n",
              "      <td>10</td>\n",
              "      <td>0</td>\n",
              "      <td>9</td>\n",
              "      <td>0</td>\n",
              "      <td>8</td>\n",
              "      <td>10</td>\n",
              "      <td>8</td>\n",
              "      <td>9</td>\n",
              "      <td>10</td>\n",
              "      <td>8</td>\n",
              "      <td>4</td>\n",
              "      <td>4</td>\n",
              "      <td>0</td>\n",
              "      <td>7</td>\n",
              "      <td>8</td>\n",
              "      <td>5</td>\n",
              "      <td>0</td>\n",
              "      <td>0</td>\n",
              "    </tr>\n",
              "    <tr>\n",
              "      <th>252520</th>\n",
              "      <td>9</td>\n",
              "      <td>10</td>\n",
              "      <td>10</td>\n",
              "      <td>8</td>\n",
              "      <td>6</td>\n",
              "      <td>0</td>\n",
              "      <td>9</td>\n",
              "      <td>9</td>\n",
              "      <td>8</td>\n",
              "      <td>7</td>\n",
              "      <td>9</td>\n",
              "      <td>0</td>\n",
              "      <td>9</td>\n",
              "      <td>10</td>\n",
              "      <td>0</td>\n",
              "      <td>0</td>\n",
              "      <td>10</td>\n",
              "      <td>9</td>\n",
              "      <td>8</td>\n",
              "      <td>10</td>\n",
              "    </tr>\n",
              "    <tr>\n",
              "      <th>269633</th>\n",
              "      <td>0</td>\n",
              "      <td>0</td>\n",
              "      <td>0</td>\n",
              "      <td>0</td>\n",
              "      <td>0</td>\n",
              "      <td>0</td>\n",
              "      <td>0</td>\n",
              "      <td>0</td>\n",
              "      <td>0</td>\n",
              "      <td>0</td>\n",
              "      <td>0</td>\n",
              "      <td>0</td>\n",
              "      <td>0</td>\n",
              "      <td>0</td>\n",
              "      <td>0</td>\n",
              "      <td>0</td>\n",
              "      <td>0</td>\n",
              "      <td>0</td>\n",
              "      <td>0</td>\n",
              "      <td>0</td>\n",
              "    </tr>\n",
              "    <tr>\n",
              "      <th>281232</th>\n",
              "      <td>0</td>\n",
              "      <td>0</td>\n",
              "      <td>0</td>\n",
              "      <td>0</td>\n",
              "      <td>0</td>\n",
              "      <td>0</td>\n",
              "      <td>0</td>\n",
              "      <td>0</td>\n",
              "      <td>0</td>\n",
              "      <td>0</td>\n",
              "      <td>0</td>\n",
              "      <td>0</td>\n",
              "      <td>0</td>\n",
              "      <td>0</td>\n",
              "      <td>0</td>\n",
              "      <td>0</td>\n",
              "      <td>0</td>\n",
              "      <td>0</td>\n",
              "      <td>0</td>\n",
              "      <td>0</td>\n",
              "    </tr>\n",
              "    <tr>\n",
              "      <th>283786</th>\n",
              "      <td>9</td>\n",
              "      <td>10</td>\n",
              "      <td>9</td>\n",
              "      <td>8</td>\n",
              "      <td>7</td>\n",
              "      <td>5</td>\n",
              "      <td>9</td>\n",
              "      <td>9</td>\n",
              "      <td>7</td>\n",
              "      <td>8</td>\n",
              "      <td>9</td>\n",
              "      <td>8</td>\n",
              "      <td>8</td>\n",
              "      <td>9</td>\n",
              "      <td>7</td>\n",
              "      <td>9</td>\n",
              "      <td>9</td>\n",
              "      <td>8</td>\n",
              "      <td>8</td>\n",
              "      <td>9</td>\n",
              "    </tr>\n",
              "    <tr>\n",
              "      <th>297931</th>\n",
              "      <td>0</td>\n",
              "      <td>0</td>\n",
              "      <td>0</td>\n",
              "      <td>0</td>\n",
              "      <td>0</td>\n",
              "      <td>0</td>\n",
              "      <td>0</td>\n",
              "      <td>0</td>\n",
              "      <td>0</td>\n",
              "      <td>0</td>\n",
              "      <td>0</td>\n",
              "      <td>0</td>\n",
              "      <td>0</td>\n",
              "      <td>0</td>\n",
              "      <td>0</td>\n",
              "      <td>0</td>\n",
              "      <td>8</td>\n",
              "      <td>0</td>\n",
              "      <td>0</td>\n",
              "      <td>9</td>\n",
              "    </tr>\n",
              "    <tr>\n",
              "      <th>312302</th>\n",
              "      <td>9</td>\n",
              "      <td>10</td>\n",
              "      <td>9</td>\n",
              "      <td>9</td>\n",
              "      <td>9</td>\n",
              "      <td>8</td>\n",
              "      <td>8</td>\n",
              "      <td>10</td>\n",
              "      <td>7</td>\n",
              "      <td>8</td>\n",
              "      <td>10</td>\n",
              "      <td>9</td>\n",
              "      <td>7</td>\n",
              "      <td>9</td>\n",
              "      <td>9</td>\n",
              "      <td>9</td>\n",
              "      <td>8</td>\n",
              "      <td>8</td>\n",
              "      <td>10</td>\n",
              "      <td>8</td>\n",
              "    </tr>\n",
              "  </tbody>\n",
              "</table>\n",
              "</div>\n",
              "    <div class=\"colab-df-buttons\">\n",
              "\n",
              "  <div class=\"colab-df-container\">\n",
              "    <button class=\"colab-df-convert\" onclick=\"convertToInteractive('df-11063c9b-b27f-43ed-b98b-b3a7acc0048f')\"\n",
              "            title=\"Convert this dataframe to an interactive table.\"\n",
              "            style=\"display:none;\">\n",
              "\n",
              "  <svg xmlns=\"http://www.w3.org/2000/svg\" height=\"24px\" viewBox=\"0 -960 960 960\">\n",
              "    <path d=\"M120-120v-720h720v720H120Zm60-500h600v-160H180v160Zm220 220h160v-160H400v160Zm0 220h160v-160H400v160ZM180-400h160v-160H180v160Zm440 0h160v-160H620v160ZM180-180h160v-160H180v160Zm440 0h160v-160H620v160Z\"/>\n",
              "  </svg>\n",
              "    </button>\n",
              "\n",
              "  <style>\n",
              "    .colab-df-container {\n",
              "      display:flex;\n",
              "      gap: 12px;\n",
              "    }\n",
              "\n",
              "    .colab-df-convert {\n",
              "      background-color: #E8F0FE;\n",
              "      border: none;\n",
              "      border-radius: 50%;\n",
              "      cursor: pointer;\n",
              "      display: none;\n",
              "      fill: #1967D2;\n",
              "      height: 32px;\n",
              "      padding: 0 0 0 0;\n",
              "      width: 32px;\n",
              "    }\n",
              "\n",
              "    .colab-df-convert:hover {\n",
              "      background-color: #E2EBFA;\n",
              "      box-shadow: 0px 1px 2px rgba(60, 64, 67, 0.3), 0px 1px 3px 1px rgba(60, 64, 67, 0.15);\n",
              "      fill: #174EA6;\n",
              "    }\n",
              "\n",
              "    .colab-df-buttons div {\n",
              "      margin-bottom: 4px;\n",
              "    }\n",
              "\n",
              "    [theme=dark] .colab-df-convert {\n",
              "      background-color: #3B4455;\n",
              "      fill: #D2E3FC;\n",
              "    }\n",
              "\n",
              "    [theme=dark] .colab-df-convert:hover {\n",
              "      background-color: #434B5C;\n",
              "      box-shadow: 0px 1px 3px 1px rgba(0, 0, 0, 0.15);\n",
              "      filter: drop-shadow(0px 1px 2px rgba(0, 0, 0, 0.3));\n",
              "      fill: #FFFFFF;\n",
              "    }\n",
              "  </style>\n",
              "\n",
              "    <script>\n",
              "      const buttonEl =\n",
              "        document.querySelector('#df-11063c9b-b27f-43ed-b98b-b3a7acc0048f button.colab-df-convert');\n",
              "      buttonEl.style.display =\n",
              "        google.colab.kernel.accessAllowed ? 'block' : 'none';\n",
              "\n",
              "      async function convertToInteractive(key) {\n",
              "        const element = document.querySelector('#df-11063c9b-b27f-43ed-b98b-b3a7acc0048f');\n",
              "        const dataTable =\n",
              "          await google.colab.kernel.invokeFunction('convertToInteractive',\n",
              "                                                    [key], {});\n",
              "        if (!dataTable) return;\n",
              "\n",
              "        const docLinkHtml = 'Like what you see? Visit the ' +\n",
              "          '<a target=\"_blank\" href=https://colab.research.google.com/notebooks/data_table.ipynb>data table notebook</a>'\n",
              "          + ' to learn more about interactive tables.';\n",
              "        element.innerHTML = '';\n",
              "        dataTable['output_type'] = 'display_data';\n",
              "        await google.colab.output.renderOutput(dataTable, element);\n",
              "        const docLink = document.createElement('div');\n",
              "        docLink.innerHTML = docLinkHtml;\n",
              "        element.appendChild(docLink);\n",
              "      }\n",
              "    </script>\n",
              "  </div>\n",
              "\n",
              "\n",
              "<div id=\"df-8a1c9c72-6c7c-4f01-95a1-1cd7ef067f48\">\n",
              "  <button class=\"colab-df-quickchart\" onclick=\"quickchart('df-8a1c9c72-6c7c-4f01-95a1-1cd7ef067f48')\"\n",
              "            title=\"Suggest charts\"\n",
              "            style=\"display:none;\">\n",
              "\n",
              "<svg xmlns=\"http://www.w3.org/2000/svg\" height=\"24px\"viewBox=\"0 0 24 24\"\n",
              "     width=\"24px\">\n",
              "    <g>\n",
              "        <path d=\"M19 3H5c-1.1 0-2 .9-2 2v14c0 1.1.9 2 2 2h14c1.1 0 2-.9 2-2V5c0-1.1-.9-2-2-2zM9 17H7v-7h2v7zm4 0h-2V7h2v10zm4 0h-2v-4h2v4z\"/>\n",
              "    </g>\n",
              "</svg>\n",
              "  </button>\n",
              "\n",
              "<style>\n",
              "  .colab-df-quickchart {\n",
              "      --bg-color: #E8F0FE;\n",
              "      --fill-color: #1967D2;\n",
              "      --hover-bg-color: #E2EBFA;\n",
              "      --hover-fill-color: #174EA6;\n",
              "      --disabled-fill-color: #AAA;\n",
              "      --disabled-bg-color: #DDD;\n",
              "  }\n",
              "\n",
              "  [theme=dark] .colab-df-quickchart {\n",
              "      --bg-color: #3B4455;\n",
              "      --fill-color: #D2E3FC;\n",
              "      --hover-bg-color: #434B5C;\n",
              "      --hover-fill-color: #FFFFFF;\n",
              "      --disabled-bg-color: #3B4455;\n",
              "      --disabled-fill-color: #666;\n",
              "  }\n",
              "\n",
              "  .colab-df-quickchart {\n",
              "    background-color: var(--bg-color);\n",
              "    border: none;\n",
              "    border-radius: 50%;\n",
              "    cursor: pointer;\n",
              "    display: none;\n",
              "    fill: var(--fill-color);\n",
              "    height: 32px;\n",
              "    padding: 0;\n",
              "    width: 32px;\n",
              "  }\n",
              "\n",
              "  .colab-df-quickchart:hover {\n",
              "    background-color: var(--hover-bg-color);\n",
              "    box-shadow: 0 1px 2px rgba(60, 64, 67, 0.3), 0 1px 3px 1px rgba(60, 64, 67, 0.15);\n",
              "    fill: var(--button-hover-fill-color);\n",
              "  }\n",
              "\n",
              "  .colab-df-quickchart-complete:disabled,\n",
              "  .colab-df-quickchart-complete:disabled:hover {\n",
              "    background-color: var(--disabled-bg-color);\n",
              "    fill: var(--disabled-fill-color);\n",
              "    box-shadow: none;\n",
              "  }\n",
              "\n",
              "  .colab-df-spinner {\n",
              "    border: 2px solid var(--fill-color);\n",
              "    border-color: transparent;\n",
              "    border-bottom-color: var(--fill-color);\n",
              "    animation:\n",
              "      spin 1s steps(1) infinite;\n",
              "  }\n",
              "\n",
              "  @keyframes spin {\n",
              "    0% {\n",
              "      border-color: transparent;\n",
              "      border-bottom-color: var(--fill-color);\n",
              "      border-left-color: var(--fill-color);\n",
              "    }\n",
              "    20% {\n",
              "      border-color: transparent;\n",
              "      border-left-color: var(--fill-color);\n",
              "      border-top-color: var(--fill-color);\n",
              "    }\n",
              "    30% {\n",
              "      border-color: transparent;\n",
              "      border-left-color: var(--fill-color);\n",
              "      border-top-color: var(--fill-color);\n",
              "      border-right-color: var(--fill-color);\n",
              "    }\n",
              "    40% {\n",
              "      border-color: transparent;\n",
              "      border-right-color: var(--fill-color);\n",
              "      border-top-color: var(--fill-color);\n",
              "    }\n",
              "    60% {\n",
              "      border-color: transparent;\n",
              "      border-right-color: var(--fill-color);\n",
              "    }\n",
              "    80% {\n",
              "      border-color: transparent;\n",
              "      border-right-color: var(--fill-color);\n",
              "      border-bottom-color: var(--fill-color);\n",
              "    }\n",
              "    90% {\n",
              "      border-color: transparent;\n",
              "      border-bottom-color: var(--fill-color);\n",
              "    }\n",
              "  }\n",
              "</style>\n",
              "\n",
              "  <script>\n",
              "    async function quickchart(key) {\n",
              "      const quickchartButtonEl =\n",
              "        document.querySelector('#' + key + ' button');\n",
              "      quickchartButtonEl.disabled = true;  // To prevent multiple clicks.\n",
              "      quickchartButtonEl.classList.add('colab-df-spinner');\n",
              "      try {\n",
              "        const charts = await google.colab.kernel.invokeFunction(\n",
              "            'suggestCharts', [key], {});\n",
              "      } catch (error) {\n",
              "        console.error('Error during call to suggestCharts:', error);\n",
              "      }\n",
              "      quickchartButtonEl.classList.remove('colab-df-spinner');\n",
              "      quickchartButtonEl.classList.add('colab-df-quickchart-complete');\n",
              "    }\n",
              "    (() => {\n",
              "      let quickchartButtonEl =\n",
              "        document.querySelector('#df-8a1c9c72-6c7c-4f01-95a1-1cd7ef067f48 button');\n",
              "      quickchartButtonEl.style.display =\n",
              "        google.colab.kernel.accessAllowed ? 'block' : 'none';\n",
              "    })();\n",
              "  </script>\n",
              "</div>\n",
              "\n",
              "    </div>\n",
              "  </div>\n"
            ],
            "application/vnd.google.colaboratory.intrinsic+json": {
              "type": "dataframe",
              "summary": "{\n  \"name\": \"pd\",\n  \"rows\": 20,\n  \"fields\": [\n    {\n      \"column\": \"user_id\",\n      \"properties\": {\n        \"dtype\": \"number\",\n        \"std\": 91251,\n        \"min\": 20807,\n        \"max\": 312302,\n        \"num_unique_values\": 20,\n        \"samples\": [\n          20807,\n          283786,\n          269633\n        ],\n        \"semantic_type\": \"\",\n        \"description\": \"\"\n      }\n    },\n    {\n      \"column\": 226,\n      \"properties\": {\n        \"dtype\": \"number\",\n        \"std\": 4,\n        \"min\": 0,\n        \"max\": 10,\n        \"num_unique_values\": 7,\n        \"samples\": [\n          10,\n          0,\n          2\n        ],\n        \"semantic_type\": \"\",\n        \"description\": \"\"\n      }\n    },\n    {\n      \"column\": 1535,\n      \"properties\": {\n        \"dtype\": \"number\",\n        \"std\": 4,\n        \"min\": 0,\n        \"max\": 10,\n        \"num_unique_values\": 5,\n        \"samples\": [\n          6,\n          3,\n          0\n        ],\n        \"semantic_type\": \"\",\n        \"description\": \"\"\n      }\n    },\n    {\n      \"column\": 1575,\n      \"properties\": {\n        \"dtype\": \"number\",\n        \"std\": 4,\n        \"min\": 0,\n        \"max\": 10,\n        \"num_unique_values\": 6,\n        \"samples\": [\n          10,\n          0,\n          7\n        ],\n        \"semantic_type\": \"\",\n        \"description\": \"\"\n      }\n    },\n    {\n      \"column\": 2001,\n      \"properties\": {\n        \"dtype\": \"number\",\n        \"std\": 4,\n        \"min\": 0,\n        \"max\": 10,\n        \"num_unique_values\": 5,\n        \"samples\": [\n          0,\n          9,\n          7\n        ],\n        \"semantic_type\": \"\",\n        \"description\": \"\"\n      }\n    },\n    {\n      \"column\": 2167,\n      \"properties\": {\n        \"dtype\": \"number\",\n        \"std\": 4,\n        \"min\": 0,\n        \"max\": 10,\n        \"num_unique_values\": 7,\n        \"samples\": [\n          8,\n          9,\n          6\n        ],\n        \"semantic_type\": \"\",\n        \"description\": \"\"\n      }\n    },\n    {\n      \"column\": 4224,\n      \"properties\": {\n        \"dtype\": \"number\",\n        \"std\": 4,\n        \"min\": 0,\n        \"max\": 10,\n        \"num_unique_values\": 6,\n        \"samples\": [\n          10,\n          0,\n          5\n        ],\n        \"semantic_type\": \"\",\n        \"description\": \"\"\n      }\n    },\n    {\n      \"column\": 5081,\n      \"properties\": {\n        \"dtype\": \"number\",\n        \"std\": 4,\n        \"min\": 0,\n        \"max\": 10,\n        \"num_unique_values\": 6,\n        \"samples\": [\n          9,\n          10,\n          7\n        ],\n        \"semantic_type\": \"\",\n        \"description\": \"\"\n      }\n    },\n    {\n      \"column\": 5114,\n      \"properties\": {\n        \"dtype\": \"number\",\n        \"std\": 4,\n        \"min\": 0,\n        \"max\": 10,\n        \"num_unique_values\": 4,\n        \"samples\": [\n          9,\n          8,\n          10\n        ],\n        \"semantic_type\": \"\",\n        \"description\": \"\"\n      }\n    },\n    {\n      \"column\": 6547,\n      \"properties\": {\n        \"dtype\": \"number\",\n        \"std\": 4,\n        \"min\": 0,\n        \"max\": 10,\n        \"num_unique_values\": 6,\n        \"samples\": [\n          10,\n          0,\n          8\n        ],\n        \"semantic_type\": \"\",\n        \"description\": \"\"\n      }\n    },\n    {\n      \"column\": 6746,\n      \"properties\": {\n        \"dtype\": \"number\",\n        \"std\": 4,\n        \"min\": 0,\n        \"max\": 10,\n        \"num_unique_values\": 6,\n        \"samples\": [\n          10,\n          9,\n          7\n        ],\n        \"semantic_type\": \"\",\n        \"description\": \"\"\n      }\n    },\n    {\n      \"column\": 9253,\n      \"properties\": {\n        \"dtype\": \"number\",\n        \"std\": 4,\n        \"min\": 0,\n        \"max\": 10,\n        \"num_unique_values\": 5,\n        \"samples\": [\n          0,\n          7,\n          9\n        ],\n        \"semantic_type\": \"\",\n        \"description\": \"\"\n      }\n    },\n    {\n      \"column\": 9989,\n      \"properties\": {\n        \"dtype\": \"number\",\n        \"std\": 4,\n        \"min\": 0,\n        \"max\": 10,\n        \"num_unique_values\": 6,\n        \"samples\": [\n          9,\n          8,\n          10\n        ],\n        \"semantic_type\": \"\",\n        \"description\": \"\"\n      }\n    },\n    {\n      \"column\": 10620,\n      \"properties\": {\n        \"dtype\": \"number\",\n        \"std\": 3,\n        \"min\": 0,\n        \"max\": 10,\n        \"num_unique_values\": 9,\n        \"samples\": [\n          9,\n          6,\n          2\n        ],\n        \"semantic_type\": \"\",\n        \"description\": \"\"\n      }\n    },\n    {\n      \"column\": 11757,\n      \"properties\": {\n        \"dtype\": \"number\",\n        \"std\": 4,\n        \"min\": 0,\n        \"max\": 10,\n        \"num_unique_values\": 7,\n        \"samples\": [\n          10,\n          0,\n          8\n        ],\n        \"semantic_type\": \"\",\n        \"description\": \"\"\n      }\n    },\n    {\n      \"column\": 14813,\n      \"properties\": {\n        \"dtype\": \"number\",\n        \"std\": 4,\n        \"min\": 0,\n        \"max\": 10,\n        \"num_unique_values\": 6,\n        \"samples\": [\n          8,\n          9,\n          7\n        ],\n        \"semantic_type\": \"\",\n        \"description\": \"\"\n      }\n    },\n    {\n      \"column\": 15809,\n      \"properties\": {\n        \"dtype\": \"number\",\n        \"std\": 4,\n        \"min\": 0,\n        \"max\": 10,\n        \"num_unique_values\": 7,\n        \"samples\": [\n          8,\n          10,\n          9\n        ],\n        \"semantic_type\": \"\",\n        \"description\": \"\"\n      }\n    },\n    {\n      \"column\": 16498,\n      \"properties\": {\n        \"dtype\": \"number\",\n        \"std\": 3,\n        \"min\": 0,\n        \"max\": 10,\n        \"num_unique_values\": 7,\n        \"samples\": [\n          10,\n          9,\n          5\n        ],\n        \"semantic_type\": \"\",\n        \"description\": \"\"\n      }\n    },\n    {\n      \"column\": 19815,\n      \"properties\": {\n        \"dtype\": \"number\",\n        \"std\": 4,\n        \"min\": 0,\n        \"max\": 10,\n        \"num_unique_values\": 8,\n        \"samples\": [\n          0,\n          4,\n          10\n        ],\n        \"semantic_type\": \"\",\n        \"description\": \"\"\n      }\n    },\n    {\n      \"column\": 20507,\n      \"properties\": {\n        \"dtype\": \"number\",\n        \"std\": 4,\n        \"min\": 0,\n        \"max\": 10,\n        \"num_unique_values\": 6,\n        \"samples\": [\n          10,\n          8,\n          0\n        ],\n        \"semantic_type\": \"\",\n        \"description\": \"\"\n      }\n    },\n    {\n      \"column\": 30276,\n      \"properties\": {\n        \"dtype\": \"number\",\n        \"std\": 4,\n        \"min\": 0,\n        \"max\": 10,\n        \"num_unique_values\": 6,\n        \"samples\": [\n          10,\n          8,\n          7\n        ],\n        \"semantic_type\": \"\",\n        \"description\": \"\"\n      }\n    }\n  ]\n}"
            }
          },
          "metadata": {},
          "execution_count": 25
        }
      ],
      "source": [
        "pd.set_option('display.max_columns', None)\n",
        "pd.crosstab(top_relation_anime_user.user_id, top_relation_anime_user.anime_id, top_relation_anime_user.rating, aggfunc=np.sum)"
      ]
    },
    {
      "cell_type": "markdown",
      "source": [
        "# Data Preprocessing"
      ],
      "metadata": {
        "id": "Fmd0mqBXpixw"
      }
    },
    {
      "cell_type": "markdown",
      "source": [
        "## Check Noise Data"
      ],
      "metadata": {
        "id": "RxuXFWTcGb-N"
      }
    },
    {
      "cell_type": "markdown",
      "source": [
        "### Check Duplicate Data\n",
        "Melakukan pengeccekan Duplikat Setiap Data"
      ],
      "metadata": {
        "id": "GLSn4C2QqR04"
      }
    },
    {
      "cell_type": "code",
      "source": [
        "anime_df.duplicated().sum()"
      ],
      "metadata": {
        "colab": {
          "base_uri": "https://localhost:8080/"
        },
        "id": "9a2-27VDoKSz",
        "outputId": "d4cdd79c-3eb6-4c28-e743-3ca78fccfb6e"
      },
      "execution_count": null,
      "outputs": [
        {
          "output_type": "execute_result",
          "data": {
            "text/plain": [
              "0"
            ]
          },
          "metadata": {},
          "execution_count": 12
        }
      ]
    },
    {
      "cell_type": "code",
      "source": [
        "user_rating_df.duplicated().sum()"
      ],
      "metadata": {
        "colab": {
          "base_uri": "https://localhost:8080/"
        },
        "id": "1GjNSCgdqZd-",
        "outputId": "caca74e1-7bc6-44c1-b474-99131aaf9b2f"
      },
      "execution_count": null,
      "outputs": [
        {
          "output_type": "execute_result",
          "data": {
            "text/plain": [
              "1"
            ]
          },
          "metadata": {},
          "execution_count": 13
        }
      ]
    },
    {
      "cell_type": "markdown",
      "source": [
        "### Solve Duplicated Data\n",
        "Mengatasi data duplikat data duplikat"
      ],
      "metadata": {
        "id": "_8F5TccurCXB"
      }
    },
    {
      "cell_type": "code",
      "source": [
        "user_rating_df.drop_duplicates(inplace=True)\n",
        "user_rating_df.duplicated().sum()"
      ],
      "metadata": {
        "colab": {
          "base_uri": "https://localhost:8080/"
        },
        "id": "Teo6I598qs81",
        "outputId": "be817ae0-f73f-490c-e875-66f2726da390"
      },
      "execution_count": null,
      "outputs": [
        {
          "output_type": "execute_result",
          "data": {
            "text/plain": [
              "0"
            ]
          },
          "metadata": {},
          "execution_count": 14
        }
      ]
    },
    {
      "cell_type": "markdown",
      "source": [
        "### Check Missing Value"
      ],
      "metadata": {
        "id": "3E9Ms9EYqhO2"
      }
    },
    {
      "cell_type": "code",
      "source": [
        "anime_df.isnull().sum().sum()"
      ],
      "metadata": {
        "colab": {
          "base_uri": "https://localhost:8080/"
        },
        "id": "PPTyxk5aqlLE",
        "outputId": "54ad2c8e-4754-4b5f-d165-b5f334dc3fec"
      },
      "execution_count": null,
      "outputs": [
        {
          "output_type": "execute_result",
          "data": {
            "text/plain": [
              "0"
            ]
          },
          "metadata": {},
          "execution_count": 15
        }
      ]
    },
    {
      "cell_type": "code",
      "source": [
        "user_rating_df.isnull().sum().sum()"
      ],
      "metadata": {
        "colab": {
          "base_uri": "https://localhost:8080/"
        },
        "id": "XQT-F7wYrNxz",
        "outputId": "e0ef2173-634d-476e-ef2e-f0a5d6d5b6dd"
      },
      "execution_count": null,
      "outputs": [
        {
          "output_type": "execute_result",
          "data": {
            "text/plain": [
              "0"
            ]
          },
          "metadata": {},
          "execution_count": 16
        }
      ]
    },
    {
      "cell_type": "markdown",
      "metadata": {
        "id": "bOEJzOQep3Gs"
      },
      "source": [
        "## Selected Feature on Anime Data\n",
        "Memilih fitur atau variabel pada Anime data, variabel yang digunakan yaitu :\n",
        "- `anime_id`\n",
        "- `Name`\n",
        "- `Genres`"
      ]
    },
    {
      "cell_type": "code",
      "source": [
        "selected_feature = ['anime_id', 'Name', 'Genres']\n",
        "anime_df = anime_df[selected_feature]"
      ],
      "metadata": {
        "id": "UpP4e3gctEoV"
      },
      "execution_count": null,
      "outputs": []
    },
    {
      "cell_type": "markdown",
      "source": [
        "## one hot encoding Genres on Anime Data\n",
        "Hal ini dapat membantu memecahkan data genre menjadi sebuah kolom yang bernilai boolean `(0 or 1)` sehingga data genre dapat diproses dalam sistem"
      ],
      "metadata": {
        "id": "dfriOdW-19Zl"
      }
    },
    {
      "cell_type": "code",
      "source": [
        "anime_df['Genres'] = (\n",
        "    anime_df['Genres']\n",
        "    .str.lower()                   # Ubah ke huruf kecil\n",
        "    .str.replace(' ', '', regex=False)  # Hapus spasi\n",
        "    .str.split(',')                # Split by ','\n",
        ")\n",
        "\n",
        "# One-hot encoding\n",
        "mlb = MultiLabelBinarizer()\n",
        "genres_encoded = pd.DataFrame(\n",
        "    mlb.fit_transform(anime_df['Genres']),\n",
        "    columns=mlb.classes_,\n",
        "    index=anime_df.index\n",
        ")\n",
        "\n",
        "# Gabungkan dengan tabel asli\n",
        "anime_df = pd.concat([anime_df, genres_encoded], axis=1)\n",
        "anime_df.info()"
      ],
      "metadata": {
        "colab": {
          "base_uri": "https://localhost:8080/"
        },
        "id": "jbbAtUypFzWb",
        "outputId": "08f4c452-dfcc-4e51-bbe2-844479ff9ae2"
      },
      "execution_count": null,
      "outputs": [
        {
          "output_type": "stream",
          "name": "stdout",
          "text": [
            "<class 'pandas.core.frame.DataFrame'>\n",
            "RangeIndex: 24905 entries, 0 to 24904\n",
            "Data columns (total 25 columns):\n",
            " #   Column        Non-Null Count  Dtype \n",
            "---  ------        --------------  ----- \n",
            " 0   anime_id      24905 non-null  int64 \n",
            " 1   Name          24905 non-null  object\n",
            " 2   Genres        24905 non-null  object\n",
            " 3   action        24905 non-null  int64 \n",
            " 4   adventure     24905 non-null  int64 \n",
            " 5   avantgarde    24905 non-null  int64 \n",
            " 6   awardwinning  24905 non-null  int64 \n",
            " 7   boyslove      24905 non-null  int64 \n",
            " 8   comedy        24905 non-null  int64 \n",
            " 9   drama         24905 non-null  int64 \n",
            " 10  ecchi         24905 non-null  int64 \n",
            " 11  erotica       24905 non-null  int64 \n",
            " 12  fantasy       24905 non-null  int64 \n",
            " 13  girlslove     24905 non-null  int64 \n",
            " 14  gourmet       24905 non-null  int64 \n",
            " 15  hentai        24905 non-null  int64 \n",
            " 16  horror        24905 non-null  int64 \n",
            " 17  mystery       24905 non-null  int64 \n",
            " 18  romance       24905 non-null  int64 \n",
            " 19  sci-fi        24905 non-null  int64 \n",
            " 20  sliceoflife   24905 non-null  int64 \n",
            " 21  sports        24905 non-null  int64 \n",
            " 22  supernatural  24905 non-null  int64 \n",
            " 23  suspense      24905 non-null  int64 \n",
            " 24  unknown       24905 non-null  int64 \n",
            "dtypes: int64(23), object(2)\n",
            "memory usage: 4.8+ MB\n"
          ]
        },
        {
          "output_type": "stream",
          "name": "stderr",
          "text": [
            "<ipython-input-18-fc96dd5d7d81>:1: SettingWithCopyWarning: \n",
            "A value is trying to be set on a copy of a slice from a DataFrame.\n",
            "Try using .loc[row_indexer,col_indexer] = value instead\n",
            "\n",
            "See the caveats in the documentation: https://pandas.pydata.org/pandas-docs/stable/user_guide/indexing.html#returning-a-view-versus-a-copy\n",
            "  anime_df['Genres'] = (\n"
          ]
        }
      ]
    },
    {
      "cell_type": "markdown",
      "source": [
        "## Create data Limit on User Rating\n",
        "Saya membuat batasan data pada user rating. User yang dipilih adalah user yang minimal melakukan `500` rating data Anime."
      ],
      "metadata": {
        "id": "x7e5GGRZumRG"
      }
    },
    {
      "cell_type": "code",
      "execution_count": null,
      "metadata": {
        "colab": {
          "base_uri": "https://localhost:8080/"
        },
        "id": "Kag-xW8JkH0v",
        "outputId": "c2d45a94-92a7-48c5-e7e8-7489a1bb5652"
      },
      "outputs": [
        {
          "output_type": "stream",
          "name": "stdout",
          "text": [
            "<class 'pandas.core.frame.DataFrame'>\n",
            "Index: 60285538 entries, 1415 to 109224272\n",
            "Data columns (total 3 columns):\n",
            " #   Column    Non-Null Count     Dtype\n",
            "---  ------    --------------     -----\n",
            " 0   user_id   60285538 non-null  int64\n",
            " 1   anime_id  60285538 non-null  int64\n",
            " 2   rating    60285538 non-null  int64\n",
            "dtypes: int64(3)\n",
            "memory usage: 1.8 GB\n"
          ]
        }
      ],
      "source": [
        "n_ratings = user_rating_df.user_id.value_counts()\n",
        "get_index =  n_ratings[n_ratings >= 500].index\n",
        "user_rating_df = user_rating_df[user_rating_df['user_id'].isin(get_index)].copy()\n",
        "user_rating_df.info(show_counts=True)"
      ]
    },
    {
      "cell_type": "code",
      "source": [
        "print(\"Jumlah user yang rating saat ini\", len(get_index))\n",
        "print(\"Jumlah Anime yang rating saat ini\", len(user_rating_df.anime_id.unique()))"
      ],
      "metadata": {
        "colab": {
          "base_uri": "https://localhost:8080/"
        },
        "id": "EtXTDgt7vemk",
        "outputId": "b77d6f10-3099-40cb-897e-17794127cba2"
      },
      "execution_count": null,
      "outputs": [
        {
          "output_type": "stream",
          "name": "stdout",
          "text": [
            "Jumlah user yang rating saat ini 66698\n",
            "Jumlah Anime yang rating saat ini 17560\n"
          ]
        }
      ]
    },
    {
      "cell_type": "markdown",
      "metadata": {
        "id": "Mpup9SnJ5uva"
      },
      "source": [
        "## Build Encode Decode anime_id and user_id"
      ]
    },
    {
      "cell_type": "markdown",
      "source": [
        "Hal ini membuat user_id dan anime_id kedalam numerik dengan rentang `0 - jumlah user_id` dan `0 - anime_id`, yang membantu mengoptimalkan proses komputasi dan mempermudah pengolahan data"
      ],
      "metadata": {
        "id": "pbPDVvbS0p5M"
      }
    },
    {
      "cell_type": "code",
      "execution_count": null,
      "metadata": {
        "colab": {
          "base_uri": "https://localhost:8080/"
        },
        "id": "r3rsAY_j5rsS",
        "outputId": "d4412974-f89d-411a-8512-a49f0eb1fb85"
      },
      "outputs": [
        {
          "output_type": "stream",
          "name": "stdout",
          "text": [
            "Jumlah user = 66698\n",
            "Jumlah anime = 17560\n"
          ]
        }
      ],
      "source": [
        "# encode-decode data anime\n",
        "anime_index = user_rating_df.anime_id.unique().tolist()\n",
        "anime_encode = {x: i for i, x in enumerate(anime_index)}\n",
        "anime_decode = {i: x for i, x in enumerate(anime_index)}\n",
        "\n",
        "# encode-decode data user\n",
        "user_index = user_rating_df.user_id.unique().tolist()\n",
        "user_encode = {x: i for i, x in enumerate(user_index)}\n",
        "user_decode = {i: x for i, x in enumerate(user_index)}\n",
        "\n",
        "# mapping encode data anime dan data user\n",
        "user_rating_df['anime_id'] = user_rating_df['anime_id'].map(anime_encode)\n",
        "user_rating_df['user_id'] = user_rating_df['user_id'].map(user_encode)\n",
        "\n",
        "print(f\"Jumlah user = {len(user_index)}\")\n",
        "print(f\"Jumlah anime = {len(anime_index)}\")"
      ]
    },
    {
      "cell_type": "markdown",
      "metadata": {
        "id": "gtuoC3JI-dTR"
      },
      "source": [
        "## Normalisasi Rating data"
      ]
    },
    {
      "cell_type": "markdown",
      "source": [
        "mengubah rentang data menjadi `0-1`"
      ],
      "metadata": {
        "id": "HJk_7a1Z1f5z"
      }
    },
    {
      "cell_type": "code",
      "execution_count": null,
      "metadata": {
        "colab": {
          "base_uri": "https://localhost:8080/"
        },
        "id": "2p2Uvuqd-bx8",
        "outputId": "cd435781-647f-4d58-fd50-40908b0d633d"
      },
      "outputs": [
        {
          "output_type": "execute_result",
          "data": {
            "text/plain": [
              "array([ 8,  0,  7,  6,  1,  4,  9, 10,  5,  3,  2])"
            ]
          },
          "metadata": {},
          "execution_count": 27
        }
      ],
      "source": [
        "user_rating_df.rating.unique()"
      ]
    },
    {
      "cell_type": "code",
      "execution_count": null,
      "metadata": {
        "colab": {
          "base_uri": "https://localhost:8080/",
          "height": 300
        },
        "id": "q8ecLv0m-mrJ",
        "outputId": "f15e2d73-6d4f-4ddc-a448-3448cbfdcd12"
      },
      "outputs": [
        {
          "output_type": "execute_result",
          "data": {
            "text/plain": [
              "            user_id      anime_id        rating\n",
              "count  6.028554e+07  6.028554e+07  6.028554e+07\n",
              "mean   3.337805e+04  2.606100e+03  3.995696e-01\n",
              "std    1.924036e+04  2.620606e+03  3.832890e-01\n",
              "min    0.000000e+00  0.000000e+00  0.000000e+00\n",
              "25%    1.670100e+04  7.980000e+02  0.000000e+00\n",
              "50%    3.338900e+04  1.634000e+03  5.000000e-01\n",
              "75%    5.008500e+04  3.536000e+03  8.000000e-01\n",
              "max    6.669700e+04  1.755900e+04  1.000000e+00"
            ],
            "text/html": [
              "\n",
              "  <div id=\"df-244f18b0-283c-4958-a0e0-4a595f3a20cf\" class=\"colab-df-container\">\n",
              "    <div>\n",
              "<style scoped>\n",
              "    .dataframe tbody tr th:only-of-type {\n",
              "        vertical-align: middle;\n",
              "    }\n",
              "\n",
              "    .dataframe tbody tr th {\n",
              "        vertical-align: top;\n",
              "    }\n",
              "\n",
              "    .dataframe thead th {\n",
              "        text-align: right;\n",
              "    }\n",
              "</style>\n",
              "<table border=\"1\" class=\"dataframe\">\n",
              "  <thead>\n",
              "    <tr style=\"text-align: right;\">\n",
              "      <th></th>\n",
              "      <th>user_id</th>\n",
              "      <th>anime_id</th>\n",
              "      <th>rating</th>\n",
              "    </tr>\n",
              "  </thead>\n",
              "  <tbody>\n",
              "    <tr>\n",
              "      <th>count</th>\n",
              "      <td>6.028554e+07</td>\n",
              "      <td>6.028554e+07</td>\n",
              "      <td>6.028554e+07</td>\n",
              "    </tr>\n",
              "    <tr>\n",
              "      <th>mean</th>\n",
              "      <td>3.337805e+04</td>\n",
              "      <td>2.606100e+03</td>\n",
              "      <td>3.995696e-01</td>\n",
              "    </tr>\n",
              "    <tr>\n",
              "      <th>std</th>\n",
              "      <td>1.924036e+04</td>\n",
              "      <td>2.620606e+03</td>\n",
              "      <td>3.832890e-01</td>\n",
              "    </tr>\n",
              "    <tr>\n",
              "      <th>min</th>\n",
              "      <td>0.000000e+00</td>\n",
              "      <td>0.000000e+00</td>\n",
              "      <td>0.000000e+00</td>\n",
              "    </tr>\n",
              "    <tr>\n",
              "      <th>25%</th>\n",
              "      <td>1.670100e+04</td>\n",
              "      <td>7.980000e+02</td>\n",
              "      <td>0.000000e+00</td>\n",
              "    </tr>\n",
              "    <tr>\n",
              "      <th>50%</th>\n",
              "      <td>3.338900e+04</td>\n",
              "      <td>1.634000e+03</td>\n",
              "      <td>5.000000e-01</td>\n",
              "    </tr>\n",
              "    <tr>\n",
              "      <th>75%</th>\n",
              "      <td>5.008500e+04</td>\n",
              "      <td>3.536000e+03</td>\n",
              "      <td>8.000000e-01</td>\n",
              "    </tr>\n",
              "    <tr>\n",
              "      <th>max</th>\n",
              "      <td>6.669700e+04</td>\n",
              "      <td>1.755900e+04</td>\n",
              "      <td>1.000000e+00</td>\n",
              "    </tr>\n",
              "  </tbody>\n",
              "</table>\n",
              "</div>\n",
              "    <div class=\"colab-df-buttons\">\n",
              "\n",
              "  <div class=\"colab-df-container\">\n",
              "    <button class=\"colab-df-convert\" onclick=\"convertToInteractive('df-244f18b0-283c-4958-a0e0-4a595f3a20cf')\"\n",
              "            title=\"Convert this dataframe to an interactive table.\"\n",
              "            style=\"display:none;\">\n",
              "\n",
              "  <svg xmlns=\"http://www.w3.org/2000/svg\" height=\"24px\" viewBox=\"0 -960 960 960\">\n",
              "    <path d=\"M120-120v-720h720v720H120Zm60-500h600v-160H180v160Zm220 220h160v-160H400v160Zm0 220h160v-160H400v160ZM180-400h160v-160H180v160Zm440 0h160v-160H620v160ZM180-180h160v-160H180v160Zm440 0h160v-160H620v160Z\"/>\n",
              "  </svg>\n",
              "    </button>\n",
              "\n",
              "  <style>\n",
              "    .colab-df-container {\n",
              "      display:flex;\n",
              "      gap: 12px;\n",
              "    }\n",
              "\n",
              "    .colab-df-convert {\n",
              "      background-color: #E8F0FE;\n",
              "      border: none;\n",
              "      border-radius: 50%;\n",
              "      cursor: pointer;\n",
              "      display: none;\n",
              "      fill: #1967D2;\n",
              "      height: 32px;\n",
              "      padding: 0 0 0 0;\n",
              "      width: 32px;\n",
              "    }\n",
              "\n",
              "    .colab-df-convert:hover {\n",
              "      background-color: #E2EBFA;\n",
              "      box-shadow: 0px 1px 2px rgba(60, 64, 67, 0.3), 0px 1px 3px 1px rgba(60, 64, 67, 0.15);\n",
              "      fill: #174EA6;\n",
              "    }\n",
              "\n",
              "    .colab-df-buttons div {\n",
              "      margin-bottom: 4px;\n",
              "    }\n",
              "\n",
              "    [theme=dark] .colab-df-convert {\n",
              "      background-color: #3B4455;\n",
              "      fill: #D2E3FC;\n",
              "    }\n",
              "\n",
              "    [theme=dark] .colab-df-convert:hover {\n",
              "      background-color: #434B5C;\n",
              "      box-shadow: 0px 1px 3px 1px rgba(0, 0, 0, 0.15);\n",
              "      filter: drop-shadow(0px 1px 2px rgba(0, 0, 0, 0.3));\n",
              "      fill: #FFFFFF;\n",
              "    }\n",
              "  </style>\n",
              "\n",
              "    <script>\n",
              "      const buttonEl =\n",
              "        document.querySelector('#df-244f18b0-283c-4958-a0e0-4a595f3a20cf button.colab-df-convert');\n",
              "      buttonEl.style.display =\n",
              "        google.colab.kernel.accessAllowed ? 'block' : 'none';\n",
              "\n",
              "      async function convertToInteractive(key) {\n",
              "        const element = document.querySelector('#df-244f18b0-283c-4958-a0e0-4a595f3a20cf');\n",
              "        const dataTable =\n",
              "          await google.colab.kernel.invokeFunction('convertToInteractive',\n",
              "                                                    [key], {});\n",
              "        if (!dataTable) return;\n",
              "\n",
              "        const docLinkHtml = 'Like what you see? Visit the ' +\n",
              "          '<a target=\"_blank\" href=https://colab.research.google.com/notebooks/data_table.ipynb>data table notebook</a>'\n",
              "          + ' to learn more about interactive tables.';\n",
              "        element.innerHTML = '';\n",
              "        dataTable['output_type'] = 'display_data';\n",
              "        await google.colab.output.renderOutput(dataTable, element);\n",
              "        const docLink = document.createElement('div');\n",
              "        docLink.innerHTML = docLinkHtml;\n",
              "        element.appendChild(docLink);\n",
              "      }\n",
              "    </script>\n",
              "  </div>\n",
              "\n",
              "\n",
              "<div id=\"df-948776d8-75ae-42ef-9b30-e37e77072dc2\">\n",
              "  <button class=\"colab-df-quickchart\" onclick=\"quickchart('df-948776d8-75ae-42ef-9b30-e37e77072dc2')\"\n",
              "            title=\"Suggest charts\"\n",
              "            style=\"display:none;\">\n",
              "\n",
              "<svg xmlns=\"http://www.w3.org/2000/svg\" height=\"24px\"viewBox=\"0 0 24 24\"\n",
              "     width=\"24px\">\n",
              "    <g>\n",
              "        <path d=\"M19 3H5c-1.1 0-2 .9-2 2v14c0 1.1.9 2 2 2h14c1.1 0 2-.9 2-2V5c0-1.1-.9-2-2-2zM9 17H7v-7h2v7zm4 0h-2V7h2v10zm4 0h-2v-4h2v4z\"/>\n",
              "    </g>\n",
              "</svg>\n",
              "  </button>\n",
              "\n",
              "<style>\n",
              "  .colab-df-quickchart {\n",
              "      --bg-color: #E8F0FE;\n",
              "      --fill-color: #1967D2;\n",
              "      --hover-bg-color: #E2EBFA;\n",
              "      --hover-fill-color: #174EA6;\n",
              "      --disabled-fill-color: #AAA;\n",
              "      --disabled-bg-color: #DDD;\n",
              "  }\n",
              "\n",
              "  [theme=dark] .colab-df-quickchart {\n",
              "      --bg-color: #3B4455;\n",
              "      --fill-color: #D2E3FC;\n",
              "      --hover-bg-color: #434B5C;\n",
              "      --hover-fill-color: #FFFFFF;\n",
              "      --disabled-bg-color: #3B4455;\n",
              "      --disabled-fill-color: #666;\n",
              "  }\n",
              "\n",
              "  .colab-df-quickchart {\n",
              "    background-color: var(--bg-color);\n",
              "    border: none;\n",
              "    border-radius: 50%;\n",
              "    cursor: pointer;\n",
              "    display: none;\n",
              "    fill: var(--fill-color);\n",
              "    height: 32px;\n",
              "    padding: 0;\n",
              "    width: 32px;\n",
              "  }\n",
              "\n",
              "  .colab-df-quickchart:hover {\n",
              "    background-color: var(--hover-bg-color);\n",
              "    box-shadow: 0 1px 2px rgba(60, 64, 67, 0.3), 0 1px 3px 1px rgba(60, 64, 67, 0.15);\n",
              "    fill: var(--button-hover-fill-color);\n",
              "  }\n",
              "\n",
              "  .colab-df-quickchart-complete:disabled,\n",
              "  .colab-df-quickchart-complete:disabled:hover {\n",
              "    background-color: var(--disabled-bg-color);\n",
              "    fill: var(--disabled-fill-color);\n",
              "    box-shadow: none;\n",
              "  }\n",
              "\n",
              "  .colab-df-spinner {\n",
              "    border: 2px solid var(--fill-color);\n",
              "    border-color: transparent;\n",
              "    border-bottom-color: var(--fill-color);\n",
              "    animation:\n",
              "      spin 1s steps(1) infinite;\n",
              "  }\n",
              "\n",
              "  @keyframes spin {\n",
              "    0% {\n",
              "      border-color: transparent;\n",
              "      border-bottom-color: var(--fill-color);\n",
              "      border-left-color: var(--fill-color);\n",
              "    }\n",
              "    20% {\n",
              "      border-color: transparent;\n",
              "      border-left-color: var(--fill-color);\n",
              "      border-top-color: var(--fill-color);\n",
              "    }\n",
              "    30% {\n",
              "      border-color: transparent;\n",
              "      border-left-color: var(--fill-color);\n",
              "      border-top-color: var(--fill-color);\n",
              "      border-right-color: var(--fill-color);\n",
              "    }\n",
              "    40% {\n",
              "      border-color: transparent;\n",
              "      border-right-color: var(--fill-color);\n",
              "      border-top-color: var(--fill-color);\n",
              "    }\n",
              "    60% {\n",
              "      border-color: transparent;\n",
              "      border-right-color: var(--fill-color);\n",
              "    }\n",
              "    80% {\n",
              "      border-color: transparent;\n",
              "      border-right-color: var(--fill-color);\n",
              "      border-bottom-color: var(--fill-color);\n",
              "    }\n",
              "    90% {\n",
              "      border-color: transparent;\n",
              "      border-bottom-color: var(--fill-color);\n",
              "    }\n",
              "  }\n",
              "</style>\n",
              "\n",
              "  <script>\n",
              "    async function quickchart(key) {\n",
              "      const quickchartButtonEl =\n",
              "        document.querySelector('#' + key + ' button');\n",
              "      quickchartButtonEl.disabled = true;  // To prevent multiple clicks.\n",
              "      quickchartButtonEl.classList.add('colab-df-spinner');\n",
              "      try {\n",
              "        const charts = await google.colab.kernel.invokeFunction(\n",
              "            'suggestCharts', [key], {});\n",
              "      } catch (error) {\n",
              "        console.error('Error during call to suggestCharts:', error);\n",
              "      }\n",
              "      quickchartButtonEl.classList.remove('colab-df-spinner');\n",
              "      quickchartButtonEl.classList.add('colab-df-quickchart-complete');\n",
              "    }\n",
              "    (() => {\n",
              "      let quickchartButtonEl =\n",
              "        document.querySelector('#df-948776d8-75ae-42ef-9b30-e37e77072dc2 button');\n",
              "      quickchartButtonEl.style.display =\n",
              "        google.colab.kernel.accessAllowed ? 'block' : 'none';\n",
              "    })();\n",
              "  </script>\n",
              "</div>\n",
              "\n",
              "    </div>\n",
              "  </div>\n"
            ],
            "application/vnd.google.colaboratory.intrinsic+json": {
              "type": "dataframe",
              "summary": "{\n  \"name\": \"user_rating_df\",\n  \"rows\": 8,\n  \"fields\": [\n    {\n      \"column\": \"user_id\",\n      \"properties\": {\n        \"dtype\": \"number\",\n        \"std\": 21303080.324407708,\n        \"min\": 0.0,\n        \"max\": 60285538.0,\n        \"num_unique_values\": 8,\n        \"samples\": [\n          33378.04850161576,\n          33389.0,\n          60285538.0\n        ],\n        \"semantic_type\": \"\",\n        \"description\": \"\"\n      }\n    },\n    {\n      \"column\": \"anime_id\",\n      \"properties\": {\n        \"dtype\": \"number\",\n        \"std\": 21312704.818387605,\n        \"min\": 0.0,\n        \"max\": 60285538.0,\n        \"num_unique_values\": 8,\n        \"samples\": [\n          2606.100485476301,\n          1634.0,\n          60285538.0\n        ],\n        \"semantic_type\": \"\",\n        \"description\": \"\"\n      }\n    },\n    {\n      \"column\": \"rating\",\n      \"properties\": {\n        \"dtype\": \"number\",\n        \"std\": 21314156.20793178,\n        \"min\": 0.0,\n        \"max\": 60285538.0,\n        \"num_unique_values\": 7,\n        \"samples\": [\n          60285538.0,\n          0.3995695501630915,\n          0.8\n        ],\n        \"semantic_type\": \"\",\n        \"description\": \"\"\n      }\n    }\n  ]\n}"
            }
          },
          "metadata": {},
          "execution_count": 28
        }
      ],
      "source": [
        "min_rating = min(user_rating_df['rating'])\n",
        "max_rating = max(user_rating_df['rating'])\n",
        "user_rating_df['rating'] = user_rating_df[\"rating\"].apply(lambda x: (x - min_rating) / (max_rating - min_rating)).values.astype(np.float64)\n",
        "\n",
        "user_rating_df.describe()"
      ]
    },
    {
      "cell_type": "markdown",
      "metadata": {
        "id": "_oB5XhNaFEKp"
      },
      "source": [
        "## Training Test set split"
      ]
    },
    {
      "cell_type": "markdown",
      "source": [
        "Membagi data menjadi data training dan data testing"
      ],
      "metadata": {
        "id": "mk_54bfd15ht"
      }
    },
    {
      "cell_type": "code",
      "execution_count": null,
      "metadata": {
        "id": "lRae8W1eChfb"
      },
      "outputs": [],
      "source": [
        "# Pembagian data\n",
        "train, test = train_test_split(user_rating_df, test_size=0.2, random_state=42)\n",
        "\n",
        "# Training set\n",
        "train_users = train[\"user_id\"].values\n",
        "train_animes = train[\"anime_id\"].values\n",
        "train_ratings = train[\"rating\"].values\n",
        "\n",
        "# Testing set\n",
        "test_users = test[\"user_id\"].values\n",
        "test_animes = test[\"anime_id\"].values\n",
        "test_ratings = test[\"rating\"].values"
      ]
    },
    {
      "cell_type": "markdown",
      "source": [
        "# Modelling\n",
        "Membangun model embedding"
      ],
      "metadata": {
        "id": "tuXZC-Q1Mjk8"
      }
    },
    {
      "cell_type": "code",
      "execution_count": null,
      "metadata": {
        "id": "SmtMKpNx_EI7"
      },
      "outputs": [],
      "source": [
        "def EmbeddingModel(n_users, n_animes, embedding_dim=128):\n",
        "    # Input untuk user\n",
        "    user_input = Input(shape=(1,), name=\"user_input\")\n",
        "    user_embedding = Embedding(input_dim=n_users, output_dim=embedding_dim, name=\"user_embedding\")(user_input)\n",
        "    user_vec = Flatten()(user_embedding)\n",
        "\n",
        "    # Input untuk anime\n",
        "    anime_input = Input(shape=(1,), name=\"anime_input\")\n",
        "    anime_embedding = Embedding(input_dim=n_animes, output_dim=embedding_dim, name=\"anime_embedding\")(anime_input)\n",
        "    anime_vec = Flatten()(anime_embedding)\n",
        "\n",
        "    # Dot product antara user dan anime\n",
        "    dot_product = Dot(axes=1)([user_vec, anime_vec])\n",
        "\n",
        "    # Model\n",
        "    model = Model(inputs=[user_input, anime_input], outputs=dot_product)\n",
        "    model.compile(optimizer=Adam(learning_rate=0.001), loss=\"mean_squared_error\")\n",
        "    return model\n",
        "\n",
        "# Inisialisasi model\n",
        "embedding_model = EmbeddingModel(len(user_encode), len(anime_encode))\n",
        "\n"
      ]
    },
    {
      "cell_type": "markdown",
      "source": [
        "## Setup TPU"
      ],
      "metadata": {
        "id": "cqqP72td2ISf"
      }
    },
    {
      "cell_type": "markdown",
      "source": [
        "untuk melakukan training embedding, perlu mengatur TPU agar proses lebih cepat dibandingkan dengan CPU"
      ],
      "metadata": {
        "id": "waDVGfLO2PKg"
      }
    },
    {
      "cell_type": "code",
      "execution_count": null,
      "metadata": {
        "id": "xISlBnKcNBIZ"
      },
      "outputs": [],
      "source": [
        "# prompt: tensorflow connect TPU\n",
        "try:\n",
        "  tpu = tf.distribute.cluster_resolver.TPUClusterResolver()  # TPU detection\n",
        "  # print('Running on TPU ', tpu.cluster_spec().as_dict()['worker'])\n",
        "except ValueError:\n",
        "  raise BaseException('ERROR: Not connected to a TPU runtime; please see the previous cell in this notebook for instructions!')\n",
        "\n",
        "tf.config.experimental_connect_to_cluster(tpu)\n",
        "tf.tpu.experimental.initialize_tpu_system(tpu)\n",
        "tpu_strategy = tf.distribute.TPUStrategy(tpu)"
      ]
    },
    {
      "cell_type": "markdown",
      "source": [
        "## Training Embedding Model"
      ],
      "metadata": {
        "id": "hWdNG_Nv2LoW"
      }
    },
    {
      "cell_type": "markdown",
      "source": [
        "Melakukan training dengan TPU strategy, karena menggunakan TPU penulis memperbesarkan `batch_size = 3096` dan TPU yang saya gunakan terbatas, saya menggunakan `epoch = 10`. Hal ini dilakukan karena data begitu besar dengan device terbatas, sehingga saya mengakali nya demikian."
      ],
      "metadata": {
        "id": "m19fOySg2dUT"
      }
    },
    {
      "cell_type": "code",
      "execution_count": null,
      "metadata": {
        "id": "fuarPZe9HaMS",
        "colab": {
          "base_uri": "https://localhost:8080/"
        },
        "outputId": "3dc5a9d0-3524-45d2-fc92-cd92e3fc3d19"
      },
      "outputs": [
        {
          "output_type": "stream",
          "name": "stdout",
          "text": [
            "Model: \"model_1\"\n",
            "__________________________________________________________________________________________________\n",
            " Layer (type)                Output Shape                 Param #   Connected to                  \n",
            "==================================================================================================\n",
            " user_input (InputLayer)     [(None, 1)]                  0         []                            \n",
            "                                                                                                  \n",
            " anime_input (InputLayer)    [(None, 1)]                  0         []                            \n",
            "                                                                                                  \n",
            " user_embedding (Embedding)  (None, 1, 128)               8537344   ['user_input[0][0]']          \n",
            "                                                                                                  \n",
            " anime_embedding (Embedding  (None, 1, 128)               2247680   ['anime_input[0][0]']         \n",
            " )                                                                                                \n",
            "                                                                                                  \n",
            " flatten_2 (Flatten)         (None, 128)                  0         ['user_embedding[0][0]']      \n",
            "                                                                                                  \n",
            " flatten_3 (Flatten)         (None, 128)                  0         ['anime_embedding[0][0]']     \n",
            "                                                                                                  \n",
            " dot_1 (Dot)                 (None, 1)                    0         ['flatten_2[0][0]',           \n",
            "                                                                     'flatten_3[0][0]']           \n",
            "                                                                                                  \n",
            "==================================================================================================\n",
            "Total params: 10785024 (41.14 MB)\n",
            "Trainable params: 10785024 (41.14 MB)\n",
            "Non-trainable params: 0 (0.00 Byte)\n",
            "__________________________________________________________________________________________________\n",
            "Epoch 1/10\n",
            "15578/15578 [==============================] - 330s 21ms/step - loss: 0.0892 - val_loss: 0.0731\n",
            "Epoch 2/10\n",
            "15578/15578 [==============================] - 319s 21ms/step - loss: 0.0670 - val_loss: 0.0713\n",
            "Epoch 3/10\n",
            "15578/15578 [==============================] - 318s 20ms/step - loss: 0.0620 - val_loss: 0.0719\n",
            "Epoch 4/10\n",
            "15578/15578 [==============================] - 318s 20ms/step - loss: 0.0599 - val_loss: 0.0725\n",
            "Epoch 5/10\n",
            "15578/15578 [==============================] - 318s 20ms/step - loss: 0.0588 - val_loss: 0.0732\n",
            "Epoch 6/10\n",
            "15578/15578 [==============================] - 318s 20ms/step - loss: 0.0582 - val_loss: 0.0737\n",
            "Epoch 7/10\n",
            "15578/15578 [==============================] - 318s 20ms/step - loss: 0.0577 - val_loss: 0.0742\n",
            "Epoch 8/10\n",
            "15578/15578 [==============================] - 319s 20ms/step - loss: 0.0574 - val_loss: 0.0745\n",
            "Epoch 9/10\n",
            "15578/15578 [==============================] - 318s 20ms/step - loss: 0.0571 - val_loss: 0.0748\n",
            "Epoch 10/10\n",
            "15578/15578 [==============================] - 318s 20ms/step - loss: 0.0569 - val_loss: 0.0751\n"
          ]
        }
      ],
      "source": [
        "with tpu_strategy.scope():\n",
        "    # Your existing model definition here\n",
        "    embedding_model = EmbeddingModel(len(user_encode), len(anime_encode))\n",
        "    embedding_model.summary()\n",
        "\n",
        "    # ... rest of your training code ...\n",
        "    history = embedding_model.fit(\n",
        "    [train_users, train_animes],\n",
        "    train_ratings,\n",
        "    batch_size=3096,\n",
        "    epochs=10,\n",
        "    validation_data = ([test_users, test_animes], test_ratings),\n",
        "    verbose=1)"
      ]
    },
    {
      "cell_type": "markdown",
      "source": [
        "menampilkan grafik training loss dan testing loss saat proses Training. MSE yang didapat adalah `0.0751`. Nilai loss seperti ini sudah layak untuk digunakan untuk Sistem Rekomendasi."
      ],
      "metadata": {
        "id": "n3ULYPIC3Rk6"
      }
    },
    {
      "cell_type": "code",
      "execution_count": null,
      "metadata": {
        "id": "FURfRdIHKutU",
        "colab": {
          "base_uri": "https://localhost:8080/",
          "height": 472
        },
        "outputId": "a48fa10b-021d-41de-d3f8-45f64e2a5909"
      },
      "outputs": [
        {
          "output_type": "display_data",
          "data": {
            "text/plain": [
              "<Figure size 640x480 with 1 Axes>"
            ],
            "image/png": "[encoded data removed]"
          },
          "metadata": {}
        }
      ],
      "source": [
        "# Plot training & validation loss\n",
        "plt.plot(history.history['loss'], label='Training Loss')\n",
        "plt.plot(history.history['val_loss'], label='Testing Loss')\n",
        "plt.xlabel('Epochs')\n",
        "plt.ylabel('Loss')\n",
        "plt.title('Loss During Training')\n",
        "plt.legend()\n",
        "plt.show()"
      ]
    },
    {
      "cell_type": "markdown",
      "source": [
        "## Save model"
      ],
      "metadata": {
        "id": "ww2IUVYIeGNe"
      }
    },
    {
      "cell_type": "markdown",
      "source": [
        "melakukan save model agar menghemat waktu untuk evaluasi"
      ],
      "metadata": {
        "id": "BVT3aa0V4JLk"
      }
    },
    {
      "cell_type": "code",
      "source": [
        "embedding_model.save('embedding_model.h5')"
      ],
      "metadata": {
        "colab": {
          "base_uri": "https://localhost:8080/"
        },
        "id": "EsGA4mSMeHyw",
        "outputId": "fd2e38f6-840e-4af4-9d2c-03fb69f5c034"
      },
      "execution_count": null,
      "outputs": [
        {
          "output_type": "stream",
          "name": "stderr",
          "text": [
            "/usr/local/lib/python3.10/dist-packages/keras/src/engine/training.py:3103: UserWarning: You are saving your model as an HDF5 file via `model.save()`. This file format is considered legacy. We recommend using instead the native Keras format, e.g. `model.save('my_model.keras')`.\n",
            "  saving_api.save_model(\n"
          ]
        }
      ]
    },
    {
      "cell_type": "markdown",
      "source": [
        "## Load Model"
      ],
      "metadata": {
        "id": "AyDjDl6zM7Eb"
      }
    },
    {
      "cell_type": "code",
      "source": [
        "embedding_path = '/content/drive/MyDrive/Colab Notebooks/embedding_model.h5'\n",
        "\n",
        "# Load the saved model\n",
        "embedding_model = load_model(embedding_path)\n",
        "embedding_model.summary()\n"
      ],
      "metadata": {
        "colab": {
          "base_uri": "https://localhost:8080/"
        },
        "id": "q1htcgC1Nl1D",
        "outputId": "71c280f8-471e-4d7c-c9a0-c81c84d9aa60"
      },
      "execution_count": null,
      "outputs": [
        {
          "output_type": "stream",
          "name": "stdout",
          "text": [
            "Model: \"model_1\"\n",
            "__________________________________________________________________________________________________\n",
            " Layer (type)                Output Shape                 Param #   Connected to                  \n",
            "==================================================================================================\n",
            " user_input (InputLayer)     [(None, 1)]                  0         []                            \n",
            "                                                                                                  \n",
            " anime_input (InputLayer)    [(None, 1)]                  0         []                            \n",
            "                                                                                                  \n",
            " user_embedding (Embedding)  (None, 1, 128)               8537344   ['user_input[0][0]']          \n",
            "                                                                                                  \n",
            " anime_embedding (Embedding  (None, 1, 128)               2247680   ['anime_input[0][0]']         \n",
            " )                                                                                                \n",
            "                                                                                                  \n",
            " flatten_2 (Flatten)         (None, 128)                  0         ['user_embedding[0][0]']      \n",
            "                                                                                                  \n",
            " flatten_3 (Flatten)         (None, 128)                  0         ['anime_embedding[0][0]']     \n",
            "                                                                                                  \n",
            " dot_1 (Dot)                 (None, 1)                    0         ['flatten_2[0][0]',           \n",
            "                                                                     'flatten_3[0][0]']           \n",
            "                                                                                                  \n",
            "==================================================================================================\n",
            "Total params: 10785024 (41.14 MB)\n",
            "Trainable params: 10785024 (41.14 MB)\n",
            "Non-trainable params: 0 (0.00 Byte)\n",
            "__________________________________________________________________________________________________\n"
          ]
        }
      ]
    },
    {
      "cell_type": "markdown",
      "source": [
        "## Extract Weights Model Embedding"
      ],
      "metadata": {
        "id": "3jz85K264aPZ"
      }
    },
    {
      "cell_type": "markdown",
      "source": [
        "hasil ekstrak bobot ini akan digunakan untuk memprediksi rating daalam Sistem Rekomendasi"
      ],
      "metadata": {
        "id": "BM3zyq8c4l9I"
      }
    },
    {
      "cell_type": "code",
      "source": [
        "def extract_weights(name, model):\n",
        "    weight_layer = model.get_layer(name)\n",
        "    weights = weight_layer.get_weights()[0]\n",
        "    weights = weights / np.linalg.norm(weights, axis = 1).reshape((-1, 1))\n",
        "    return weights\n",
        "\n",
        "anime_weights = extract_weights('anime_embedding', embedding_model)\n",
        "user_weights = extract_weights('user_embedding', embedding_model)"
      ],
      "metadata": {
        "id": "XSKmL9q1Pz_a"
      },
      "execution_count": null,
      "outputs": []
    },
    {
      "cell_type": "markdown",
      "source": [
        "# Prediction Evaluation"
      ],
      "metadata": {
        "id": "GczDLm3pdGul"
      }
    },
    {
      "cell_type": "markdown",
      "source": [
        "melihat evaluasi prediksi rating pada data testing menggunakan MSE"
      ],
      "metadata": {
        "id": "wEeWp6zv4-Hj"
      }
    },
    {
      "cell_type": "code",
      "source": [
        "predicted_ratings = embedding_model.predict([test_users, test_animes])  # Rating prediksi\n",
        "\n",
        "mse = mean_squared_error(test_ratings, predicted_ratings)\n",
        "print(f\"Mean Squared Error: {mse}\")\n"
      ],
      "metadata": {
        "colab": {
          "base_uri": "https://localhost:8080/"
        },
        "id": "2OEItDoidIZo",
        "outputId": "ba38b29a-4ccb-4549-b81a-d2ef6e5b2185"
      },
      "execution_count": null,
      "outputs": [
        {
          "output_type": "stream",
          "name": "stdout",
          "text": [
            "376785/376785 [==============================] - 347s 922us/step\n",
            "Mean Squared Error: 0.07505408284875245\n"
          ]
        }
      ]
    },
    {
      "cell_type": "markdown",
      "source": [
        "# System Recommendation"
      ],
      "metadata": {
        "id": "Gw_iB3cE8hLb"
      }
    },
    {
      "cell_type": "markdown",
      "source": [
        "## Function Find Similar User"
      ],
      "metadata": {
        "id": "6u3nEdfMzDvt"
      }
    },
    {
      "cell_type": "markdown",
      "source": [
        "mencari kemiripan dari setiap user"
      ],
      "metadata": {
        "id": "SGJIJcu165bn"
      }
    },
    {
      "cell_type": "code",
      "source": [
        "def find_similar_users(user_id, n=10, return_dist=False, neg=False):\n",
        "  try:\n",
        "        # Mendapatkan user_id encode\n",
        "        encoded_user = user_encode.get(user_id)\n",
        "\n",
        "        # Mengambil bobot embedding user\n",
        "        weights = user_weights\n",
        "\n",
        "        # Menghitung jarak antara user menggunakan dot product\n",
        "        dists = np.dot(weights, weights[encoded_user])\n",
        "\n",
        "        # Mengurutkan berdasarkan jarak (dari yang terjauh ke yang terdekat)\n",
        "        sorted_dists = np.argsort(dists)\n",
        "\n",
        "        # Menentukan jumlah user id yang ingin dicari\n",
        "        n = n + 1\n",
        "\n",
        "        if neg:\n",
        "            closest = sorted_dists[:n]\n",
        "        else:\n",
        "            closest = sorted_dists[-n:]\n",
        "\n",
        "        if return_dist:\n",
        "            return dists, closest\n",
        "\n",
        "        # Mengambil data anime dan memasukkan informasi ke dalam array\n",
        "        SimilarityArr = []\n",
        "\n",
        "        for close in closest:\n",
        "            decoded_id = user_decode.get(close)\n",
        "\n",
        "            similarity = dists[close]\n",
        "\n",
        "            SimilarityArr.append({\n",
        "                \"simillar_usr\": decoded_id,\n",
        "                \"similarity\": similarity,\n",
        "            })\n",
        "\n",
        "        # Mengubah hasil ke dalam DataFrame dan mengurutkannya berdasarkan similarity\n",
        "        Frame = pd.DataFrame(SimilarityArr).sort_values(by=\"similarity\", ascending=False)\n",
        "\n",
        "        # Mengembalikan hasil tanpa anime yang dicari\n",
        "        return Frame[1:]\n",
        "\n",
        "  except Exception as e:\n",
        "        print(f\"Error: {str(e)}\")\n"
      ],
      "metadata": {
        "id": "CshkucdVzDcT"
      },
      "execution_count": null,
      "outputs": []
    },
    {
      "cell_type": "code",
      "source": [
        "similar_users = find_similar_users(11165, n=10)\n",
        "similar_users"
      ],
      "metadata": {
        "colab": {
          "base_uri": "https://localhost:8080/",
          "height": 363
        },
        "id": "q64eB8RNJhbD",
        "outputId": "754081f7-8e6b-453e-e25b-8e6e5e0f1624"
      },
      "execution_count": null,
      "outputs": [
        {
          "output_type": "execute_result",
          "data": {
            "text/plain": [
              "   simillar_usr  similarity\n",
              "9          1904    0.372000\n",
              "8         32047    0.366350\n",
              "7         21253    0.366204\n",
              "6          2398    0.358111\n",
              "5         45374    0.355703\n",
              "4         29506    0.355546\n",
              "3         26082    0.350306\n",
              "2         51686    0.350185\n",
              "1         45251    0.347976\n",
              "0          8129    0.346848"
            ],
            "text/html": [
              "\n",
              "  <div id=\"df-8afc20f3-bea3-421c-bf34-3f2f97348581\" class=\"colab-df-container\">\n",
              "    <div>\n",
              "<style scoped>\n",
              "    .dataframe tbody tr th:only-of-type {\n",
              "        vertical-align: middle;\n",
              "    }\n",
              "\n",
              "    .dataframe tbody tr th {\n",
              "        vertical-align: top;\n",
              "    }\n",
              "\n",
              "    .dataframe thead th {\n",
              "        text-align: right;\n",
              "    }\n",
              "</style>\n",
              "<table border=\"1\" class=\"dataframe\">\n",
              "  <thead>\n",
              "    <tr style=\"text-align: right;\">\n",
              "      <th></th>\n",
              "      <th>simillar_usr</th>\n",
              "      <th>similarity</th>\n",
              "    </tr>\n",
              "  </thead>\n",
              "  <tbody>\n",
              "    <tr>\n",
              "      <th>9</th>\n",
              "      <td>1904</td>\n",
              "      <td>0.372000</td>\n",
              "    </tr>\n",
              "    <tr>\n",
              "      <th>8</th>\n",
              "      <td>32047</td>\n",
              "      <td>0.366350</td>\n",
              "    </tr>\n",
              "    <tr>\n",
              "      <th>7</th>\n",
              "      <td>21253</td>\n",
              "      <td>0.366204</td>\n",
              "    </tr>\n",
              "    <tr>\n",
              "      <th>6</th>\n",
              "      <td>2398</td>\n",
              "      <td>0.358111</td>\n",
              "    </tr>\n",
              "    <tr>\n",
              "      <th>5</th>\n",
              "      <td>45374</td>\n",
              "      <td>0.355703</td>\n",
              "    </tr>\n",
              "    <tr>\n",
              "      <th>4</th>\n",
              "      <td>29506</td>\n",
              "      <td>0.355546</td>\n",
              "    </tr>\n",
              "    <tr>\n",
              "      <th>3</th>\n",
              "      <td>26082</td>\n",
              "      <td>0.350306</td>\n",
              "    </tr>\n",
              "    <tr>\n",
              "      <th>2</th>\n",
              "      <td>51686</td>\n",
              "      <td>0.350185</td>\n",
              "    </tr>\n",
              "    <tr>\n",
              "      <th>1</th>\n",
              "      <td>45251</td>\n",
              "      <td>0.347976</td>\n",
              "    </tr>\n",
              "    <tr>\n",
              "      <th>0</th>\n",
              "      <td>8129</td>\n",
              "      <td>0.346848</td>\n",
              "    </tr>\n",
              "  </tbody>\n",
              "</table>\n",
              "</div>\n",
              "    <div class=\"colab-df-buttons\">\n",
              "\n",
              "  <div class=\"colab-df-container\">\n",
              "    <button class=\"colab-df-convert\" onclick=\"convertToInteractive('df-8afc20f3-bea3-421c-bf34-3f2f97348581')\"\n",
              "            title=\"Convert this dataframe to an interactive table.\"\n",
              "            style=\"display:none;\">\n",
              "\n",
              "  <svg xmlns=\"http://www.w3.org/2000/svg\" height=\"24px\" viewBox=\"0 -960 960 960\">\n",
              "    <path d=\"M120-120v-720h720v720H120Zm60-500h600v-160H180v160Zm220 220h160v-160H400v160Zm0 220h160v-160H400v160ZM180-400h160v-160H180v160Zm440 0h160v-160H620v160ZM180-180h160v-160H180v160Zm440 0h160v-160H620v160Z\"/>\n",
              "  </svg>\n",
              "    </button>\n",
              "\n",
              "  <style>\n",
              "    .colab-df-container {\n",
              "      display:flex;\n",
              "      gap: 12px;\n",
              "    }\n",
              "\n",
              "    .colab-df-convert {\n",
              "      background-color: #E8F0FE;\n",
              "      border: none;\n",
              "      border-radius: 50%;\n",
              "      cursor: pointer;\n",
              "      display: none;\n",
              "      fill: #1967D2;\n",
              "      height: 32px;\n",
              "      padding: 0 0 0 0;\n",
              "      width: 32px;\n",
              "    }\n",
              "\n",
              "    .colab-df-convert:hover {\n",
              "      background-color: #E2EBFA;\n",
              "      box-shadow: 0px 1px 2px rgba(60, 64, 67, 0.3), 0px 1px 3px 1px rgba(60, 64, 67, 0.15);\n",
              "      fill: #174EA6;\n",
              "    }\n",
              "\n",
              "    .colab-df-buttons div {\n",
              "      margin-bottom: 4px;\n",
              "    }\n",
              "\n",
              "    [theme=dark] .colab-df-convert {\n",
              "      background-color: #3B4455;\n",
              "      fill: #D2E3FC;\n",
              "    }\n",
              "\n",
              "    [theme=dark] .colab-df-convert:hover {\n",
              "      background-color: #434B5C;\n",
              "      box-shadow: 0px 1px 3px 1px rgba(0, 0, 0, 0.15);\n",
              "      filter: drop-shadow(0px 1px 2px rgba(0, 0, 0, 0.3));\n",
              "      fill: #FFFFFF;\n",
              "    }\n",
              "  </style>\n",
              "\n",
              "    <script>\n",
              "      const buttonEl =\n",
              "        document.querySelector('#df-8afc20f3-bea3-421c-bf34-3f2f97348581 button.colab-df-convert');\n",
              "      buttonEl.style.display =\n",
              "        google.colab.kernel.accessAllowed ? 'block' : 'none';\n",
              "\n",
              "      async function convertToInteractive(key) {\n",
              "        const element = document.querySelector('#df-8afc20f3-bea3-421c-bf34-3f2f97348581');\n",
              "        const dataTable =\n",
              "          await google.colab.kernel.invokeFunction('convertToInteractive',\n",
              "                                                    [key], {});\n",
              "        if (!dataTable) return;\n",
              "\n",
              "        const docLinkHtml = 'Like what you see? Visit the ' +\n",
              "          '<a target=\"_blank\" href=https://colab.research.google.com/notebooks/data_table.ipynb>data table notebook</a>'\n",
              "          + ' to learn more about interactive tables.';\n",
              "        element.innerHTML = '';\n",
              "        dataTable['output_type'] = 'display_data';\n",
              "        await google.colab.output.renderOutput(dataTable, element);\n",
              "        const docLink = document.createElement('div');\n",
              "        docLink.innerHTML = docLinkHtml;\n",
              "        element.appendChild(docLink);\n",
              "      }\n",
              "    </script>\n",
              "  </div>\n",
              "\n",
              "\n",
              "<div id=\"df-f7811cdb-9d43-48b6-9d1f-6b4043c598de\">\n",
              "  <button class=\"colab-df-quickchart\" onclick=\"quickchart('df-f7811cdb-9d43-48b6-9d1f-6b4043c598de')\"\n",
              "            title=\"Suggest charts\"\n",
              "            style=\"display:none;\">\n",
              "\n",
              "<svg xmlns=\"http://www.w3.org/2000/svg\" height=\"24px\"viewBox=\"0 0 24 24\"\n",
              "     width=\"24px\">\n",
              "    <g>\n",
              "        <path d=\"M19 3H5c-1.1 0-2 .9-2 2v14c0 1.1.9 2 2 2h14c1.1 0 2-.9 2-2V5c0-1.1-.9-2-2-2zM9 17H7v-7h2v7zm4 0h-2V7h2v10zm4 0h-2v-4h2v4z\"/>\n",
              "    </g>\n",
              "</svg>\n",
              "  </button>\n",
              "\n",
              "<style>\n",
              "  .colab-df-quickchart {\n",
              "      --bg-color: #E8F0FE;\n",
              "      --fill-color: #1967D2;\n",
              "      --hover-bg-color: #E2EBFA;\n",
              "      --hover-fill-color: #174EA6;\n",
              "      --disabled-fill-color: #AAA;\n",
              "      --disabled-bg-color: #DDD;\n",
              "  }\n",
              "\n",
              "  [theme=dark] .colab-df-quickchart {\n",
              "      --bg-color: #3B4455;\n",
              "      --fill-color: #D2E3FC;\n",
              "      --hover-bg-color: #434B5C;\n",
              "      --hover-fill-color: #FFFFFF;\n",
              "      --disabled-bg-color: #3B4455;\n",
              "      --disabled-fill-color: #666;\n",
              "  }\n",
              "\n",
              "  .colab-df-quickchart {\n",
              "    background-color: var(--bg-color);\n",
              "    border: none;\n",
              "    border-radius: 50%;\n",
              "    cursor: pointer;\n",
              "    display: none;\n",
              "    fill: var(--fill-color);\n",
              "    height: 32px;\n",
              "    padding: 0;\n",
              "    width: 32px;\n",
              "  }\n",
              "\n",
              "  .colab-df-quickchart:hover {\n",
              "    background-color: var(--hover-bg-color);\n",
              "    box-shadow: 0 1px 2px rgba(60, 64, 67, 0.3), 0 1px 3px 1px rgba(60, 64, 67, 0.15);\n",
              "    fill: var(--button-hover-fill-color);\n",
              "  }\n",
              "\n",
              "  .colab-df-quickchart-complete:disabled,\n",
              "  .colab-df-quickchart-complete:disabled:hover {\n",
              "    background-color: var(--disabled-bg-color);\n",
              "    fill: var(--disabled-fill-color);\n",
              "    box-shadow: none;\n",
              "  }\n",
              "\n",
              "  .colab-df-spinner {\n",
              "    border: 2px solid var(--fill-color);\n",
              "    border-color: transparent;\n",
              "    border-bottom-color: var(--fill-color);\n",
              "    animation:\n",
              "      spin 1s steps(1) infinite;\n",
              "  }\n",
              "\n",
              "  @keyframes spin {\n",
              "    0% {\n",
              "      border-color: transparent;\n",
              "      border-bottom-color: var(--fill-color);\n",
              "      border-left-color: var(--fill-color);\n",
              "    }\n",
              "    20% {\n",
              "      border-color: transparent;\n",
              "      border-left-color: var(--fill-color);\n",
              "      border-top-color: var(--fill-color);\n",
              "    }\n",
              "    30% {\n",
              "      border-color: transparent;\n",
              "      border-left-color: var(--fill-color);\n",
              "      border-top-color: var(--fill-color);\n",
              "      border-right-color: var(--fill-color);\n",
              "    }\n",
              "    40% {\n",
              "      border-color: transparent;\n",
              "      border-right-color: var(--fill-color);\n",
              "      border-top-color: var(--fill-color);\n",
              "    }\n",
              "    60% {\n",
              "      border-color: transparent;\n",
              "      border-right-color: var(--fill-color);\n",
              "    }\n",
              "    80% {\n",
              "      border-color: transparent;\n",
              "      border-right-color: var(--fill-color);\n",
              "      border-bottom-color: var(--fill-color);\n",
              "    }\n",
              "    90% {\n",
              "      border-color: transparent;\n",
              "      border-bottom-color: var(--fill-color);\n",
              "    }\n",
              "  }\n",
              "</style>\n",
              "\n",
              "  <script>\n",
              "    async function quickchart(key) {\n",
              "      const quickchartButtonEl =\n",
              "        document.querySelector('#' + key + ' button');\n",
              "      quickchartButtonEl.disabled = true;  // To prevent multiple clicks.\n",
              "      quickchartButtonEl.classList.add('colab-df-spinner');\n",
              "      try {\n",
              "        const charts = await google.colab.kernel.invokeFunction(\n",
              "            'suggestCharts', [key], {});\n",
              "      } catch (error) {\n",
              "        console.error('Error during call to suggestCharts:', error);\n",
              "      }\n",
              "      quickchartButtonEl.classList.remove('colab-df-spinner');\n",
              "      quickchartButtonEl.classList.add('colab-df-quickchart-complete');\n",
              "    }\n",
              "    (() => {\n",
              "      let quickchartButtonEl =\n",
              "        document.querySelector('#df-f7811cdb-9d43-48b6-9d1f-6b4043c598de button');\n",
              "      quickchartButtonEl.style.display =\n",
              "        google.colab.kernel.accessAllowed ? 'block' : 'none';\n",
              "    })();\n",
              "  </script>\n",
              "</div>\n",
              "\n",
              "  <div id=\"id_c7cb7e79-553c-4ee4-b8df-28a5911ba603\">\n",
              "    <style>\n",
              "      .colab-df-generate {\n",
              "        background-color: #E8F0FE;\n",
              "        border: none;\n",
              "        border-radius: 50%;\n",
              "        cursor: pointer;\n",
              "        display: none;\n",
              "        fill: #1967D2;\n",
              "        height: 32px;\n",
              "        padding: 0 0 0 0;\n",
              "        width: 32px;\n",
              "      }\n",
              "\n",
              "      .colab-df-generate:hover {\n",
              "        background-color: #E2EBFA;\n",
              "        box-shadow: 0px 1px 2px rgba(60, 64, 67, 0.3), 0px 1px 3px 1px rgba(60, 64, 67, 0.15);\n",
              "        fill: #174EA6;\n",
              "      }\n",
              "\n",
              "      [theme=dark] .colab-df-generate {\n",
              "        background-color: #3B4455;\n",
              "        fill: #D2E3FC;\n",
              "      }\n",
              "\n",
              "      [theme=dark] .colab-df-generate:hover {\n",
              "        background-color: #434B5C;\n",
              "        box-shadow: 0px 1px 3px 1px rgba(0, 0, 0, 0.15);\n",
              "        filter: drop-shadow(0px 1px 2px rgba(0, 0, 0, 0.3));\n",
              "        fill: #FFFFFF;\n",
              "      }\n",
              "    </style>\n",
              "    <button class=\"colab-df-generate\" onclick=\"generateWithVariable('similar_users')\"\n",
              "            title=\"Generate code using this dataframe.\"\n",
              "            style=\"display:none;\">\n",
              "\n",
              "  <svg xmlns=\"http://www.w3.org/2000/svg\" height=\"24px\"viewBox=\"0 0 24 24\"\n",
              "       width=\"24px\">\n",
              "    <path d=\"M7,19H8.4L18.45,9,17,7.55,7,17.6ZM5,21V16.75L18.45,3.32a2,2,0,0,1,2.83,0l1.4,1.43a1.91,1.91,0,0,1,.58,1.4,1.91,1.91,0,0,1-.58,1.4L9.25,21ZM18.45,9,17,7.55Zm-12,3A5.31,5.31,0,0,0,4.9,8.1,5.31,5.31,0,0,0,1,6.5,5.31,5.31,0,0,0,4.9,4.9,5.31,5.31,0,0,0,6.5,1,5.31,5.31,0,0,0,8.1,4.9,5.31,5.31,0,0,0,12,6.5,5.46,5.46,0,0,0,6.5,12Z\"/>\n",
              "  </svg>\n",
              "    </button>\n",
              "    <script>\n",
              "      (() => {\n",
              "      const buttonEl =\n",
              "        document.querySelector('#id_c7cb7e79-553c-4ee4-b8df-28a5911ba603 button.colab-df-generate');\n",
              "      buttonEl.style.display =\n",
              "        google.colab.kernel.accessAllowed ? 'block' : 'none';\n",
              "\n",
              "      buttonEl.onclick = () => {\n",
              "        google.colab.notebook.generateWithVariable('similar_users');\n",
              "      }\n",
              "      })();\n",
              "    </script>\n",
              "  </div>\n",
              "\n",
              "    </div>\n",
              "  </div>\n"
            ],
            "application/vnd.google.colaboratory.intrinsic+json": {
              "type": "dataframe",
              "variable_name": "similar_users",
              "summary": "{\n  \"name\": \"similar_users\",\n  \"rows\": 10,\n  \"fields\": [\n    {\n      \"column\": \"simillar_usr\",\n      \"properties\": {\n        \"dtype\": \"number\",\n        \"std\": 18051,\n        \"min\": 1904,\n        \"max\": 51686,\n        \"num_unique_values\": 10,\n        \"samples\": [\n          45251,\n          32047,\n          29506\n        ],\n        \"semantic_type\": \"\",\n        \"description\": \"\"\n      }\n    },\n    {\n      \"column\": \"similarity\",\n      \"properties\": {\n        \"dtype\": \"float32\",\n        \"num_unique_values\": 10,\n        \"samples\": [\n          0.3479764461517334,\n          0.3663501441478729,\n          0.3555460572242737\n        ],\n        \"semantic_type\": \"\",\n        \"description\": \"\"\n      }\n    }\n  ]\n}"
            }
          },
          "metadata": {},
          "execution_count": 37
        }
      ]
    },
    {
      "cell_type": "markdown",
      "source": [
        "## Function Find Favorite Genres User\n",
        "mendapatkan top 10 genre favorite user"
      ],
      "metadata": {
        "id": "7-Hs4hgCRSN3"
      }
    },
    {
      "cell_type": "code",
      "source": [
        "def get_favorite_genres_user(user_id, rating_data, anime_data):\n",
        "\n",
        "    # choice anime id by user id\n",
        "    select_anime = rating_data[rating_data['user_id'] == user_id].anime_id.unique()\n",
        "    anime_favorite = anime_data[anime_data['anime_id'].isin(select_anime)]\n",
        "\n",
        "    genre_col = anime_favorite.columns[3:]\n",
        "    anime_favorite[genre_col].sum().sort_values(ascending=False).head(10).index\n",
        "\n",
        "    return anime_favorite[genre_col].sum().sort_values(ascending=False).head(10)\n"
      ],
      "metadata": {
        "id": "YJavE3j4RXSN"
      },
      "execution_count": null,
      "outputs": []
    },
    {
      "cell_type": "code",
      "source": [
        "get_favorite_genres_user(11165, user_rating_df, anime_df)"
      ],
      "metadata": {
        "colab": {
          "base_uri": "https://localhost:8080/",
          "height": 398
        },
        "id": "TkyWFhD5ZbuD",
        "outputId": "aee3e326-bea6-483f-971a-bd8599f79f33"
      },
      "execution_count": null,
      "outputs": [
        {
          "output_type": "execute_result",
          "data": {
            "text/plain": [
              "comedy          255\n",
              "action          183\n",
              "sci-fi          178\n",
              "adventure       160\n",
              "drama           160\n",
              "romance         139\n",
              "fantasy         132\n",
              "ecchi            56\n",
              "hentai           49\n",
              "supernatural     49\n",
              "dtype: int64"
            ],
            "text/html": [
              "<div>\n",
              "<style scoped>\n",
              "    .dataframe tbody tr th:only-of-type {\n",
              "        vertical-align: middle;\n",
              "    }\n",
              "\n",
              "    .dataframe tbody tr th {\n",
              "        vertical-align: top;\n",
              "    }\n",
              "\n",
              "    .dataframe thead th {\n",
              "        text-align: right;\n",
              "    }\n",
              "</style>\n",
              "<table border=\"1\" class=\"dataframe\">\n",
              "  <thead>\n",
              "    <tr style=\"text-align: right;\">\n",
              "      <th></th>\n",
              "      <th>0</th>\n",
              "    </tr>\n",
              "  </thead>\n",
              "  <tbody>\n",
              "    <tr>\n",
              "      <th>comedy</th>\n",
              "      <td>255</td>\n",
              "    </tr>\n",
              "    <tr>\n",
              "      <th>action</th>\n",
              "      <td>183</td>\n",
              "    </tr>\n",
              "    <tr>\n",
              "      <th>sci-fi</th>\n",
              "      <td>178</td>\n",
              "    </tr>\n",
              "    <tr>\n",
              "      <th>adventure</th>\n",
              "      <td>160</td>\n",
              "    </tr>\n",
              "    <tr>\n",
              "      <th>drama</th>\n",
              "      <td>160</td>\n",
              "    </tr>\n",
              "    <tr>\n",
              "      <th>romance</th>\n",
              "      <td>139</td>\n",
              "    </tr>\n",
              "    <tr>\n",
              "      <th>fantasy</th>\n",
              "      <td>132</td>\n",
              "    </tr>\n",
              "    <tr>\n",
              "      <th>ecchi</th>\n",
              "      <td>56</td>\n",
              "    </tr>\n",
              "    <tr>\n",
              "      <th>hentai</th>\n",
              "      <td>49</td>\n",
              "    </tr>\n",
              "    <tr>\n",
              "      <th>supernatural</th>\n",
              "      <td>49</td>\n",
              "    </tr>\n",
              "  </tbody>\n",
              "</table>\n",
              "</div><br><label><b>dtype:</b> int64</label>"
            ]
          },
          "metadata": {},
          "execution_count": 50
        }
      ]
    },
    {
      "cell_type": "markdown",
      "source": [
        "## Function Another favorite genre prediction"
      ],
      "metadata": {
        "id": "0Tka7xUx7D21"
      }
    },
    {
      "cell_type": "markdown",
      "source": [
        "Memprediksi favorit genre lainnya dari kemiripan user"
      ],
      "metadata": {
        "id": "LjX904aZ7sKY"
      }
    },
    {
      "cell_type": "code",
      "source": [
        "def get_favorite_genres(similar_users, rating_data, anime_data):\n",
        "    # Filter ratings by similar users\n",
        "    user_ratings = rating_data[rating_data['user_id'].isin(similar_users['simillar_usr'].values)]\n",
        "\n",
        "    # Merge with anime data to get genre information (one-hot encoded genres)\n",
        "    merged_data = user_ratings.merge(anime_data, on='anime_id')\n",
        "\n",
        "    # Calculate average rating per genre (considering one-hot encoding)\n",
        "    genre_columns = [col for col in anime_data.columns if col not in ['anime_id', 'Name', 'Genres']]\n",
        "\n",
        "    #convert to float\n",
        "    merged_data[genre_columns] = merged_data[genre_columns].astype(float)\n",
        "\n",
        "    # Multiply rating by one-hot encoded genre values, sum and average per genre\n",
        "    genre_ratings = merged_data[genre_columns].multiply(merged_data['rating'], axis=0)\n",
        "\n",
        "    # Calculate average rating per genre\n",
        "    genre_preference = genre_ratings.sum(axis=0) / merged_data[genre_columns].sum(axis=0)\n",
        "\n",
        "    # Sort genres by rating preference (highest to lowest)\n",
        "    genre_preference = genre_preference.sort_values(ascending=False)\n",
        "\n",
        "    return genre_preference"
      ],
      "metadata": {
        "id": "A3E-6uOx2OBl"
      },
      "execution_count": null,
      "outputs": []
    },
    {
      "cell_type": "markdown",
      "source": [
        "contoh genre favorite lainnya pada user_id = 11165"
      ],
      "metadata": {
        "id": "TnHsTXihGE6Q"
      }
    },
    {
      "cell_type": "code",
      "source": [
        "# Example usage:\n",
        "similar_users = find_similar_users(11165, n=10)\n",
        "genre_preference = get_favorite_genres(similar_users, user_rating_df, anime_df)\n",
        "genre_preference"
      ],
      "metadata": {
        "colab": {
          "base_uri": "https://localhost:8080/",
          "height": 774
        },
        "id": "zNo7sZN9DlR_",
        "outputId": "3edc24a0-642e-45de-8969-2939efe6832e"
      },
      "execution_count": null,
      "outputs": [
        {
          "output_type": "execute_result",
          "data": {
            "text/plain": [
              "awardwinning    0.377387\n",
              "girlslove       0.374627\n",
              "ecchi           0.353147\n",
              "erotica         0.353125\n",
              "romance         0.352574\n",
              "avantgarde      0.347368\n",
              "sci-fi          0.344045\n",
              "drama           0.342601\n",
              "boyslove        0.340000\n",
              "comedy          0.338346\n",
              "fantasy         0.337374\n",
              "action          0.334189\n",
              "adventure       0.328151\n",
              "unknown         0.310000\n",
              "mystery         0.309780\n",
              "horror          0.306667\n",
              "sliceoflife     0.304377\n",
              "supernatural    0.299225\n",
              "hentai          0.289827\n",
              "suspense        0.282192\n",
              "gourmet         0.281250\n",
              "sports          0.274757\n",
              "dtype: float64"
            ],
            "text/html": [
              "<div>\n",
              "<style scoped>\n",
              "    .dataframe tbody tr th:only-of-type {\n",
              "        vertical-align: middle;\n",
              "    }\n",
              "\n",
              "    .dataframe tbody tr th {\n",
              "        vertical-align: top;\n",
              "    }\n",
              "\n",
              "    .dataframe thead th {\n",
              "        text-align: right;\n",
              "    }\n",
              "</style>\n",
              "<table border=\"1\" class=\"dataframe\">\n",
              "  <thead>\n",
              "    <tr style=\"text-align: right;\">\n",
              "      <th></th>\n",
              "      <th>0</th>\n",
              "    </tr>\n",
              "  </thead>\n",
              "  <tbody>\n",
              "    <tr>\n",
              "      <th>awardwinning</th>\n",
              "      <td>0.377387</td>\n",
              "    </tr>\n",
              "    <tr>\n",
              "      <th>girlslove</th>\n",
              "      <td>0.374627</td>\n",
              "    </tr>\n",
              "    <tr>\n",
              "      <th>ecchi</th>\n",
              "      <td>0.353147</td>\n",
              "    </tr>\n",
              "    <tr>\n",
              "      <th>erotica</th>\n",
              "      <td>0.353125</td>\n",
              "    </tr>\n",
              "    <tr>\n",
              "      <th>romance</th>\n",
              "      <td>0.352574</td>\n",
              "    </tr>\n",
              "    <tr>\n",
              "      <th>avantgarde</th>\n",
              "      <td>0.347368</td>\n",
              "    </tr>\n",
              "    <tr>\n",
              "      <th>sci-fi</th>\n",
              "      <td>0.344045</td>\n",
              "    </tr>\n",
              "    <tr>\n",
              "      <th>drama</th>\n",
              "      <td>0.342601</td>\n",
              "    </tr>\n",
              "    <tr>\n",
              "      <th>boyslove</th>\n",
              "      <td>0.340000</td>\n",
              "    </tr>\n",
              "    <tr>\n",
              "      <th>comedy</th>\n",
              "      <td>0.338346</td>\n",
              "    </tr>\n",
              "    <tr>\n",
              "      <th>fantasy</th>\n",
              "      <td>0.337374</td>\n",
              "    </tr>\n",
              "    <tr>\n",
              "      <th>action</th>\n",
              "      <td>0.334189</td>\n",
              "    </tr>\n",
              "    <tr>\n",
              "      <th>adventure</th>\n",
              "      <td>0.328151</td>\n",
              "    </tr>\n",
              "    <tr>\n",
              "      <th>unknown</th>\n",
              "      <td>0.310000</td>\n",
              "    </tr>\n",
              "    <tr>\n",
              "      <th>mystery</th>\n",
              "      <td>0.309780</td>\n",
              "    </tr>\n",
              "    <tr>\n",
              "      <th>horror</th>\n",
              "      <td>0.306667</td>\n",
              "    </tr>\n",
              "    <tr>\n",
              "      <th>sliceoflife</th>\n",
              "      <td>0.304377</td>\n",
              "    </tr>\n",
              "    <tr>\n",
              "      <th>supernatural</th>\n",
              "      <td>0.299225</td>\n",
              "    </tr>\n",
              "    <tr>\n",
              "      <th>hentai</th>\n",
              "      <td>0.289827</td>\n",
              "    </tr>\n",
              "    <tr>\n",
              "      <th>suspense</th>\n",
              "      <td>0.282192</td>\n",
              "    </tr>\n",
              "    <tr>\n",
              "      <th>gourmet</th>\n",
              "      <td>0.281250</td>\n",
              "    </tr>\n",
              "    <tr>\n",
              "      <th>sports</th>\n",
              "      <td>0.274757</td>\n",
              "    </tr>\n",
              "  </tbody>\n",
              "</table>\n",
              "</div><br><label><b>dtype:</b> float64</label>"
            ]
          },
          "metadata": {},
          "execution_count": 40
        }
      ]
    },
    {
      "cell_type": "markdown",
      "source": [
        "## Recommendation Anime Based on Genre preferences User Similar(Hybrid Collaborative Filtering)"
      ],
      "metadata": {
        "id": "jtgKXP557_7r"
      }
    },
    {
      "cell_type": "code",
      "source": [
        "def recommend_anime_for_user(user_id, rating_data, anime_data, top_n=20, sort_by='average_rating'):\n",
        "\n",
        "    # get favorite genre by user_id\n",
        "    favorite_genres_user = get_favorite_genres_user(user_id, rating_data, anime_data)\n",
        "\n",
        "    # get simillar user and find other favorite genres\n",
        "    similar_users = find_similar_users(user_id, n=top_n)\n",
        "    favorite_genres = get_favorite_genres(similar_users, rating_data, anime_data)\n",
        "\n",
        "    # Avoid anime favorite genres\n",
        "    favorite_genres = favorite_genres[~favorite_genres.index.isin(favorite_genres_user.index)]\n",
        "\n",
        "    # Filter anime data by favorite genres (one-hot encoded)\n",
        "    favorite_genre_columns = favorite_genres.index[:3]  # Select top 3 favorite genres\n",
        "    genre_filter = anime_data[favorite_genre_columns].sum(axis=1) > 0 # At least one favorite genre\n",
        "    filtered_anime = anime_data[genre_filter]\n",
        "\n",
        "    # Get anime already rated by the user\n",
        "    rated_data = rating_data[rating_data['user_id'] == user_id]\n",
        "    rated_anime = rated_data.anime_id.unique()\n",
        "\n",
        "    unrated_anime = rating_data[~rating_data['anime_id'].isin(rated_anime)]\n",
        "\n",
        "    # Exclude already rated anime\n",
        "    recommendations = filtered_anime[~filtered_anime['anime_id'].isin(rated_anime)]\n",
        "\n",
        "     # calce average rating\n",
        "    # Hitung rata-rata rating untuk setiap anime\n",
        "    anime_avg_rating = unrated_anime.groupby('anime_id')['rating'].mean().reset_index()\n",
        "    anime_avg_rating.rename(columns={'rating': 'average_rating'}, inplace=True)\n",
        "\n",
        "    # Gabungkan dengan dataset anime\n",
        "    recommendations = recommendations.merge(anime_avg_rating, on='anime_id', how='left')\n",
        "\n",
        "    # Hitung jumlah pengguna yang memberikan rating untuk setiap anime\n",
        "    anime_popularity = unrated_anime.groupby('anime_id')['user_id'].count().reset_index()\n",
        "    anime_popularity.rename(columns={'user_id': 'popularity'}, inplace=True)\n",
        "\n",
        "    # Gabungkan dengan dataset anime\n",
        "    recommendations = recommendations.merge(anime_popularity, on='anime_id', how='left')\n",
        "\n",
        "    # Sort by a relevant metric (e.g., average rating or popularity)\n",
        "    if sort_by == 'average_rating':\n",
        "        recommendations = recommendations.sort_values(by='average_rating', ascending=False)\n",
        "    elif sort_by == 'popularity':\n",
        "        recommendations = recommendations.sort_values(by='popularity', ascending=False)\n",
        "\n",
        "    set_columns = ['anime_id', 'Name', 'Genres', 'average_rating', 'popularity']\n",
        "    # Return the top N recommendations\n",
        "    return recommendations[set_columns].head(top_n).reset_index(drop=True)"
      ],
      "metadata": {
        "id": "BymOl82qT0Ex"
      },
      "execution_count": null,
      "outputs": []
    },
    {
      "cell_type": "code",
      "source": [
        "# Example usage:\n",
        "user_id = 11165  # Replace with actual user_id\n",
        "\n",
        "recommended_anime = recommend_anime_for_user(\n",
        "    user_id=user_id,\n",
        "    rating_data=user_rating_df,\n",
        "    anime_data=anime_df,\n",
        "    top_n=20,\n",
        "    sort_by='average_rating'\n",
        ")\n",
        "recommended_anime"
      ],
      "metadata": {
        "colab": {
          "base_uri": "https://localhost:8080/",
          "height": 677
        },
        "id": "iO_hsE4daCD9",
        "outputId": "0506a54e-04cb-4ccd-9ee0-018651ea679d"
      },
      "execution_count": null,
      "outputs": [
        {
          "output_type": "execute_result",
          "data": {
            "text/plain": [
              "    anime_id                                               Name  \\\n",
              "0        512                                 Majo no Takkyuubin   \n",
              "1       1547                                   Obake no Q-tarou   \n",
              "2        574                                    Rean no Tsubasa   \n",
              "3        943                                        Yume Tsukai   \n",
              "4        633                                   Legend of Basara   \n",
              "5       1967       Kidou Senshi Z Gundam I: Hoshi wo Tsugu Mono   \n",
              "6          1                                       Cowboy Bebop   \n",
              "7       1566  Koukaku Kidoutai: Stand Alone Complex - Solid ...   \n",
              "8        709                              Mujin Wakusei Survive   \n",
              "9         93                           Kidou Senshi Gundam SEED   \n",
              "10      4418                                   Catman Series II   \n",
              "11      4202                                     Mokke Specials   \n",
              "12       695                         Canvas: Sepia-iro no Motif   \n",
              "13      4201                                Chocchan Monogatari   \n",
              "14      1953      Code Geass: Hangyaku no Lelouch Picture Drama   \n",
              "15       962                                   Aria the Natural   \n",
              "16       329                                           Planetes   \n",
              "17      2000                                           Roujin Z   \n",
              "18       256                                       Hoshi no Koe   \n",
              "19      1051                                        Ao no 6-gou   \n",
              "\n",
              "                                               Genres  average_rating  \\\n",
              "0   [adventure, awardwinning, comedy, drama, fantasy]        0.661602   \n",
              "1                 [comedy, sliceoflife, supernatural]        0.598700   \n",
              "2                     [awardwinning, fantasy, sci-fi]        0.584892   \n",
              "3                       [drama, fantasy, sliceoflife]        0.582954   \n",
              "4   [adventure, awardwinning, drama, fantasy, roma...        0.559222   \n",
              "5                       [awardwinning, drama, sci-fi]        0.558918   \n",
              "6                      [action, awardwinning, sci-fi]        0.555919   \n",
              "7                     [awardwinning, mystery, sci-fi]        0.550389   \n",
              "8   [action, adventure, fantasy, sci-fi, sliceoflife]        0.549686   \n",
              "9      [action, awardwinning, drama, romance, sci-fi]        0.549363   \n",
              "10                     [comedy, fantasy, sliceoflife]        0.541597   \n",
              "11               [mystery, sliceoflife, supernatural]        0.536667   \n",
              "12                     [comedy, romance, sliceoflife]        0.536464   \n",
              "13                               [drama, sliceoflife]        0.530367   \n",
              "14                              [comedy, sliceoflife]        0.526032   \n",
              "15                     [fantasy, sci-fi, sliceoflife]        0.523493   \n",
              "16             [awardwinning, drama, romance, sci-fi]        0.521301   \n",
              "17              [awardwinning, comedy, drama, sci-fi]        0.511008   \n",
              "18             [awardwinning, drama, romance, sci-fi]        0.509940   \n",
              "19          [action, adventure, awardwinning, sci-fi]        0.509480   \n",
              "\n",
              "    popularity  \n",
              "0      59047.0  \n",
              "1      51534.0  \n",
              "2      49549.0  \n",
              "3      33604.0  \n",
              "4      34835.0  \n",
              "5      24427.0  \n",
              "6      52766.0  \n",
              "7      27377.0  \n",
              "8      48543.0  \n",
              "9      25294.0  \n",
              "10      8455.0  \n",
              "11      4530.0  \n",
              "12     15906.0  \n",
              "13      4821.0  \n",
              "14     23632.0  \n",
              "15     30826.0  \n",
              "16     14361.0  \n",
              "17     10338.0  \n",
              "18      5704.0  \n",
              "19     28153.0  "
            ],
            "text/html": [
              "\n",
              "  <div id=\"df-433d141f-92c7-418a-b5d6-87eb88280703\" class=\"colab-df-container\">\n",
              "    <div>\n",
              "<style scoped>\n",
              "    .dataframe tbody tr th:only-of-type {\n",
              "        vertical-align: middle;\n",
              "    }\n",
              "\n",
              "    .dataframe tbody tr th {\n",
              "        vertical-align: top;\n",
              "    }\n",
              "\n",
              "    .dataframe thead th {\n",
              "        text-align: right;\n",
              "    }\n",
              "</style>\n",
              "<table border=\"1\" class=\"dataframe\">\n",
              "  <thead>\n",
              "    <tr style=\"text-align: right;\">\n",
              "      <th></th>\n",
              "      <th>anime_id</th>\n",
              "      <th>Name</th>\n",
              "      <th>Genres</th>\n",
              "      <th>average_rating</th>\n",
              "      <th>popularity</th>\n",
              "    </tr>\n",
              "  </thead>\n",
              "  <tbody>\n",
              "    <tr>\n",
              "      <th>0</th>\n",
              "      <td>512</td>\n",
              "      <td>Majo no Takkyuubin</td>\n",
              "      <td>[adventure, awardwinning, comedy, drama, fantasy]</td>\n",
              "      <td>0.661602</td>\n",
              "      <td>59047.0</td>\n",
              "    </tr>\n",
              "    <tr>\n",
              "      <th>1</th>\n",
              "      <td>1547</td>\n",
              "      <td>Obake no Q-tarou</td>\n",
              "      <td>[comedy, sliceoflife, supernatural]</td>\n",
              "      <td>0.598700</td>\n",
              "      <td>51534.0</td>\n",
              "    </tr>\n",
              "    <tr>\n",
              "      <th>2</th>\n",
              "      <td>574</td>\n",
              "      <td>Rean no Tsubasa</td>\n",
              "      <td>[awardwinning, fantasy, sci-fi]</td>\n",
              "      <td>0.584892</td>\n",
              "      <td>49549.0</td>\n",
              "    </tr>\n",
              "    <tr>\n",
              "      <th>3</th>\n",
              "      <td>943</td>\n",
              "      <td>Yume Tsukai</td>\n",
              "      <td>[drama, fantasy, sliceoflife]</td>\n",
              "      <td>0.582954</td>\n",
              "      <td>33604.0</td>\n",
              "    </tr>\n",
              "    <tr>\n",
              "      <th>4</th>\n",
              "      <td>633</td>\n",
              "      <td>Legend of Basara</td>\n",
              "      <td>[adventure, awardwinning, drama, fantasy, roma...</td>\n",
              "      <td>0.559222</td>\n",
              "      <td>34835.0</td>\n",
              "    </tr>\n",
              "    <tr>\n",
              "      <th>5</th>\n",
              "      <td>1967</td>\n",
              "      <td>Kidou Senshi Z Gundam I: Hoshi wo Tsugu Mono</td>\n",
              "      <td>[awardwinning, drama, sci-fi]</td>\n",
              "      <td>0.558918</td>\n",
              "      <td>24427.0</td>\n",
              "    </tr>\n",
              "    <tr>\n",
              "      <th>6</th>\n",
              "      <td>1</td>\n",
              "      <td>Cowboy Bebop</td>\n",
              "      <td>[action, awardwinning, sci-fi]</td>\n",
              "      <td>0.555919</td>\n",
              "      <td>52766.0</td>\n",
              "    </tr>\n",
              "    <tr>\n",
              "      <th>7</th>\n",
              "      <td>1566</td>\n",
              "      <td>Koukaku Kidoutai: Stand Alone Complex - Solid ...</td>\n",
              "      <td>[awardwinning, mystery, sci-fi]</td>\n",
              "      <td>0.550389</td>\n",
              "      <td>27377.0</td>\n",
              "    </tr>\n",
              "    <tr>\n",
              "      <th>8</th>\n",
              "      <td>709</td>\n",
              "      <td>Mujin Wakusei Survive</td>\n",
              "      <td>[action, adventure, fantasy, sci-fi, sliceoflife]</td>\n",
              "      <td>0.549686</td>\n",
              "      <td>48543.0</td>\n",
              "    </tr>\n",
              "    <tr>\n",
              "      <th>9</th>\n",
              "      <td>93</td>\n",
              "      <td>Kidou Senshi Gundam SEED</td>\n",
              "      <td>[action, awardwinning, drama, romance, sci-fi]</td>\n",
              "      <td>0.549363</td>\n",
              "      <td>25294.0</td>\n",
              "    </tr>\n",
              "    <tr>\n",
              "      <th>10</th>\n",
              "      <td>4418</td>\n",
              "      <td>Catman Series II</td>\n",
              "      <td>[comedy, fantasy, sliceoflife]</td>\n",
              "      <td>0.541597</td>\n",
              "      <td>8455.0</td>\n",
              "    </tr>\n",
              "    <tr>\n",
              "      <th>11</th>\n",
              "      <td>4202</td>\n",
              "      <td>Mokke Specials</td>\n",
              "      <td>[mystery, sliceoflife, supernatural]</td>\n",
              "      <td>0.536667</td>\n",
              "      <td>4530.0</td>\n",
              "    </tr>\n",
              "    <tr>\n",
              "      <th>12</th>\n",
              "      <td>695</td>\n",
              "      <td>Canvas: Sepia-iro no Motif</td>\n",
              "      <td>[comedy, romance, sliceoflife]</td>\n",
              "      <td>0.536464</td>\n",
              "      <td>15906.0</td>\n",
              "    </tr>\n",
              "    <tr>\n",
              "      <th>13</th>\n",
              "      <td>4201</td>\n",
              "      <td>Chocchan Monogatari</td>\n",
              "      <td>[drama, sliceoflife]</td>\n",
              "      <td>0.530367</td>\n",
              "      <td>4821.0</td>\n",
              "    </tr>\n",
              "    <tr>\n",
              "      <th>14</th>\n",
              "      <td>1953</td>\n",
              "      <td>Code Geass: Hangyaku no Lelouch Picture Drama</td>\n",
              "      <td>[comedy, sliceoflife]</td>\n",
              "      <td>0.526032</td>\n",
              "      <td>23632.0</td>\n",
              "    </tr>\n",
              "    <tr>\n",
              "      <th>15</th>\n",
              "      <td>962</td>\n",
              "      <td>Aria the Natural</td>\n",
              "      <td>[fantasy, sci-fi, sliceoflife]</td>\n",
              "      <td>0.523493</td>\n",
              "      <td>30826.0</td>\n",
              "    </tr>\n",
              "    <tr>\n",
              "      <th>16</th>\n",
              "      <td>329</td>\n",
              "      <td>Planetes</td>\n",
              "      <td>[awardwinning, drama, romance, sci-fi]</td>\n",
              "      <td>0.521301</td>\n",
              "      <td>14361.0</td>\n",
              "    </tr>\n",
              "    <tr>\n",
              "      <th>17</th>\n",
              "      <td>2000</td>\n",
              "      <td>Roujin Z</td>\n",
              "      <td>[awardwinning, comedy, drama, sci-fi]</td>\n",
              "      <td>0.511008</td>\n",
              "      <td>10338.0</td>\n",
              "    </tr>\n",
              "    <tr>\n",
              "      <th>18</th>\n",
              "      <td>256</td>\n",
              "      <td>Hoshi no Koe</td>\n",
              "      <td>[awardwinning, drama, romance, sci-fi]</td>\n",
              "      <td>0.509940</td>\n",
              "      <td>5704.0</td>\n",
              "    </tr>\n",
              "    <tr>\n",
              "      <th>19</th>\n",
              "      <td>1051</td>\n",
              "      <td>Ao no 6-gou</td>\n",
              "      <td>[action, adventure, awardwinning, sci-fi]</td>\n",
              "      <td>0.509480</td>\n",
              "      <td>28153.0</td>\n",
              "    </tr>\n",
              "  </tbody>\n",
              "</table>\n",
              "</div>\n",
              "    <div class=\"colab-df-buttons\">\n",
              "\n",
              "  <div class=\"colab-df-container\">\n",
              "    <button class=\"colab-df-convert\" onclick=\"convertToInteractive('df-433d141f-92c7-418a-b5d6-87eb88280703')\"\n",
              "            title=\"Convert this dataframe to an interactive table.\"\n",
              "            style=\"display:none;\">\n",
              "\n",
              "  <svg xmlns=\"http://www.w3.org/2000/svg\" height=\"24px\" viewBox=\"0 -960 960 960\">\n",
              "    <path d=\"M120-120v-720h720v720H120Zm60-500h600v-160H180v160Zm220 220h160v-160H400v160Zm0 220h160v-160H400v160ZM180-400h160v-160H180v160Zm440 0h160v-160H620v160ZM180-180h160v-160H180v160Zm440 0h160v-160H620v160Z\"/>\n",
              "  </svg>\n",
              "    </button>\n",
              "\n",
              "  <style>\n",
              "    .colab-df-container {\n",
              "      display:flex;\n",
              "      gap: 12px;\n",
              "    }\n",
              "\n",
              "    .colab-df-convert {\n",
              "      background-color: #E8F0FE;\n",
              "      border: none;\n",
              "      border-radius: 50%;\n",
              "      cursor: pointer;\n",
              "      display: none;\n",
              "      fill: #1967D2;\n",
              "      height: 32px;\n",
              "      padding: 0 0 0 0;\n",
              "      width: 32px;\n",
              "    }\n",
              "\n",
              "    .colab-df-convert:hover {\n",
              "      background-color: #E2EBFA;\n",
              "      box-shadow: 0px 1px 2px rgba(60, 64, 67, 0.3), 0px 1px 3px 1px rgba(60, 64, 67, 0.15);\n",
              "      fill: #174EA6;\n",
              "    }\n",
              "\n",
              "    .colab-df-buttons div {\n",
              "      margin-bottom: 4px;\n",
              "    }\n",
              "\n",
              "    [theme=dark] .colab-df-convert {\n",
              "      background-color: #3B4455;\n",
              "      fill: #D2E3FC;\n",
              "    }\n",
              "\n",
              "    [theme=dark] .colab-df-convert:hover {\n",
              "      background-color: #434B5C;\n",
              "      box-shadow: 0px 1px 3px 1px rgba(0, 0, 0, 0.15);\n",
              "      filter: drop-shadow(0px 1px 2px rgba(0, 0, 0, 0.3));\n",
              "      fill: #FFFFFF;\n",
              "    }\n",
              "  </style>\n",
              "\n",
              "    <script>\n",
              "      const buttonEl =\n",
              "        document.querySelector('#df-433d141f-92c7-418a-b5d6-87eb88280703 button.colab-df-convert');\n",
              "      buttonEl.style.display =\n",
              "        google.colab.kernel.accessAllowed ? 'block' : 'none';\n",
              "\n",
              "      async function convertToInteractive(key) {\n",
              "        const element = document.querySelector('#df-433d141f-92c7-418a-b5d6-87eb88280703');\n",
              "        const dataTable =\n",
              "          await google.colab.kernel.invokeFunction('convertToInteractive',\n",
              "                                                    [key], {});\n",
              "        if (!dataTable) return;\n",
              "\n",
              "        const docLinkHtml = 'Like what you see? Visit the ' +\n",
              "          '<a target=\"_blank\" href=https://colab.research.google.com/notebooks/data_table.ipynb>data table notebook</a>'\n",
              "          + ' to learn more about interactive tables.';\n",
              "        element.innerHTML = '';\n",
              "        dataTable['output_type'] = 'display_data';\n",
              "        await google.colab.output.renderOutput(dataTable, element);\n",
              "        const docLink = document.createElement('div');\n",
              "        docLink.innerHTML = docLinkHtml;\n",
              "        element.appendChild(docLink);\n",
              "      }\n",
              "    </script>\n",
              "  </div>\n",
              "\n",
              "\n",
              "<div id=\"df-54cf15ad-3c38-4ad8-8118-af8b505f7892\">\n",
              "  <button class=\"colab-df-quickchart\" onclick=\"quickchart('df-54cf15ad-3c38-4ad8-8118-af8b505f7892')\"\n",
              "            title=\"Suggest charts\"\n",
              "            style=\"display:none;\">\n",
              "\n",
              "<svg xmlns=\"http://www.w3.org/2000/svg\" height=\"24px\"viewBox=\"0 0 24 24\"\n",
              "     width=\"24px\">\n",
              "    <g>\n",
              "        <path d=\"M19 3H5c-1.1 0-2 .9-2 2v14c0 1.1.9 2 2 2h14c1.1 0 2-.9 2-2V5c0-1.1-.9-2-2-2zM9 17H7v-7h2v7zm4 0h-2V7h2v10zm4 0h-2v-4h2v4z\"/>\n",
              "    </g>\n",
              "</svg>\n",
              "  </button>\n",
              "\n",
              "<style>\n",
              "  .colab-df-quickchart {\n",
              "      --bg-color: #E8F0FE;\n",
              "      --fill-color: #1967D2;\n",
              "      --hover-bg-color: #E2EBFA;\n",
              "      --hover-fill-color: #174EA6;\n",
              "      --disabled-fill-color: #AAA;\n",
              "      --disabled-bg-color: #DDD;\n",
              "  }\n",
              "\n",
              "  [theme=dark] .colab-df-quickchart {\n",
              "      --bg-color: #3B4455;\n",
              "      --fill-color: #D2E3FC;\n",
              "      --hover-bg-color: #434B5C;\n",
              "      --hover-fill-color: #FFFFFF;\n",
              "      --disabled-bg-color: #3B4455;\n",
              "      --disabled-fill-color: #666;\n",
              "  }\n",
              "\n",
              "  .colab-df-quickchart {\n",
              "    background-color: var(--bg-color);\n",
              "    border: none;\n",
              "    border-radius: 50%;\n",
              "    cursor: pointer;\n",
              "    display: none;\n",
              "    fill: var(--fill-color);\n",
              "    height: 32px;\n",
              "    padding: 0;\n",
              "    width: 32px;\n",
              "  }\n",
              "\n",
              "  .colab-df-quickchart:hover {\n",
              "    background-color: var(--hover-bg-color);\n",
              "    box-shadow: 0 1px 2px rgba(60, 64, 67, 0.3), 0 1px 3px 1px rgba(60, 64, 67, 0.15);\n",
              "    fill: var(--button-hover-fill-color);\n",
              "  }\n",
              "\n",
              "  .colab-df-quickchart-complete:disabled,\n",
              "  .colab-df-quickchart-complete:disabled:hover {\n",
              "    background-color: var(--disabled-bg-color);\n",
              "    fill: var(--disabled-fill-color);\n",
              "    box-shadow: none;\n",
              "  }\n",
              "\n",
              "  .colab-df-spinner {\n",
              "    border: 2px solid var(--fill-color);\n",
              "    border-color: transparent;\n",
              "    border-bottom-color: var(--fill-color);\n",
              "    animation:\n",
              "      spin 1s steps(1) infinite;\n",
              "  }\n",
              "\n",
              "  @keyframes spin {\n",
              "    0% {\n",
              "      border-color: transparent;\n",
              "      border-bottom-color: var(--fill-color);\n",
              "      border-left-color: var(--fill-color);\n",
              "    }\n",
              "    20% {\n",
              "      border-color: transparent;\n",
              "      border-left-color: var(--fill-color);\n",
              "      border-top-color: var(--fill-color);\n",
              "    }\n",
              "    30% {\n",
              "      border-color: transparent;\n",
              "      border-left-color: var(--fill-color);\n",
              "      border-top-color: var(--fill-color);\n",
              "      border-right-color: var(--fill-color);\n",
              "    }\n",
              "    40% {\n",
              "      border-color: transparent;\n",
              "      border-right-color: var(--fill-color);\n",
              "      border-top-color: var(--fill-color);\n",
              "    }\n",
              "    60% {\n",
              "      border-color: transparent;\n",
              "      border-right-color: var(--fill-color);\n",
              "    }\n",
              "    80% {\n",
              "      border-color: transparent;\n",
              "      border-right-color: var(--fill-color);\n",
              "      border-bottom-color: var(--fill-color);\n",
              "    }\n",
              "    90% {\n",
              "      border-color: transparent;\n",
              "      border-bottom-color: var(--fill-color);\n",
              "    }\n",
              "  }\n",
              "</style>\n",
              "\n",
              "  <script>\n",
              "    async function quickchart(key) {\n",
              "      const quickchartButtonEl =\n",
              "        document.querySelector('#' + key + ' button');\n",
              "      quickchartButtonEl.disabled = true;  // To prevent multiple clicks.\n",
              "      quickchartButtonEl.classList.add('colab-df-spinner');\n",
              "      try {\n",
              "        const charts = await google.colab.kernel.invokeFunction(\n",
              "            'suggestCharts', [key], {});\n",
              "      } catch (error) {\n",
              "        console.error('Error during call to suggestCharts:', error);\n",
              "      }\n",
              "      quickchartButtonEl.classList.remove('colab-df-spinner');\n",
              "      quickchartButtonEl.classList.add('colab-df-quickchart-complete');\n",
              "    }\n",
              "    (() => {\n",
              "      let quickchartButtonEl =\n",
              "        document.querySelector('#df-54cf15ad-3c38-4ad8-8118-af8b505f7892 button');\n",
              "      quickchartButtonEl.style.display =\n",
              "        google.colab.kernel.accessAllowed ? 'block' : 'none';\n",
              "    })();\n",
              "  </script>\n",
              "</div>\n",
              "\n",
              "  <div id=\"id_a9ff9c23-0a9c-4fb8-bfc9-4d988fd7f840\">\n",
              "    <style>\n",
              "      .colab-df-generate {\n",
              "        background-color: #E8F0FE;\n",
              "        border: none;\n",
              "        border-radius: 50%;\n",
              "        cursor: pointer;\n",
              "        display: none;\n",
              "        fill: #1967D2;\n",
              "        height: 32px;\n",
              "        padding: 0 0 0 0;\n",
              "        width: 32px;\n",
              "      }\n",
              "\n",
              "      .colab-df-generate:hover {\n",
              "        background-color: #E2EBFA;\n",
              "        box-shadow: 0px 1px 2px rgba(60, 64, 67, 0.3), 0px 1px 3px 1px rgba(60, 64, 67, 0.15);\n",
              "        fill: #174EA6;\n",
              "      }\n",
              "\n",
              "      [theme=dark] .colab-df-generate {\n",
              "        background-color: #3B4455;\n",
              "        fill: #D2E3FC;\n",
              "      }\n",
              "\n",
              "      [theme=dark] .colab-df-generate:hover {\n",
              "        background-color: #434B5C;\n",
              "        box-shadow: 0px 1px 3px 1px rgba(0, 0, 0, 0.15);\n",
              "        filter: drop-shadow(0px 1px 2px rgba(0, 0, 0, 0.3));\n",
              "        fill: #FFFFFF;\n",
              "      }\n",
              "    </style>\n",
              "    <button class=\"colab-df-generate\" onclick=\"generateWithVariable('recommended_anime')\"\n",
              "            title=\"Generate code using this dataframe.\"\n",
              "            style=\"display:none;\">\n",
              "\n",
              "  <svg xmlns=\"http://www.w3.org/2000/svg\" height=\"24px\"viewBox=\"0 0 24 24\"\n",
              "       width=\"24px\">\n",
              "    <path d=\"M7,19H8.4L18.45,9,17,7.55,7,17.6ZM5,21V16.75L18.45,3.32a2,2,0,0,1,2.83,0l1.4,1.43a1.91,1.91,0,0,1,.58,1.4,1.91,1.91,0,0,1-.58,1.4L9.25,21ZM18.45,9,17,7.55Zm-12,3A5.31,5.31,0,0,0,4.9,8.1,5.31,5.31,0,0,0,1,6.5,5.31,5.31,0,0,0,4.9,4.9,5.31,5.31,0,0,0,6.5,1,5.31,5.31,0,0,0,8.1,4.9,5.31,5.31,0,0,0,12,6.5,5.46,5.46,0,0,0,6.5,12Z\"/>\n",
              "  </svg>\n",
              "    </button>\n",
              "    <script>\n",
              "      (() => {\n",
              "      const buttonEl =\n",
              "        document.querySelector('#id_a9ff9c23-0a9c-4fb8-bfc9-4d988fd7f840 button.colab-df-generate');\n",
              "      buttonEl.style.display =\n",
              "        google.colab.kernel.accessAllowed ? 'block' : 'none';\n",
              "\n",
              "      buttonEl.onclick = () => {\n",
              "        google.colab.notebook.generateWithVariable('recommended_anime');\n",
              "      }\n",
              "      })();\n",
              "    </script>\n",
              "  </div>\n",
              "\n",
              "    </div>\n",
              "  </div>\n"
            ],
            "application/vnd.google.colaboratory.intrinsic+json": {
              "type": "dataframe",
              "variable_name": "recommended_anime",
              "summary": "{\n  \"name\": \"recommended_anime\",\n  \"rows\": 20,\n  \"fields\": [\n    {\n      \"column\": \"anime_id\",\n      \"properties\": {\n        \"dtype\": \"number\",\n        \"std\": 1366,\n        \"min\": 1,\n        \"max\": 4418,\n        \"num_unique_values\": 20,\n        \"samples\": [\n          512,\n          2000,\n          962\n        ],\n        \"semantic_type\": \"\",\n        \"description\": \"\"\n      }\n    },\n    {\n      \"column\": \"Name\",\n      \"properties\": {\n        \"dtype\": \"string\",\n        \"num_unique_values\": 20,\n        \"samples\": [\n          \"Majo no Takkyuubin\",\n          \"Roujin Z\",\n          \"Aria the Natural\"\n        ],\n        \"semantic_type\": \"\",\n        \"description\": \"\"\n      }\n    },\n    {\n      \"column\": \"Genres\",\n      \"properties\": {\n        \"dtype\": \"object\",\n        \"semantic_type\": \"\",\n        \"description\": \"\"\n      }\n    },\n    {\n      \"column\": \"average_rating\",\n      \"properties\": {\n        \"dtype\": \"number\",\n        \"std\": 0.03628461025300273,\n        \"min\": 0.5094803395730473,\n        \"max\": 0.6616017748573171,\n        \"num_unique_values\": 20,\n        \"samples\": [\n          0.6616017748573171,\n          0.5110079319017218,\n          0.5234931551287874\n        ],\n        \"semantic_type\": \"\",\n        \"description\": \"\"\n      }\n    },\n    {\n      \"column\": \"popularity\",\n      \"properties\": {\n        \"dtype\": \"number\",\n        \"std\": 17400.3299390981,\n        \"min\": 4530.0,\n        \"max\": 59047.0,\n        \"num_unique_values\": 20,\n        \"samples\": [\n          59047.0,\n          10338.0,\n          30826.0\n        ],\n        \"semantic_type\": \"\",\n        \"description\": \"\"\n      }\n    }\n  ]\n}"
            }
          },
          "metadata": {},
          "execution_count": 58
        }
      ]
    },
    {
      "cell_type": "markdown",
      "source": [
        "# Evaluasi"
      ],
      "metadata": {
        "id": "a74AAndDbqol"
      }
    },
    {
      "cell_type": "markdown",
      "source": [
        "## Evaluasi Rekomendasi Hybrid"
      ],
      "metadata": {
        "id": "PEa_Z-AzgGLU"
      }
    },
    {
      "cell_type": "markdown",
      "source": [
        "membuat evaluasi dengan `precision`, `diversity`, dan `NDCG`"
      ],
      "metadata": {
        "id": "fgp9y73DfjPM"
      }
    },
    {
      "cell_type": "code",
      "source": [
        "def precision_at_k(recommended_items, relevant_items, k=10):\n",
        "    recommended_items = recommended_items[:k]  # Ambil top k rekomendasi\n",
        "    relevant_items = set(relevant_items)  # Set relevansi untuk mempermudah pencocokan\n",
        "    relevant_count = sum(1 for item in recommended_items if item in relevant_items)\n",
        "    return relevant_count / k\n",
        "\n",
        "def calculate_diversity(recommended_items, cosine_sim=cosine_similarity(mlb.fit_transform(anime_df['Genres']))):\n",
        "    # Mengambil indeks dari anime yang direkomendasikan\n",
        "    recommended_indices = [anime_df[anime_df['anime_id'] == item].index[0] for item in recommended_items]\n",
        "\n",
        "    # Mengambil cosine similarity antar anime yang direkomendasikan\n",
        "    sim_matrix = cosine_sim[recommended_indices, :][:, recommended_indices]\n",
        "\n",
        "    # Menghitung rata-rata similarity, kemudian dikurangkan dari 1 untuk mendapatkan diversity\n",
        "    mean_similarity = np.mean(sim_matrix)\n",
        "    diversity = 1 - mean_similarity\n",
        "    return diversity\n",
        "\n",
        "def ndcg_at_k(recommended_items, relevant_items, k=10):\n",
        "    recommended_items = recommended_items[:k]\n",
        "    dcg = 0\n",
        "    idcg = 0\n",
        "\n",
        "    # Hitung DCG (Discounted Cumulative Gain)\n",
        "    for i, item in enumerate(recommended_items):\n",
        "        if item in relevant_items:\n",
        "            dcg += 1 / np.log2(i + 2)  # Menambahkan relevansi terdiskon\n",
        "\n",
        "    # Pastikan hanya item yang ada di recommended_items yang dipertimbangkan untuk IDCG\n",
        "    relevant_in_recommended = [item for item in relevant_items if item in recommended_items]\n",
        "\n",
        "    # Hitung IDCG (Ideal DCG) yaitu DCG pada ranking yang ideal\n",
        "    for i, item in enumerate(relevant_in_recommended[:k]):\n",
        "        idcg += 1 / np.log2(i + 2)\n",
        "\n",
        "    # Menghindari pembagian dengan nol\n",
        "    if idcg == 0:\n",
        "        return 0\n",
        "    return dcg / idcg\n"
      ],
      "metadata": {
        "id": "uBMmYlh7CMIG"
      },
      "execution_count": null,
      "outputs": []
    },
    {
      "cell_type": "markdown",
      "source": [
        "Melakukan inisialisasi dengan memberikan `top k = 20` serta list untuk menampung evaluasi sistem rekomendasi, serta menampung user unique dari data `test_user`. Sampel yang akan di evaluasi sebanyak `100` sample"
      ],
      "metadata": {
        "id": "hsHMhNm8iW5z"
      }
    },
    {
      "cell_type": "code",
      "source": [
        "k = 20\n",
        "\n",
        "all_precision = []\n",
        "all_diversity = []\n",
        "all_ndcg = []\n",
        "user_unique = test['user_id'].unique()[:300]"
      ],
      "metadata": {
        "id": "eUVCvkergZVt"
      },
      "execution_count": null,
      "outputs": []
    },
    {
      "cell_type": "markdown",
      "source": [
        "Melakukan evaluasi sistem rekomendasi setiap user dengan metrik yang telah ditentukan"
      ],
      "metadata": {
        "id": "0YhG6KuMitNd"
      }
    },
    {
      "cell_type": "code",
      "source": [
        "for i,user_index in enumerate(user_unique):\n",
        "    relevant_items = test[test['user_id'] == user_index]['anime_id'].tolist()\n",
        "    recommended_items = recommend_anime_for_user(user_index, train, anime_df).head(k)['anime_id'].tolist()\n",
        "\n",
        "    precision = precision_at_k(recommended_items, relevant_items, k)\n",
        "    diversity = calculate_diversity(recommended_items)\n",
        "    ndcg = ndcg_at_k(recommended_items, relevant_items, k)\n",
        "\n",
        "    all_precision.append(precision)\n",
        "    all_diversity.append(diversity)\n",
        "    all_ndcg.append(ndcg)\n",
        "\n",
        "    print(f\"proses user ke -{i+1} user = {user_index} precision = {precision} diversity = {diversity} ndcg = {ndcg}\")\n"
      ],
      "metadata": {
        "colab": {
          "base_uri": "https://localhost:8080/"
        },
        "id": "fBU_zGEWMLvt",
        "outputId": "205b21c1-eefa-4d26-956a-793fc5f21758"
      },
      "execution_count": null,
      "outputs": [
        {
          "output_type": "stream",
          "name": "stdout",
          "text": [
            "proses user ke -1 user = 13193 precision = 0.1 diversity = 0.5383115066866107 ndcg = 0.9197207891481876\n",
            "proses user ke -2 user = 11165 precision = 0.05 diversity = 0.6174357638374508 ndcg = 1.0\n",
            "proses user ke -3 user = 48097 precision = 0.1 diversity = 0.6858256467954448 ndcg = 0.5437713091520254\n",
            "proses user ke -4 user = 47538 precision = 0.1 diversity = 0.5934299320409828 ndcg = 0.9197207891481876\n",
            "proses user ke -5 user = 46118 precision = 0.1 diversity = 0.5749963397815281 ndcg = 0.4911492931622974\n",
            "proses user ke -6 user = 55139 precision = 0.15 diversity = 0.5749509315083785 ndcg = 0.5377082225242766\n",
            "proses user ke -7 user = 24665 precision = 0.3 diversity = 0.590340759239826 ndcg = 0.7757449399098547\n",
            "proses user ke -8 user = 26579 precision = 0.15 diversity = 0.6835615652264315 ndcg = 0.7109050375811679\n",
            "proses user ke -9 user = 7863 precision = 0.1 diversity = 0.68892292714985 ndcg = 0.37679308663404665\n",
            "proses user ke -10 user = 21499 precision = 0.05 diversity = 0.5708714014434937 ndcg = 0.2890648263178879\n",
            "proses user ke -11 user = 30098 precision = 0.0 diversity = 0.5690259286904729 ndcg = 0\n",
            "proses user ke -12 user = 43051 precision = 0.15 diversity = 0.4935346234099004 ndcg = 0.9066276098484507\n",
            "proses user ke -13 user = 10986 precision = 0.15 diversity = 0.5152298945775357 ndcg = 0.9469024295259745\n",
            "proses user ke -14 user = 52219 precision = 0.1 diversity = 0.6381207082261822 ndcg = 0.3012802587606511\n",
            "proses user ke -15 user = 39771 precision = 0.0 diversity = 0.5565067748336194 ndcg = 0\n",
            "proses user ke -16 user = 22662 precision = 0.05 diversity = 0.637533904579014 ndcg = 0.31546487678572877\n",
            "proses user ke -17 user = 56182 precision = 0.25 diversity = 0.6285266798495304 ndcg = 0.8606648302070755\n",
            "proses user ke -18 user = 36405 precision = 0.25 diversity = 0.5853819554872215 ndcg = 0.6711311771326174\n",
            "proses user ke -19 user = 26206 precision = 0.05 diversity = 0.5377388649073515 ndcg = 0.5\n",
            "proses user ke -20 user = 6720 precision = 0.05 diversity = 0.6068564783409874 ndcg = 0.5\n",
            "proses user ke -21 user = 14582 precision = 0.2 diversity = 0.6049565563982053 ndcg = 0.718546562803732\n",
            "proses user ke -22 user = 65319 precision = 0.15 diversity = 0.5354639197794631 ndcg = 0.4536926310715092\n",
            "proses user ke -23 user = 51918 precision = 0.55 diversity = 0.6584891352241435 ndcg = 0.9193893522175259\n",
            "proses user ke -24 user = 42505 precision = 0.1 diversity = 0.5867542405561701 ndcg = 0.526448181099292\n",
            "proses user ke -25 user = 28357 precision = 0.25 diversity = 0.6150196445784619 ndcg = 0.8659013453423597\n",
            "proses user ke -26 user = 57357 precision = 0.05 diversity = 0.6662973691210379 ndcg = 0.5\n",
            "proses user ke -27 user = 15023 precision = 0.05 diversity = 0.6062192120383131 ndcg = 0.5\n",
            "proses user ke -28 user = 5628 precision = 0.05 diversity = 0.5966791610325055 ndcg = 1.0\n",
            "proses user ke -29 user = 53769 precision = 0.2 diversity = 0.5963287439743634 ndcg = 0.48554675348944587\n",
            "proses user ke -30 user = 24114 precision = 0.25 diversity = 0.6522406475153836 ndcg = 0.7962090036840728\n",
            "proses user ke -31 user = 17792 precision = 0.15 diversity = 0.5612224733173652 ndcg = 0.5941443561002647\n",
            "proses user ke -32 user = 22951 precision = 0.1 diversity = 0.6530477038576606 ndcg = 0.5\n",
            "proses user ke -33 user = 66309 precision = 0.05 diversity = 0.5838464990538225 ndcg = 0.6309297535714575\n",
            "proses user ke -34 user = 40942 precision = 0.45 diversity = 0.4706852710614181 ndcg = 0.9434047050545343\n",
            "proses user ke -35 user = 20938 precision = 0.05 diversity = 0.6513664017587312 ndcg = 1.0\n",
            "proses user ke -36 user = 53577 precision = 0.1 diversity = 0.6023561814199134 ndcg = 0.3941376571472261\n",
            "proses user ke -37 user = 64061 precision = 0.25 diversity = 0.5773623008966662 ndcg = 0.6899068523851726\n",
            "proses user ke -38 user = 30814 precision = 0.05 diversity = 0.5129314162303618 ndcg = 1.0\n",
            "proses user ke -39 user = 12990 precision = 0.0 diversity = 0.6311444356982856 ndcg = 0\n",
            "proses user ke -40 user = 51883 precision = 0.0 diversity = 0.5931556369189577 ndcg = 0\n",
            "proses user ke -41 user = 36080 precision = 0.1 diversity = 0.6009483198628429 ndcg = 0.9197207891481876\n",
            "proses user ke -42 user = 25428 precision = 0.2 diversity = 0.6053030570588915 ndcg = 0.7070097416712355\n",
            "proses user ke -43 user = 41961 precision = 0.15 diversity = 0.7083755709648858 ndcg = 0.37308731073618817\n",
            "proses user ke -44 user = 25724 precision = 0.05 diversity = 0.540119907297888 ndcg = 0.5\n",
            "proses user ke -45 user = 52208 precision = 0.25 diversity = 0.6838580873505972 ndcg = 0.8103723618507241\n",
            "proses user ke -46 user = 26013 precision = 0.4 diversity = 0.6089620141236269 ndcg = 0.8848142860793377\n",
            "proses user ke -47 user = 53608 precision = 0.1 diversity = 0.6008766303823438 ndcg = 0.7741900178546666\n",
            "proses user ke -48 user = 65356 precision = 0.1 diversity = 0.6550672848446406 ndcg = 0.3753473811960941\n",
            "proses user ke -49 user = 47760 precision = 0.15 diversity = 0.6438427788263019 ndcg = 0.45277732927095593\n",
            "proses user ke -50 user = 2258 precision = 0.0 diversity = 0.6045215560558415 ndcg = 0\n",
            "proses user ke -51 user = 1679 precision = 0.3 diversity = 0.5505388668001634 ndcg = 0.7507164409333197\n",
            "proses user ke -52 user = 62664 precision = 0.1 diversity = 0.6862064933344402 ndcg = 0.778842958530688\n",
            "proses user ke -53 user = 32509 precision = 0.05 diversity = 0.6524821888218473 ndcg = 0.5\n",
            "proses user ke -54 user = 61722 precision = 0.05 diversity = 0.5238073978758657 ndcg = 0.38685280723454163\n",
            "proses user ke -55 user = 23616 precision = 0.35 diversity = 0.5127574680254267 ndcg = 0.9300602426829809\n",
            "proses user ke -56 user = 62927 precision = 0.2 diversity = 0.544977619526944 ndcg = 0.6821597128635729\n",
            "proses user ke -57 user = 64989 precision = 0.15 diversity = 0.6009448159994992 ndcg = 0.3767374843820175\n",
            "proses user ke -58 user = 9622 precision = 1.0 diversity = 0.6053016700662419 ndcg = 1.0\n",
            "proses user ke -59 user = 63802 precision = 0.45 diversity = 0.5866597659131585 ndcg = 0.7327368182894182\n",
            "proses user ke -60 user = 45330 precision = 0.0 diversity = 0.6352279134802177 ndcg = 0\n",
            "proses user ke -61 user = 16207 precision = 0.1 diversity = 0.5795034881938488 ndcg = 0.4722693621479587\n",
            "proses user ke -62 user = 15769 precision = 0.1 diversity = 0.6329353735657604 ndcg = 0.7700871371433883\n",
            "proses user ke -63 user = 53403 precision = 0.05 diversity = 0.6070404462876926 ndcg = 0.3333333333333333\n",
            "proses user ke -64 user = 18399 precision = 0.05 diversity = 0.5640240434195039 ndcg = 0.3333333333333333\n",
            "proses user ke -65 user = 45053 precision = 0.15 diversity = 0.6448101691063379 ndcg = 0.38739686111079374\n",
            "proses user ke -66 user = 23319 precision = 0.25 diversity = 0.6167534140703517 ndcg = 0.8332202313531782\n",
            "proses user ke -67 user = 10447 precision = 0.25 diversity = 0.6500813983184374 ndcg = 0.9068250379649666\n",
            "proses user ke -68 user = 33669 precision = 0.05 diversity = 0.6122615812226986 ndcg = 1.0\n",
            "proses user ke -69 user = 61689 precision = 0.1 diversity = 0.5622393890350696 ndcg = 0.29515570005735875\n",
            "proses user ke -70 user = 19601 precision = 0.25 diversity = 0.6065392344882156 ndcg = 0.4902247113577054\n",
            "proses user ke -71 user = 31697 precision = 0.2 diversity = 0.6228592688988215 ndcg = 0.6273245430198786\n",
            "proses user ke -72 user = 15653 precision = 0.25 diversity = 0.4335819939228993 ndcg = 0.8211056162541189\n",
            "proses user ke -73 user = 1169 precision = 0.15 diversity = 0.5645003153845567 ndcg = 0.5213636006509805\n",
            "proses user ke -74 user = 25194 precision = 0.35 diversity = 0.6613090462207942 ndcg = 0.7215860079976671\n",
            "proses user ke -75 user = 32847 precision = 0.05 diversity = 0.5074409753762998 ndcg = 0.6309297535714575\n",
            "proses user ke -76 user = 55644 precision = 0.1 diversity = 0.5677570697705898 ndcg = 0.5478956323237497\n",
            "proses user ke -77 user = 29206 precision = 0.2 diversity = 0.6105281559472461 ndcg = 0.8460974868579134\n",
            "proses user ke -78 user = 7698 precision = 0.15 diversity = 0.6132187150253587 ndcg = 0.47026395778153146\n",
            "proses user ke -79 user = 25607 precision = 0.1 diversity = 0.6468110661344632 ndcg = 1.0\n",
            "proses user ke -80 user = 51706 precision = 0.0 diversity = 0.5415385859646719 ndcg = 0\n",
            "proses user ke -81 user = 25281 precision = 0.0 diversity = 0.5652373374630241 ndcg = 0\n",
            "proses user ke -82 user = 4016 precision = 0.1 diversity = 0.5898880090906482 ndcg = 0.4536139370491393\n",
            "proses user ke -83 user = 63874 precision = 0.1 diversity = 0.5159054491443373 ndcg = 0.778842958530688\n",
            "proses user ke -84 user = 63297 precision = 0.15 diversity = 0.6931958162930256 ndcg = 0.86034433104172\n",
            "proses user ke -85 user = 11369 precision = 0.1 diversity = 0.6137430981236294 ndcg = 0.4415801103577823\n",
            "proses user ke -86 user = 41201 precision = 0.15 diversity = 0.6525598030457511 ndcg = 0.5459297569267278\n",
            "proses user ke -87 user = 17499 precision = 0.95 diversity = 0.6265854304406082 ndcg = 0.9994557194787812\n",
            "proses user ke -88 user = 46458 precision = 0.25 diversity = 0.6125601069898212 ndcg = 0.4490483456373208\n",
            "proses user ke -89 user = 27685 precision = 0.1 diversity = 0.5813934692336198 ndcg = 0.8315546295836225\n",
            "proses user ke -90 user = 63324 precision = 0.2 diversity = 0.5677958329060171 ndcg = 0.8553403239659044\n",
            "proses user ke -91 user = 14833 precision = 0.05 diversity = 0.573902924946745 ndcg = 0.23137821315975915\n",
            "proses user ke -92 user = 5765 precision = 0.25 diversity = 0.4927231107232053 ndcg = 0.8524107160505932\n",
            "proses user ke -93 user = 37217 precision = 0.1 diversity = 0.5737335271024278 ndcg = 0.4210080669505208\n",
            "proses user ke -94 user = 26733 precision = 0.15 diversity = 0.6132407072796981 ndcg = 0.9325210919548239\n",
            "proses user ke -95 user = 10337 precision = 0.3 diversity = 0.6430654601060007 ndcg = 0.7856123691589787\n",
            "proses user ke -96 user = 60635 precision = 0.05 diversity = 0.6343041988839659 ndcg = 0.6309297535714575\n",
            "proses user ke -97 user = 2979 precision = 0.2 diversity = 0.5702313650405348 ndcg = 0.7673222538525867\n",
            "proses user ke -98 user = 20243 precision = 0.2 diversity = 0.5431278642114711 ndcg = 0.4414888497877395\n",
            "proses user ke -99 user = 35018 precision = 0.05 diversity = 0.595472095233929 ndcg = 0.227670248696953\n",
            "proses user ke -100 user = 47155 precision = 0.1 diversity = 0.626216543056066 ndcg = 0.3341792311619776\n",
            "proses user ke -101 user = 7783 precision = 0.1 diversity = 0.59640105774221 ndcg = 0.5706417189553201\n",
            "proses user ke -102 user = 57478 precision = 0.05 diversity = 0.6247892093688063 ndcg = 0.3562071871080222\n",
            "proses user ke -103 user = 66596 precision = 0.0 diversity = 0.5315539988504476 ndcg = 0\n",
            "proses user ke -104 user = 29874 precision = 0.05 diversity = 0.5352380632885867 ndcg = 0.23981246656813146\n",
            "proses user ke -105 user = 34822 precision = 0.65 diversity = 0.614525690014194 ndcg = 0.9142635400047272\n",
            "proses user ke -106 user = 62441 precision = 0.25 diversity = 0.5688575242215982 ndcg = 0.6541673029940893\n",
            "proses user ke -107 user = 57132 precision = 0.55 diversity = 0.6171528575364098 ndcg = 0.9029121783291394\n",
            "proses user ke -108 user = 10237 precision = 0.15 diversity = 0.5972725012466902 ndcg = 0.4480957561379977\n",
            "proses user ke -109 user = 41599 precision = 0.15 diversity = 0.5787134521034458 ndcg = 0.8395700624665824\n",
            "proses user ke -110 user = 31170 precision = 0.05 diversity = 0.5864889246507972 ndcg = 0.26264953503719357\n",
            "proses user ke -111 user = 3827 precision = 0.2 diversity = 0.6691264420887186 ndcg = 0.45388057207535065\n",
            "proses user ke -112 user = 21294 precision = 0.1 diversity = 0.5787206542177437 ndcg = 0.9197207891481876\n",
            "proses user ke -113 user = 40073 precision = 0.45 diversity = 0.6478731710241517 ndcg = 0.8982989171795396\n",
            "proses user ke -114 user = 38886 precision = 0.85 diversity = 0.5509394008346755 ndcg = 0.9896312495356454\n",
            "proses user ke -115 user = 38581 precision = 0.2 diversity = 0.5997636149949024 ndcg = 0.741465346941273\n",
            "proses user ke -116 user = 54458 precision = 0.2 diversity = 0.5877776646957393 ndcg = 0.5774313471692488\n",
            "proses user ke -117 user = 22596 precision = 0.15 diversity = 0.600799685599396 ndcg = 0.7342858411313755\n",
            "proses user ke -118 user = 18211 precision = 0.25 diversity = 0.5925011673086331 ndcg = 0.8930068676327362\n",
            "proses user ke -119 user = 28745 precision = 0.4 diversity = 0.6477185762021787 ndcg = 0.9123043718336871\n",
            "proses user ke -120 user = 43409 precision = 0.1 diversity = 0.6330958548540644 ndcg = 0.7550160946314525\n",
            "proses user ke -121 user = 58500 precision = 0.35 diversity = 0.4521293400622184 ndcg = 0.8648527294530762\n",
            "proses user ke -122 user = 39044 precision = 0.15 diversity = 0.6772440360411767 ndcg = 0.7067140633264968\n",
            "proses user ke -123 user = 59116 precision = 0.1 diversity = 0.4311032005325207 ndcg = 0.32263571014315945\n",
            "proses user ke -124 user = 54065 precision = 0.35 diversity = 0.5987262749779707 ndcg = 0.597330906682386\n",
            "proses user ke -125 user = 24949 precision = 0.1 diversity = 0.6283886321041737 ndcg = 0.766433990956823\n",
            "proses user ke -126 user = 43949 precision = 0.15 diversity = 0.6214304014262646 ndcg = 0.4181781009324507\n",
            "proses user ke -127 user = 15876 precision = 0.55 diversity = 0.5520560743210439 ndcg = 0.926755053838414\n",
            "proses user ke -128 user = 63925 precision = 0.15 diversity = 0.6654921802944574 ndcg = 0.5881601264058984\n",
            "proses user ke -129 user = 64294 precision = 0.1 diversity = 0.6015971133851021 ndcg = 0.45560514958746035\n",
            "proses user ke -130 user = 47457 precision = 0.05 diversity = 0.5366456015034288 ndcg = 1.0\n",
            "proses user ke -131 user = 54664 precision = 0.3 diversity = 0.6643481715980342 ndcg = 0.8792934486386172\n",
            "proses user ke -132 user = 11234 precision = 0.1 diversity = 0.6199112988328898 ndcg = 0.9197207891481876\n",
            "proses user ke -133 user = 39749 precision = 0.25 diversity = 0.6654271623035783 ndcg = 0.7468675560393123\n",
            "proses user ke -134 user = 33645 precision = 0.4 diversity = 0.6014653138152721 ndcg = 0.6775597055271325\n",
            "proses user ke -135 user = 10096 precision = 0.05 diversity = 0.5039721403851003 ndcg = 0.6309297535714575\n",
            "proses user ke -136 user = 65465 precision = 0.25 diversity = 0.48929373675006327 ndcg = 0.774334146231122\n",
            "proses user ke -137 user = 30268 precision = 0.15 diversity = 0.5858700148911902 ndcg = 0.4443920427463031\n",
            "proses user ke -138 user = 19229 precision = 0.15 diversity = 0.5931308172533003 ndcg = 0.7222503809608933\n",
            "proses user ke -139 user = 39466 precision = 0.15 diversity = 0.6714978176484538 ndcg = 0.7162113986532013\n",
            "proses user ke -140 user = 55086 precision = 0.1 diversity = 0.6210745940991196 ndcg = 0.39824053785850433\n",
            "proses user ke -141 user = 36243 precision = 0.15 diversity = 0.5023853446732068 ndcg = 0.8212377705398237\n",
            "proses user ke -142 user = 29223 precision = 0.1 diversity = 0.5128778222832628 ndcg = 0.3514227382548962\n",
            "proses user ke -143 user = 61913 precision = 0.4 diversity = 0.6709699068692035 ndcg = 0.8318603471532814\n",
            "proses user ke -144 user = 36031 precision = 0.0 diversity = 0.6423791799128582 ndcg = 0\n",
            "proses user ke -145 user = 31056 precision = 0.35 diversity = 0.6406193358031924 ndcg = 0.8490481226129134\n",
            "proses user ke -146 user = 53023 precision = 0.05 diversity = 0.5639759342534527 ndcg = 0.227670248696953\n",
            "proses user ke -147 user = 25554 precision = 0.15 diversity = 0.5478243928111789 ndcg = 0.48952112275610105\n",
            "proses user ke -148 user = 54600 precision = 0.1 diversity = 0.5947058065060347 ndcg = 0.8065735963827293\n",
            "proses user ke -149 user = 18637 precision = 0.1 diversity = 0.556496053130949 ndcg = 1.0\n",
            "proses user ke -150 user = 41428 precision = 0.3 diversity = 0.5816350896397249 ndcg = 0.7908731052397757\n",
            "proses user ke -151 user = 28985 precision = 0.05 diversity = 0.5901090906525388 ndcg = 0.227670248696953\n",
            "proses user ke -152 user = 59242 precision = 0.1 diversity = 0.5733121763637639 ndcg = 0.7574875071481796\n",
            "proses user ke -153 user = 43188 precision = 0.2 diversity = 0.6041638232453636 ndcg = 0.708639590991298\n",
            "proses user ke -154 user = 10838 precision = 0.05 diversity = 0.5664199507678691 ndcg = 0.3010299956639812\n",
            "proses user ke -155 user = 33990 precision = 0.3 diversity = 0.6156960773732805 ndcg = 0.7827276365012019\n",
            "proses user ke -156 user = 59104 precision = 0.05 diversity = 0.5625730655090608 ndcg = 0.27023815442731974\n",
            "proses user ke -157 user = 51025 precision = 0.0 diversity = 0.636524362840995 ndcg = 0\n",
            "proses user ke -158 user = 55319 precision = 0.15 diversity = 0.6239306155275619 ndcg = 0.42013210990433913\n",
            "proses user ke -159 user = 14759 precision = 0.05 diversity = 0.5575754512754285 ndcg = 0.3010299956639812\n",
            "proses user ke -160 user = 32373 precision = 0.2 diversity = 0.6726058954194589 ndcg = 0.5015572230850343\n",
            "proses user ke -161 user = 20204 precision = 0.5 diversity = 0.699122878215743 ndcg = 0.9587824826231333\n",
            "proses user ke -162 user = 55542 precision = 0.05 diversity = 0.5829381849853399 ndcg = 0.6309297535714575\n",
            "proses user ke -163 user = 49563 precision = 0.2 diversity = 0.5212312474473284 ndcg = 0.5447805286923312\n",
            "proses user ke -164 user = 48448 precision = 0.25 diversity = 0.4511468776092057 ndcg = 0.873659246283982\n",
            "proses user ke -165 user = 35186 precision = 0.2 diversity = 0.6591926808341217 ndcg = 0.5552986713954835\n",
            "proses user ke -166 user = 56264 precision = 0.05 diversity = 0.5419346482055527 ndcg = 1.0\n",
            "proses user ke -167 user = 37291 precision = 0.15 diversity = 0.5770341590955711 ndcg = 0.5323325778787926\n",
            "proses user ke -168 user = 35407 precision = 0.15 diversity = 0.554938284144475 ndcg = 0.5470995569321138\n",
            "proses user ke -169 user = 49163 precision = 0.1 diversity = 0.6019485288656232 ndcg = 0.3029117269552023\n",
            "proses user ke -170 user = 47141 precision = 0.35 diversity = 0.5674095531852383 ndcg = 0.9693715998720557\n",
            "proses user ke -171 user = 30389 precision = 0.05 diversity = 0.5683246935936417 ndcg = 0.31546487678572877\n",
            "proses user ke -172 user = 32402 precision = 0.55 diversity = 0.6493813416977094 ndcg = 0.8147510832274775\n",
            "proses user ke -173 user = 64826 precision = 0.15 diversity = 0.5249522043263815 ndcg = 0.42962944523104357\n",
            "proses user ke -174 user = 30955 precision = 0.0 diversity = 0.6346986530377748 ndcg = 0\n",
            "proses user ke -175 user = 36436 precision = 0.35 diversity = 0.5228336089675768 ndcg = 0.9471725609554816\n",
            "proses user ke -176 user = 58096 precision = 0.2 diversity = 0.46194359902770366 ndcg = 0.5718315038175618\n",
            "proses user ke -177 user = 39358 precision = 0.15 diversity = 0.5361590055356387 ndcg = 0.36748868572620486\n",
            "proses user ke -178 user = 45920 precision = 0.2 diversity = 0.6100215708716654 ndcg = 0.530607909192604\n",
            "proses user ke -179 user = 2660 precision = 0.15 diversity = 0.5489010662530749 ndcg = 0.5650470417689183\n",
            "proses user ke -180 user = 15 precision = 0.05 diversity = 0.47785646950161276 ndcg = 0.43067655807339306\n",
            "proses user ke -181 user = 66183 precision = 0.15 diversity = 0.5894305187578406 ndcg = 0.40965323266044024\n",
            "proses user ke -182 user = 29226 precision = 0.3 diversity = 0.5980322253960614 ndcg = 0.5655113601932277\n",
            "proses user ke -183 user = 51064 precision = 0.05 diversity = 0.6242084395489642 ndcg = 0.5\n",
            "proses user ke -184 user = 21604 precision = 0.25 diversity = 0.5900015579447252 ndcg = 0.9517706505727772\n",
            "proses user ke -185 user = 50013 precision = 0.15 diversity = 0.5941883585302212 ndcg = 0.37499520701165\n",
            "proses user ke -186 user = 30672 precision = 0.4 diversity = 0.605845726717109 ndcg = 0.8732941636395379\n",
            "proses user ke -187 user = 33276 precision = 0.1 diversity = 0.5564827461241438 ndcg = 0.46845052016107697\n",
            "proses user ke -188 user = 62876 precision = 0.2 diversity = 0.6144559889750152 ndcg = 0.4695984099820135\n",
            "proses user ke -189 user = 10244 precision = 0.05 diversity = 0.5329019277703075 ndcg = 0.3562071871080222\n",
            "proses user ke -190 user = 23639 precision = 0.25 diversity = 0.5575387151115078 ndcg = 0.5496443858749954\n",
            "proses user ke -191 user = 54202 precision = 0.1 diversity = 0.6182197989195388 ndcg = 0.7700871371433883\n",
            "proses user ke -192 user = 41747 precision = 0.1 diversity = 0.533440341180854 ndcg = 0.5368596003428795\n",
            "proses user ke -193 user = 60370 precision = 0.0 diversity = 0.6041817329157987 ndcg = 0\n",
            "proses user ke -194 user = 40628 precision = 0.25 diversity = 0.6287102062529714 ndcg = 0.802774309709857\n",
            "proses user ke -195 user = 63938 precision = 0.1 diversity = 0.6501679758756347 ndcg = 0.3434331967256086\n",
            "proses user ke -196 user = 506 precision = 0.3 diversity = 0.6134833340583792 ndcg = 0.7233315305904191\n",
            "proses user ke -197 user = 59450 precision = 0.2 diversity = 0.35088217685478373 ndcg = 0.7497206014488409\n",
            "proses user ke -198 user = 46635 precision = 0.1 diversity = 0.5445135275500848 ndcg = 0.766433990956823\n",
            "proses user ke -199 user = 55372 precision = 0.05 diversity = 0.5848064167805735 ndcg = 0.43067655807339306\n",
            "proses user ke -200 user = 62390 precision = 0.1 diversity = 0.6344571565833321 ndcg = 0.3080831657556183\n",
            "proses user ke -201 user = 22859 precision = 0.2 diversity = 0.510363236193137 ndcg = 0.9058653015743079\n",
            "proses user ke -202 user = 18290 precision = 0.15 diversity = 0.5520019643509801 ndcg = 0.7070215204527439\n",
            "proses user ke -203 user = 37032 precision = 0.05 diversity = 0.488661757229096 ndcg = 1.0\n",
            "proses user ke -204 user = 35284 precision = 0.2 diversity = 0.6182465083496341 ndcg = 0.7734905259065679\n",
            "proses user ke -205 user = 43615 precision = 0.3 diversity = 0.6358348784641064 ndcg = 0.7394120549490099\n",
            "proses user ke -206 user = 933 precision = 0.1 diversity = 0.6367967236163496 ndcg = 1.0\n",
            "proses user ke -207 user = 25969 precision = 0.2 diversity = 0.6021138380321698 ndcg = 0.752826567906361\n",
            "proses user ke -208 user = 11286 precision = 0.25 diversity = 0.6204123417077267 ndcg = 0.781409349755233\n",
            "proses user ke -209 user = 35151 precision = 0.15 diversity = 0.5566534015493055 ndcg = 0.4598263535011384\n",
            "proses user ke -210 user = 55843 precision = 0.25 diversity = 0.5284679920058504 ndcg = 0.5684175164424905\n",
            "proses user ke -211 user = 47854 precision = 0.1 diversity = 0.57726017927736 ndcg = 0.5368596003428795\n",
            "proses user ke -212 user = 21221 precision = 0.5 diversity = 0.572924523195018 ndcg = 0.8924657329582801\n",
            "proses user ke -213 user = 13312 precision = 0.0 diversity = 0.5629833797185615 ndcg = 0\n",
            "proses user ke -214 user = 57949 precision = 0.3 diversity = 0.5648779639761926 ndcg = 0.7436693680844835\n",
            "proses user ke -215 user = 19302 precision = 0.35 diversity = 0.6911416291666503 ndcg = 0.9289178088801324\n",
            "proses user ke -216 user = 53387 precision = 0.25 diversity = 0.6178745236310466 ndcg = 0.6385960889468827\n",
            "proses user ke -217 user = 46231 precision = 0.0 diversity = 0.6067523800219771 ndcg = 0\n",
            "proses user ke -218 user = 29783 precision = 0.2 diversity = 0.6473062376868423 ndcg = 0.7946775459209724\n",
            "proses user ke -219 user = 40260 precision = 0.15 diversity = 0.5716198012712412 ndcg = 0.653977113169967\n",
            "proses user ke -220 user = 4434 precision = 0.2 diversity = 0.5338946416773999 ndcg = 0.7097139649072945\n",
            "proses user ke -221 user = 7877 precision = 0.25 diversity = 0.5444009890035343 ndcg = 0.7992629697784255\n",
            "proses user ke -222 user = 39730 precision = 0.05 diversity = 0.5835826675092923 ndcg = 0.43067655807339306\n",
            "proses user ke -223 user = 13442 precision = 0.15 diversity = 0.5827529051261784 ndcg = 0.9060254355346823\n",
            "proses user ke -224 user = 55577 precision = 0.1 diversity = 0.6080810482217875 ndcg = 0.425110947661799\n",
            "proses user ke -225 user = 9108 precision = 0.2 diversity = 0.6393335601687199 ndcg = 0.8254812683219978\n",
            "proses user ke -226 user = 57682 precision = 0.2 diversity = 0.6281144523275715 ndcg = 0.5374167842761516\n",
            "proses user ke -227 user = 41304 precision = 0.1 diversity = 0.5662290854236272 ndcg = 0.3556087808472863\n",
            "proses user ke -228 user = 43979 precision = 0.1 diversity = 0.5447615893939478 ndcg = 0.6052602440527057\n",
            "proses user ke -229 user = 44495 precision = 0.1 diversity = 0.6151426913340967 ndcg = 0.4084084369553121\n",
            "proses user ke -230 user = 21918 precision = 0.1 diversity = 0.52249356291868 ndcg = 0.3591221693825003\n",
            "proses user ke -231 user = 6571 precision = 0.4 diversity = 0.6221447973573373 ndcg = 0.7983420044680728\n",
            "proses user ke -232 user = 33334 precision = 0.05 diversity = 0.5741933493039966 ndcg = 0.5\n",
            "proses user ke -233 user = 37288 precision = 0.15 diversity = 0.5683558454938145 ndcg = 0.46478505137733167\n",
            "proses user ke -234 user = 10637 precision = 0.05 diversity = 0.5320908711235672 ndcg = 0.31546487678572877\n",
            "proses user ke -235 user = 57737 precision = 0.25 diversity = 0.6021494936069824 ndcg = 0.7945243199582346\n",
            "proses user ke -236 user = 61834 precision = 0.45 diversity = 0.5521381331176243 ndcg = 0.8259764517747348\n",
            "proses user ke -237 user = 1011 precision = 0.2 diversity = 0.6172466301136438 ndcg = 0.4776068572728133\n",
            "proses user ke -238 user = 28114 precision = 0.1 diversity = 0.6347197847323501 ndcg = 0.7527425666302089\n",
            "proses user ke -239 user = 2808 precision = 0.05 diversity = 0.49362814067613403 ndcg = 0.26264953503719357\n",
            "proses user ke -240 user = 24037 precision = 0.2 diversity = 0.6169393467844821 ndcg = 0.8210670526635703\n",
            "proses user ke -241 user = 22678 precision = 0.25 diversity = 0.5419980234997448 ndcg = 0.7400273181908598\n",
            "proses user ke -242 user = 15748 precision = 0.1 diversity = 0.5606758857465255 ndcg = 0.44844249824872334\n",
            "proses user ke -243 user = 16360 precision = 0.1 diversity = 0.5045444513814887 ndcg = 0.3168346606487982\n",
            "proses user ke -244 user = 51480 precision = 0.2 diversity = 0.5554184811255567 ndcg = 0.6124697544927773\n",
            "proses user ke -245 user = 11893 precision = 0.1 diversity = 0.6205025759983955 ndcg = 0.6934264036172708\n",
            "proses user ke -246 user = 5905 precision = 0.2 diversity = 0.6646898090548872 ndcg = 0.47046663348673273\n",
            "proses user ke -247 user = 52463 precision = 0.85 diversity = 0.6587815245250292 ndcg = 0.9896312495356454\n",
            "proses user ke -248 user = 27744 precision = 1.0 diversity = 0.6661980259420258 ndcg = 1.0\n",
            "proses user ke -249 user = 42920 precision = 0.2 diversity = 0.5828675196394645 ndcg = 0.4341257026487554\n",
            "proses user ke -250 user = 52169 precision = 0.1 diversity = 0.6675104273894404 ndcg = 0.3157025588735674\n",
            "proses user ke -251 user = 61080 precision = 0.1 diversity = 0.5475662540130456 ndcg = 0.31062845793246857\n",
            "proses user ke -252 user = 45251 precision = 0.1 diversity = 0.656951130218113 ndcg = 0.5714285040141098\n",
            "proses user ke -253 user = 36611 precision = 0.3 diversity = 0.600966354501068 ndcg = 0.7630125578262338\n",
            "proses user ke -254 user = 8247 precision = 0.15 diversity = 0.6001801258460066 ndcg = 0.5309904502747488\n",
            "proses user ke -255 user = 24558 precision = 0.6 diversity = 0.5456901327142467 ndcg = 0.9100383354079783\n",
            "proses user ke -256 user = 6233 precision = 0.05 diversity = 0.5478926727099425 ndcg = 0.24465054211822604\n",
            "proses user ke -257 user = 18175 precision = 0.05 diversity = 0.5049020004546345 ndcg = 1.0\n",
            "proses user ke -258 user = 24490 precision = 0.2 diversity = 0.4966042902147527 ndcg = 0.4785408291622707\n",
            "proses user ke -259 user = 2612 precision = 0.15 diversity = 0.6604667493487881 ndcg = 0.7864724919925569\n",
            "proses user ke -260 user = 4932 precision = 0.0 diversity = 0.566833400227118 ndcg = 0\n",
            "proses user ke -261 user = 9912 precision = 0.2 diversity = 0.6090487117825226 ndcg = 0.7110471633816275\n",
            "proses user ke -262 user = 12804 precision = 0.15 diversity = 0.6181724962761472 ndcg = 0.8962626271568189\n",
            "proses user ke -263 user = 51942 precision = 0.15 diversity = 0.6126799101024945 ndcg = 0.7210180938416828\n",
            "proses user ke -264 user = 13463 precision = 0.0 diversity = 0.5653507343973851 ndcg = 0\n",
            "proses user ke -265 user = 2293 precision = 0.05 diversity = 0.5608816390086024 ndcg = 0.43067655807339306\n",
            "proses user ke -266 user = 59384 precision = 0.1 diversity = 0.621244168680265 ndcg = 0.8065735963827293\n",
            "proses user ke -267 user = 59900 precision = 0.2 diversity = 0.5744130219630528 ndcg = 0.42740739740555284\n",
            "proses user ke -268 user = 49077 precision = 0.15 diversity = 0.5702126419152285 ndcg = 0.47610860572854014\n",
            "proses user ke -269 user = 27843 precision = 0.1 diversity = 0.6354786213031868 ndcg = 0.38153802715201746\n",
            "proses user ke -270 user = 58209 precision = 0.3 diversity = 0.6559131914121894 ndcg = 0.803245272833248\n",
            "proses user ke -271 user = 50279 precision = 0.3 diversity = 0.6080351637561632 ndcg = 0.8894271173659772\n",
            "proses user ke -272 user = 29674 precision = 0.4 diversity = 0.5412706912427303 ndcg = 0.7981010442725658\n",
            "proses user ke -273 user = 61494 precision = 0.25 diversity = 0.629509609666995 ndcg = 0.6733888368883605\n",
            "proses user ke -274 user = 28482 precision = 0.1 diversity = 0.5593103884664197 ndcg = 1.0\n",
            "proses user ke -275 user = 55856 precision = 0.25 diversity = 0.601319453068599 ndcg = 0.755807972184524\n",
            "proses user ke -276 user = 53291 precision = 0.05 diversity = 0.6287402126917301 ndcg = 0.23137821315975915\n",
            "proses user ke -277 user = 15838 precision = 0.05 diversity = 0.6494757304626269 ndcg = 0.6309297535714575\n",
            "proses user ke -278 user = 66478 precision = 0.25 diversity = 0.5473734291255086 ndcg = 0.7030248303664266\n",
            "proses user ke -279 user = 30703 precision = 0.3 diversity = 0.6183865429062685 ndcg = 0.9220341610561067\n",
            "proses user ke -280 user = 11078 precision = 0.15 diversity = 0.5911016500224102 ndcg = 0.6922900097773214\n",
            "proses user ke -281 user = 44691 precision = 0.05 diversity = 0.5892385921970005 ndcg = 0.6309297535714575\n",
            "proses user ke -282 user = 10395 precision = 0.2 diversity = 0.6049332310212786 ndcg = 0.853451635790793\n",
            "proses user ke -283 user = 24491 precision = 0.15 diversity = 0.6032681248028622 ndcg = 0.40651636059406343\n",
            "proses user ke -284 user = 54269 precision = 0.2 diversity = 0.5834643009323193 ndcg = 0.4669545469777391\n",
            "proses user ke -285 user = 14985 precision = 0.15 diversity = 0.5385274338900551 ndcg = 0.719126571983619\n",
            "proses user ke -286 user = 64161 precision = 0.1 diversity = 0.5861595004573572 ndcg = 0.3377667179999921\n",
            "proses user ke -287 user = 31682 precision = 0.15 diversity = 0.6685519616885833 ndcg = 0.7776375353925027\n",
            "proses user ke -288 user = 65689 precision = 0.15 diversity = 0.6958594103524162 ndcg = 0.4393294179942285\n",
            "proses user ke -289 user = 38774 precision = 0.15 diversity = 0.5956180057789672 ndcg = 0.8826803184943108\n",
            "proses user ke -290 user = 53550 precision = 0.0 diversity = 0.599896634206136 ndcg = 0\n",
            "proses user ke -291 user = 52291 precision = 0.4 diversity = 0.599395837150094 ndcg = 0.6560729112094189\n",
            "proses user ke -292 user = 7571 precision = 0.2 diversity = 0.5260810120658876 ndcg = 0.9828920819566879\n",
            "proses user ke -293 user = 23349 precision = 0.15 diversity = 0.6054074542056377 ndcg = 0.3901717387207673\n",
            "proses user ke -294 user = 36406 precision = 0.2 diversity = 0.6245179480937271 ndcg = 0.6665048698100113\n",
            "proses user ke -295 user = 58150 precision = 0.15 diversity = 0.6793592768900785 ndcg = 0.562980547932548\n",
            "proses user ke -296 user = 29326 precision = 0.05 diversity = 0.5531898159126598 ndcg = 0.23981246656813146\n",
            "proses user ke -297 user = 26901 precision = 0.0 diversity = 0.6146723594847248 ndcg = 0\n",
            "proses user ke -298 user = 11248 precision = 0.1 diversity = 0.5944941679444385 ndcg = 0.405937024438585\n",
            "proses user ke -299 user = 47724 precision = 0.1 diversity = 0.5814562857736854 ndcg = 0.7741900178546666\n",
            "proses user ke -300 user = 8631 precision = 0.1 diversity = 0.6908400422887195 ndcg = 0.31798276946713805\n"
          ]
        }
      ]
    },
    {
      "cell_type": "code",
      "source": [
        "print(f\"Precision{k}: {np.mean(all_precision)}\")\n",
        "print(f\"Diversity@{k}: {np.mean(all_diversity)}\")\n",
        "print(f\"NDCG@{k}: {np.mean(all_ndcg)}\")"
      ],
      "metadata": {
        "colab": {
          "base_uri": "https://localhost:8080/"
        },
        "id": "1KAeQ6c3ex58",
        "outputId": "d6239e00-345c-4461-b8d3-469735948726"
      },
      "execution_count": null,
      "outputs": [
        {
          "output_type": "stream",
          "name": "stdout",
          "text": [
            "Precision20: 0.17616666666666664\n",
            "Diversity@20: 0.5914255061376474\n",
            "NDCG@20: 0.6003221567743854\n"
          ]
        }
      ]
    },
    {
      "cell_type": "markdown",
      "source": [
        "## Visualisasi Evaluasi setiap metrik"
      ],
      "metadata": {
        "id": "LJjl6letpevj"
      }
    },
    {
      "cell_type": "code",
      "source": [
        "plt.figure(figsize=(15, 5))\n",
        "\n",
        "plt.subplot(1, 3, 1)\n",
        "sns.histplot(all_ndcg, kde=True, bins=10, color='blue')\n",
        "plt.title('Distribusi NDCG')\n",
        "plt.xlabel('NDCG')\n",
        "plt.ylabel('Frekuensi')\n",
        "\n",
        "plt.subplot(1, 3, 2)\n",
        "sns.histplot(all_precision, kde=True, bins=10, color='green')\n",
        "plt.title('Distribusi Precision')\n",
        "plt.xlabel('Precision')\n",
        "plt.ylabel('Frekuensi')\n",
        "\n",
        "plt.subplot(1, 3, 3)\n",
        "sns.histplot(all_diversity, kde=True, bins=10, color='purple')\n",
        "plt.title('Distribusi Diversity')\n",
        "plt.xlabel('Diversity')\n",
        "plt.ylabel('Frekuensi')\n",
        "\n",
        "plt.tight_layout()\n",
        "plt.show()"
      ],
      "metadata": {
        "colab": {
          "base_uri": "https://localhost:8080/",
          "height": 507
        },
        "id": "qIX7gwC1htbc",
        "outputId": "0a5efd3b-bca0-4509-d77b-66feeddd6dbb"
      },
      "execution_count": null,
      "outputs": [
        {
          "output_type": "display_data",
          "data": {
            "text/plain": [
              "<Figure size 1500x500 with 3 Axes>"
            ],
            "image/png": "[encoded data removed]"
          },
          "metadata": {}
        }
      ]
    }
  ],
  "metadata": {
    "accelerator": "TPU",
    "colab": {
      "gpuType": "V28",
      "provenance": [],
      "toc_visible": true
    },
    "kernelspec": {
      "display_name": "Python 3",
      "name": "python3"
    },
    "language_info": {
      "name": "python"
    }
  },
  "nbformat": 4,
  "nbformat_minor": 0
}